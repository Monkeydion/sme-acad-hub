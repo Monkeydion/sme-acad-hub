{
 "cells": [
  {
   "cell_type": "markdown",
   "metadata": {},
   "source": [
    "#### Prepared by: Joseph Aristotle de Leon\n",
    "#### Checked by: SME Academics Database team\n",
    "#### Initial Publish: January 5, 2021\n",
    "#### Assignment from the class of: Dr. Rennan Baldovino\n",
    "##### Note: Unfortunately, Binder does not support the tkinter library. Hence, it is recommended to download the file, and run it locally on your computer (use jupyterlab/jupyter notebook)"
   ]
  },
  {
   "cell_type": "markdown",
   "metadata": {},
   "source": [
    "# Basic GUI Implementation in Python via Tkinter"
   ]
  },
  {
   "cell_type": "markdown",
   "metadata": {},
   "source": [
    "## Introduction\n",
    "\n",
    "Tkinter is a good library for providing a graphical user interface (GUI) for your python project. In this code, we would be making a basic calculator. \n",
    "\n",
    "The general flow of how the GUI making process is coded is that we:\n",
    "\n",
    "1. Import the tkinter library and other needed libraries\n",
    "2. Create the GUI application main window.\n",
    "3. Declare all variables and functions needed\n",
    "4. Instantiate all the widgets (like buttons, labels, entry boxes) to be added\n",
    "5. Layout the widgets to the main window\n",
    "6. Run the program"
   ]
  },
  {
   "cell_type": "markdown",
   "metadata": {},
   "source": [
    "## Code Design\n",
    "\n",
    "This codeblock imports the tkinter library, as well as instantiates/defines the window, named main, to be displayed.Because a tkinter window has many attributes like its size, background color and many more, we can personally define these to its desired values. "
   ]
  },
  {
   "cell_type": "code",
   "execution_count": 15,
   "metadata": {},
   "outputs": [],
   "source": [
    "from tkinter import *\n",
    "\n",
    "main=Tk()\n",
    "main.title('Calculator')\n",
    "main.resizable(height = False, width = False)\n",
    "main.configure(background='#a2bbcf')"
   ]
  },
  {
   "cell_type": "markdown",
   "metadata": {},
   "source": [
    "We also define the global variables that would be passed in between functions (like the operations). prev_operates stores the operation (addition, multiplication etc) that will be performed, num 1 and num2 are the inputted values to be operated (based on prev_operate), and screen_var is a string variable that will show the complete operation statement (like: 1+1= ) in the screen label (see codeblock for Top Frame). "
   ]
  },
  {
   "cell_type": "code",
   "execution_count": 16,
   "metadata": {},
   "outputs": [],
   "source": [
    "#Globals\n",
    "prev_operate=''\n",
    "num1=0\n",
    "num2=0\n",
    "screen_var=StringVar()"
   ]
  },
  {
   "cell_type": "markdown",
   "metadata": {},
   "source": [
    "This function is used whenever a number button is pressed. It will concatenate the corresponding number to the number entry box named num_entry (see codeblock for Top Frame)."
   ]
  },
  {
   "cell_type": "code",
   "execution_count": 17,
   "metadata": {},
   "outputs": [],
   "source": [
    "def num_append (num):\n",
    "    num_entry.insert(len(num_entry.get()),num)"
   ]
  },
  {
   "cell_type": "markdown",
   "metadata": {},
   "source": [
    "This function performs all the necessary operations namely addition, subtraction, multiplication and division. In general, the first four conditions (if and elifs) is under the condition that only one number is inputted, while the last (equate) if there are already two numbers. \n",
    "\n",
    "The type of operation to perform depends on the operation button pressed. Depending on the operation called, it would get the current number in entry box, store the operation in prev_operate, delete the entry box and prints to the screen the current expression (say if the current number entry is 1 and the operation is addition, then the screen would show 1+ ).\n",
    "\n",
    "If the second number is entered and the equate button is pressed, then it would print the result into the entry box, as well as complete the operation expression in the screen label. "
   ]
  },
  {
   "cell_type": "code",
   "execution_count": 18,
   "metadata": {},
   "outputs": [],
   "source": [
    "def operate(operation):\n",
    "    global prev_operate\n",
    "    global num1\n",
    "    global num2\n",
    "    global screen_var\n",
    "\n",
    "    if operation=='add':\n",
    "        num1=float(num_entry.get()) #get the number from the entry box\n",
    "        prev_operate='add' #save to memory the operaton called\n",
    "        num_entry.delete (0, len(num_entry.get())) #delete the number in the entry box\n",
    "        screen_var.set((str(num1),'+')) #show the expression with only the first number and the operation; ie {num1} +\n",
    "\n",
    "    elif operation=='subtract':\n",
    "        num1=float(num_entry.get())\n",
    "        prev_operate='subtract'\n",
    "        num_entry.delete (0, len(num_entry.get()))\n",
    "        screen_var.set((str(num1),'-'))\n",
    "\n",
    "    elif operation=='multiply':\n",
    "        num1=float(num_entry.get())\n",
    "        prev_operate='multiply'\n",
    "        num_entry.delete (0, len(num_entry.get()))\n",
    "        screen_var.set((str(num1),'x'))\n",
    "\n",
    "    elif operation=='divide':\n",
    "        num1=float(num_entry.get())\n",
    "        prev_operate='divide'\n",
    "        num_entry.delete (0, len(num_entry.get()))\n",
    "        screen_var.set((str(num1),'/'))\n",
    "\n",
    "    elif operation=='equate':\n",
    "        num2=float(num_entry.get())               #get the second number\n",
    "        \n",
    "        if prev_operate=='add':                   \n",
    "            result=str(num1)+'+'+str(num2)+'='    #complete the expression\n",
    "            screen_var.set(result)                # print the expression to the screen\n",
    "            num_entry.delete (0, len(num_entry.get())) #remove the second number in the entry box\n",
    "            num_entry.insert(0,str(num1+num2))         #show in the entry box the answer of the operation\n",
    "            \n",
    "        elif prev_operate=='subtract':\n",
    "            result=str(num1)+'-'+str(num2)+'='\n",
    "            screen_var.set(result)\n",
    "            num_entry.delete (0, len(num_entry.get()))\n",
    "            num_entry.insert(0,str(num1-num2))\n",
    "            \n",
    "        elif prev_operate=='multiply':\n",
    "            result=str(num1)+'x'+str(num2)+'='\n",
    "            screen_var.set(result)\n",
    "            num_entry.delete (0, len(num_entry.get()))\n",
    "            num_entry.insert(0,str(num1*num2))\n",
    "            \n",
    "        elif prev_operate=='divide':\n",
    "            if num2 !=0:\n",
    "                result=str(num1)+'/'+str(num2)+'='\n",
    "                screen_var.set(result)\n",
    "                num_entry.delete (0, len(num_entry.get()))\n",
    "                num_entry.insert(0,str(num1/num2))\n",
    "            else:\n",
    "                result=str(num1)+'/'+str(num2)+'='           #special condition if the divisor is 0\n",
    "                screen_var.set(result)\n",
    "                num_entry.delete (0, len(num_entry.get()))\n",
    "                num_entry.insert(0,'NaN')"
   ]
  },
  {
   "cell_type": "markdown",
   "metadata": {},
   "source": [
    "This function is used when the negate button is pressed. It checks if the left most character in the entry box is '-'. If yes, then it is deleted, else, we add '-' to the leftmost position of the entry box."
   ]
  },
  {
   "cell_type": "code",
   "execution_count": 19,
   "metadata": {},
   "outputs": [],
   "source": [
    "def negate():\n",
    "    if num_entry.get()[0]!='-':\n",
    "        num_entry.insert(0,'-')\n",
    "    else:\n",
    "        num_entry.delete(0)"
   ]
  },
  {
   "cell_type": "markdown",
   "metadata": {},
   "source": [
    "This function is used to clear or reset all the global variables, as well as any text entries in both the entry box and screen label. "
   ]
  },
  {
   "cell_type": "code",
   "execution_count": 20,
   "metadata": {},
   "outputs": [],
   "source": [
    "def clear():\n",
    "    global prev_operate\n",
    "    global num1\n",
    "    global num2\n",
    "    global screen_var\n",
    "\n",
    "    prev_operate=''\n",
    "    num1=0\n",
    "    num2=0\n",
    "    screen_var.set('')\n",
    "    num_entry.delete (0, len(num_entry.get()))"
   ]
  },
  {
   "cell_type": "markdown",
   "metadata": {},
   "source": [
    "This function is used to delete the rightmostcharacter in the entrybox."
   ]
  },
  {
   "cell_type": "code",
   "execution_count": 21,
   "metadata": {},
   "outputs": [],
   "source": [
    "def back():\n",
    "    num_entry.delete (len(num_entry.get())-1)"
   ]
  },
  {
   "cell_type": "markdown",
   "metadata": {},
   "source": [
    "To make the layout of the calculator easy to follow, we define the frames or divisions. The result_Frame holds both the result screen and entry box, while the button_Frame contains all the buttons needed.\n",
    "\n",
    "Notice that the general format in declating a widget is to define which window to place it (in this case we place them into main), as well as the other necessary atributes that would change the appearance of the widgets. "
   ]
  },
  {
   "cell_type": "code",
   "execution_count": 22,
   "metadata": {},
   "outputs": [],
   "source": [
    "#Frames\n",
    "result_Frame=Frame(main,bg='#a2bbcf')\n",
    "result_Frame.pack(pady=4)\n",
    "\n",
    "button_Frame=Frame(main,bg='#a2bbcf')\n",
    "button_Frame.pack()"
   ]
  },
  {
   "cell_type": "markdown",
   "metadata": {},
   "source": [
    "We declare all the widgets that are inside the result_Frame namely the screen, which stores the expressions, and num_entry, where the numbers are inputted. \n",
    "\n",
    "Take note that instead of placing it into the main window, we place it into the result_Frame since the said frame is a part of the main window. \n",
    "\n",
    "To further see the point of having to declare the frames, delete the frames block and make every thing under the main window (by replacing the first argument of every widget to main; for example, change the declaration of the screen to screen=Label(main, ...))"
   ]
  },
  {
   "cell_type": "code",
   "execution_count": 23,
   "metadata": {},
   "outputs": [],
   "source": [
    "#Top Frame\n",
    "screen=Label(result_Frame,textvariable=screen_var,anchor=\"se\",width=30,height=3,font='Verdana 12',bg='#a2bbcf')\n",
    "num_entry=Entry(result_Frame,w=15,justify=RIGHT,font='Verdana 25')"
   ]
  },
  {
   "cell_type": "markdown",
   "metadata": {},
   "source": [
    "We declare all the buttons needed. Namely, we have the number and decimal buttons which append the corresponding number/character to the entry box via the num_append function, and the operation buttons that perform the necessary operations, either via the operate, clear,back and negate function.\n",
    "\n",
    "It is important to note that every button used is tied to a function declared above. "
   ]
  },
  {
   "cell_type": "code",
   "execution_count": 24,
   "metadata": {},
   "outputs": [],
   "source": [
    "#Button Frame\n",
    "button0=Button(button_Frame, text='0',command=lambda:num_append(0),width=5,height=2,bg='#205b7a',font='Verdana 15')\n",
    "button1=Button(button_Frame, text='1',command=lambda:num_append(1),width=5,height=2,bg='#205b7a',font='Verdana 15')\n",
    "button2=Button(button_Frame, text='2',command=lambda:num_append(2),width=5,height=2,bg='#205b7a',font='Verdana 15')\n",
    "button3=Button(button_Frame, text='3',command=lambda:num_append(3),width=5,height=2,bg='#205b7a',font='Verdana 15')\n",
    "button4=Button(button_Frame, text='4',command=lambda:num_append(4),width=5,height=2,bg='#205b7a',font='Verdana 15')\n",
    "button5=Button(button_Frame, text='5',command=lambda:num_append(5),width=5,height=2,bg='#205b7a',font='Verdana 15')\n",
    "button6=Button(button_Frame, text='6',command=lambda:num_append(6),width=5,height=2,bg='#205b7a',font='Verdana 15')\n",
    "button7=Button(button_Frame, text='7',command=lambda:num_append(7),width=5,height=2,bg='#205b7a',font='Verdana 15')\n",
    "button8=Button(button_Frame, text='8',command=lambda:num_append(8),width=5,height=2,bg='#205b7a',font='Verdana 15')\n",
    "button9=Button(button_Frame, text='9',command=lambda:num_append(9),width=5,height=2,bg='#205b7a',font='Verdana 15')\n",
    "\n",
    "button_add=Button(button_Frame, text='+',command=lambda:operate('add'),width=5,height=2,bg='#205b7a',font='Verdana 15')\n",
    "button_subtract=Button(button_Frame, text='-',command=lambda:operate('subtract'),width=5,height=2,bg='#205b7a',font='Verdana 15')\n",
    "button_multiply=Button(button_Frame, text='x',command=lambda:operate('multiply'),width=5,height=2,bg='#205b7a',font='Verdana 15')\n",
    "button_divide=Button(button_Frame, text='/',command=lambda:operate('divide'),width=5,height=2,bg='#205b7a',font='Verdana 15')\n",
    "button_equate=Button(button_Frame, text='=',command=lambda:operate('equate'),width=5,height=2,bg='#205b7a',font='Verdana 15')\n",
    "\n",
    "button_extra=Button(button_Frame, text=':-)',width=5,height=2,bg='#205b7a',font='Verdana 15') # this is just an extra button :-)\n",
    "button_clear=Button(button_Frame, text='C',command=clear,width=5,height=2,bg='#205b7a',font='Verdana 15')\n",
    "button_back=Button(button_Frame, text='~',command=back,width=5,height=2,bg='#205b7a',font='Verdana 15')\n",
    "button_negate=Button(button_Frame, text='+/-',command=negate,width=5,height=2,bg='#205b7a',font='Verdana 15')\n",
    "button_decimal=Button(button_Frame, text='.',command=lambda:num_append('.'),width=5,height=2,bg='#205b7a',font='Verdana 15')"
   ]
  },
  {
   "cell_type": "markdown",
   "metadata": {},
   "source": [
    "Once all the widgets are declared, we define the layout of how all of these are to be placed into the main window. Without this step, the widgets would not be shown in the main window.\n",
    "\n",
    "In this code, we used the grid layout where each widget are to be placed to a corresponding cell in the defined grid. "
   ]
  },
  {
   "cell_type": "code",
   "execution_count": 25,
   "metadata": {},
   "outputs": [],
   "source": [
    "#Layout\n",
    "screen.grid(row=0)\n",
    "num_entry.grid(row=1)\n",
    "\n",
    "button_extra.grid(row=0,column=0,padx=1,pady=1)\n",
    "button_clear.grid(row=0,column=1,padx=1,pady=1)\n",
    "button_back.grid(row=0,column=2,padx=1,pady=1)\n",
    "button_divide.grid(row=0,column=3,padx=1,pady=1)\n",
    "\n",
    "button7.grid(row=1,column=0,padx=1,pady=1)\n",
    "button8.grid(row=1,column=1,padx=1,pady=1)\n",
    "button9.grid(row=1,column=2,padx=1,pady=1)\n",
    "button_multiply.grid(row=1,column=3,padx=1,pady=1)\n",
    "\n",
    "button4.grid(row=2,column=0,padx=1,pady=1)\n",
    "button5.grid(row=2,column=1,padx=1,pady=1)\n",
    "button6.grid(row=2,column=2,padx=1,pady=1)\n",
    "button_subtract.grid(row=2,column=3,padx=1,pady=1)\n",
    "\n",
    "button1.grid(row=3,column=0,padx=1,pady=1)\n",
    "button2.grid(row=3,column=1,padx=1,pady=1)\n",
    "button3.grid(row=3,column=2,padx=1,pady=1)\n",
    "button_add.grid(row=3,column=3,padx=1,pady=1)\n",
    "\n",
    "button_negate.grid(row=4,column=0,padx=1,pady=1)\n",
    "button0.grid(row=4,column=1,padx=1,pady=1)\n",
    "button_decimal.grid(row=4,column=2,padx=1,pady=1)\n",
    "button_equate.grid(row=4,column=3,padx=1,pady=1)"
   ]
  },
  {
   "cell_type": "markdown",
   "metadata": {},
   "source": [
    "Once everything is done, we run everything through the code block below and see the calculator that we just made."
   ]
  },
  {
   "cell_type": "code",
   "execution_count": 26,
   "metadata": {},
   "outputs": [],
   "source": [
    "#Run\n",
    "main.mainloop()"
   ]
  }
 ],
 "metadata": {
  "kernelspec": {
   "display_name": "Python 3",
   "language": "python",
   "name": "python3"
  },
  "language_info": {
   "codemirror_mode": {
    "name": "ipython",
    "version": 3
   },
   "file_extension": ".py",
   "mimetype": "text/x-python",
   "name": "python",
   "nbconvert_exporter": "python",
   "pygments_lexer": "ipython3",
   "version": "3.8.3"
  }
 },
 "nbformat": 4,
 "nbformat_minor": 4
}
