{
 "cells": [
  {
   "cell_type": "markdown",
   "metadata": {},
   "source": [
    "# Computational Intelligence in Manufacturing Systems\n",
    "# MFAIMFG\n",
    "#### Created by: Joseph Aristotle de Leon\n",
    "#### Submitted to: Dr. Robert Kerwin Billones\n",
    "#### Date Created: November 8, 2020\n",
    "#### Date Revised: November 21, 2020"
   ]
  },
  {
   "cell_type": "markdown",
   "metadata": {},
   "source": [
    "# Machine Learning Exercise 2 - Logistic Regression"
   ]
  },
  {
   "cell_type": "markdown",
   "metadata": {},
   "source": [
    "## INTRODUCTION\n",
    "\n",
    "In contrast to linear regression, logistic regression is fitting the data in a logistic function (commonly the sigmoid function). Data is being fit in the logistic function not to predict/estimate the expected/target value that are continous in nature but to classify into distinct labels/classifications. That is why the data that we will be working on have target values that are either 1 or 0 (accepted or rejected respectively).  \n",
    "\n",
    "In this activity, we will be dealing with data that can be classified and separated with a linear line and with complex lines like circles. For the first data, it deals with classifying a pass/fail given two exam scores of each student. The second data is about classifying microchips as accepted/rejected based on the outputs of two quality assurance tests. "
   ]
  },
  {
   "cell_type": "markdown",
   "metadata": {},
   "source": [
    "## CODE DESIGN"
   ]
  },
  {
   "cell_type": "markdown",
   "metadata": {},
   "source": [
    "To start, the codeblock below imports the necessary libraries to assist us in implementing linear regression in python.\n",
    "\n",
    "Numpy (or Numerical Python) is responsible for handling mathmatical operations of matrices which include addition, multiplication, transposition and other matrix manipulations. It is worth noting that the data we are working on is represented as a matrix, where the columns represent the features and its corresponding output value, while the rows contain the sample/instance points.\n",
    "\n",
    "Pandas is imported so that data from an external file (in this case we use csv data) can be accessed and manipulated within the python program. It is mainly used for data analysis (descriptive statistics).\n",
    "\n",
    "Matplotlib is used to visualize data. In the context of this activity, matplotlib creates a scatter plot to map the input(X) and output(y) values of each sample point. Additionally, we could also embed a line to the scatter plot to show regression line that best fits/generalizes the data points. "
   ]
  },
  {
   "cell_type": "code",
   "execution_count": 2,
   "metadata": {},
   "outputs": [],
   "source": [
    "import numpy as np\n",
    "import pandas as pd\n",
    "import matplotlib.pyplot as plt\n",
    "%matplotlib inline"
   ]
  },
  {
   "cell_type": "markdown",
   "metadata": {},
   "source": [
    "We copy the data that we intend to work on into the python program. \n",
    "\n",
    "We need first to specify the file (and its file path) that we would access. The os library is also imported in order to determine the current working path (through the .getcwd() method), which can be appended to the file name of the data. \n",
    "\n",
    "Then we use pandas method .read_csv() to copy the data from the text file to the variable named data. Doing this makes the datatype of the variable data into a dataframe. The arguments needed by this pandas method are the path location and ,as an option, the column names which are in a list. \n",
    "\n",
    "To verify that the data from the file is transferred to the program, we call data.head() to show the values of the top 5 samples. The format of presenting the data is almost similar to that of Excel. "
   ]
  },
  {
   "cell_type": "code",
   "execution_count": 3,
   "metadata": {},
   "outputs": [
    {
     "data": {
      "text/html": [
       "<div>\n",
       "<style scoped>\n",
       "    .dataframe tbody tr th:only-of-type {\n",
       "        vertical-align: middle;\n",
       "    }\n",
       "\n",
       "    .dataframe tbody tr th {\n",
       "        vertical-align: top;\n",
       "    }\n",
       "\n",
       "    .dataframe thead th {\n",
       "        text-align: right;\n",
       "    }\n",
       "</style>\n",
       "<table border=\"1\" class=\"dataframe\">\n",
       "  <thead>\n",
       "    <tr style=\"text-align: right;\">\n",
       "      <th></th>\n",
       "      <th>Exam 1</th>\n",
       "      <th>Exam 2</th>\n",
       "      <th>Admitted</th>\n",
       "    </tr>\n",
       "  </thead>\n",
       "  <tbody>\n",
       "    <tr>\n",
       "      <th>0</th>\n",
       "      <td>34.623660</td>\n",
       "      <td>78.024693</td>\n",
       "      <td>0</td>\n",
       "    </tr>\n",
       "    <tr>\n",
       "      <th>1</th>\n",
       "      <td>30.286711</td>\n",
       "      <td>43.894998</td>\n",
       "      <td>0</td>\n",
       "    </tr>\n",
       "    <tr>\n",
       "      <th>2</th>\n",
       "      <td>35.847409</td>\n",
       "      <td>72.902198</td>\n",
       "      <td>0</td>\n",
       "    </tr>\n",
       "    <tr>\n",
       "      <th>3</th>\n",
       "      <td>60.182599</td>\n",
       "      <td>86.308552</td>\n",
       "      <td>1</td>\n",
       "    </tr>\n",
       "    <tr>\n",
       "      <th>4</th>\n",
       "      <td>79.032736</td>\n",
       "      <td>75.344376</td>\n",
       "      <td>1</td>\n",
       "    </tr>\n",
       "  </tbody>\n",
       "</table>\n",
       "</div>"
      ],
      "text/plain": [
       "      Exam 1     Exam 2  Admitted\n",
       "0  34.623660  78.024693         0\n",
       "1  30.286711  43.894998         0\n",
       "2  35.847409  72.902198         0\n",
       "3  60.182599  86.308552         1\n",
       "4  79.032736  75.344376         1"
      ]
     },
     "execution_count": 3,
     "metadata": {},
     "output_type": "execute_result"
    }
   ],
   "source": [
    "import os\n",
    "path = os.getcwd() + '\\ex2data1.txt'\n",
    "data = pd.read_csv(path, header=None, names=['Exam 1', 'Exam 2', 'Admitted'])\n",
    "data.head()"
   ]
  },
  {
   "cell_type": "markdown",
   "metadata": {},
   "source": [
    "It is a good idea to visualize first the data that we are working on. We first separate the sample points based on their target outputs which are positive (denoted by 1) and negative (denoted by 0). The first two lines are responsible for this where the sample points are saved either to 'positive' or 'negative'.\n",
    "\n",
    "Then we create a scatter plot using these two variables. As we can see, we could create a line going down to separate the positives to the negatives. The problem is knowing the equation of the line that best separates the sample points."
   ]
  },
  {
   "cell_type": "code",
   "execution_count": 4,
   "metadata": {},
   "outputs": [
    {
     "name": "stdout",
     "output_type": "stream",
     "text": [
      "       Exam 1     Exam 2  Admitted\n",
      "3   60.182599  86.308552         1\n",
      "4   79.032736  75.344376         1\n",
      "6   61.106665  96.511426         1\n",
      "7   75.024746  46.554014         1\n",
      "8   76.098787  87.420570         1\n",
      "9   84.432820  43.533393         1\n",
      "12  82.307053  76.481963         1\n",
      "13  69.364589  97.718692         1\n",
      "15  53.971052  89.207350         1\n",
      "16  69.070144  52.740470         1\n",
      "18  70.661510  92.927138         1\n",
      "19  76.978784  47.575964         1\n",
      "21  89.676776  65.799366         1\n",
      "24  77.924091  68.972360         1\n",
      "25  62.271014  69.954458         1\n",
      "26  80.190181  44.821629         1\n",
      "30  61.379289  72.807887         1\n",
      "31  85.404519  57.051984         1\n",
      "33  52.045405  69.432860         1\n",
      "37  64.176989  80.908061         1\n",
      "40  83.902394  56.308046         1\n",
      "42  94.443368  65.568922         1\n",
      "46  77.193035  70.458200         1\n",
      "47  97.771599  86.727822         1\n",
      "48  62.073064  96.768824         1\n",
      "49  91.564974  88.696293         1\n",
      "50  79.944818  74.163119         1\n",
      "51  99.272527  60.999031         1\n",
      "52  90.546714  43.390602         1\n",
      "56  97.645634  68.861573         1\n",
      "58  74.248691  69.824571         1\n",
      "59  71.796462  78.453562         1\n",
      "60  75.395611  85.759937         1\n",
      "66  40.457551  97.535185         1\n",
      "68  80.279574  92.116061         1\n",
      "69  66.746719  60.991394         1\n",
      "71  64.039320  78.031688         1\n",
      "72  72.346494  96.227593         1\n",
      "73  60.457886  73.094998         1\n",
      "74  58.840956  75.858448         1\n",
      "75  99.827858  72.369252         1\n",
      "76  47.264269  88.475865         1\n",
      "77  50.458160  75.809860         1\n",
      "80  88.913896  69.803789         1\n",
      "81  94.834507  45.694307         1\n",
      "82  67.319257  66.589353         1\n",
      "83  57.238706  59.514282         1\n",
      "84  80.366756  90.960148         1\n",
      "85  68.468522  85.594307         1\n",
      "87  75.477702  90.424539         1\n",
      "88  78.635424  96.647427         1\n",
      "90  94.094331  77.159105         1\n",
      "91  90.448551  87.508792         1\n",
      "93  74.492692  84.845137         1\n",
      "94  89.845807  45.358284         1\n",
      "95  83.489163  48.380286         1\n",
      "96  42.261701  87.103851         1\n",
      "97  99.315009  68.775409         1\n",
      "98  55.340018  64.931938         1\n",
      "99  74.775893  89.529813         1\n"
     ]
    },
    {
     "data": {
      "text/plain": [
       "Text(0, 0.5, 'Exam 2 Score')"
      ]
     },
     "execution_count": 4,
     "metadata": {},
     "output_type": "execute_result"
    },
    {
     "data": {
      "image/png": "[encoded data removed]",
      "text/plain": [
       "<Figure size 864x576 with 1 Axes>"
      ]
     },
     "metadata": {
      "needs_background": "light"
     },
     "output_type": "display_data"
    }
   ],
   "source": [
    "positive = data[data['Admitted'].isin([1])]\n",
    "negative = data[data['Admitted'].isin([0])]\n",
    "print(positive)\n",
    "fig, ax = plt.subplots(figsize=(12,8))\n",
    "ax.scatter(positive['Exam 1'], positive['Exam 2'], s=50, c='b', marker='o', label='Admitted')\n",
    "ax.scatter(negative['Exam 1'], negative['Exam 2'], s=50, c='r', marker='x', label='Not Admitted')\n",
    "ax.legend()\n",
    "ax.set_xlabel('Exam 1 Score')\n",
    "ax.set_ylabel('Exam 2 Score')"
   ]
  },
  {
   "cell_type": "markdown",
   "metadata": {},
   "source": [
    "We first define a function called sigmoid to compute the sigmoid value of the input. The input (z) would be the computed value for the line equation (with the input features and parameters). We use a sigmoid function so that we can easily separate the computed values to either positive (1) or negative (0). \n",
    "\n",
    "<img src=\"files/sigmoid.png\" width=\"200\" height=\"200\" align=\"center\"/>\n"
   ]
  },
  {
   "cell_type": "code",
   "execution_count": 4,
   "metadata": {},
   "outputs": [],
   "source": [
    "def sigmoid(z):\n",
    "    return 1 / (1 + np.exp(-z))"
   ]
  },
  {
   "cell_type": "markdown",
   "metadata": {},
   "source": [
    "To better visualize what a sigmoid function look, we run the following code below where we compute the sigmoid value of each input within the set range. One feature of the fucntion is that it platues at 0 and 1 (which is why its used to designate the positives to the negatives).  "
   ]
  },
  {
   "cell_type": "code",
   "execution_count": 5,
   "metadata": {},
   "outputs": [
    {
     "data": {
      "text/plain": [
       "[<matplotlib.lines.Line2D at 0x1860057cac0>]"
      ]
     },
     "execution_count": 5,
     "metadata": {},
     "output_type": "execute_result"
    },
    {
     "data": {
      "image/png": "[encoded data removed]",
      "text/plain": [
       "<Figure size 864x576 with 1 Axes>"
      ]
     },
     "metadata": {
      "needs_background": "light"
     },
     "output_type": "display_data"
    }
   ],
   "source": [
    "nums = np.arange(-10, 10, step=1)\n",
    "\n",
    "fig, ax = plt.subplots(figsize=(12,8))\n",
    "ax.plot(nums, sigmoid(nums), 'r')"
   ]
  },
  {
   "cell_type": "markdown",
   "metadata": {},
   "source": [
    "In this linear regression problem, we would be using the cross entropy loss function defined by the equation below:\n",
    "\n",
    "<img src=\"files/cross entropy loss.png\" width=\"500\" height=\"500\" align=\"center\"/>\n",
    "\n",
    "This loss function is used because it incentivizes (prefers) set of parameters that would result in computed values that are very near to 0 and 1 (the target values). Intuitively, if the left most term would cancel out if the target value of a sample point is 0, and the right most value would cancel out if the target is 1. \n",
    "\n",
    "In the code below, we create the function cost that computes for the cross entropy loss. The first variable holds the values that are computed from the left most term of the equation, while the second is the right term. Then we finalize solution by taking the average of the difference between the first and second variable. \n",
    "    \n"
   ]
  },
  {
   "cell_type": "code",
   "execution_count": 6,
   "metadata": {},
   "outputs": [],
   "source": [
    "def cost(theta, X, y):\n",
    "    theta = np.matrix(theta)\n",
    "    X = np.matrix(X)\n",
    "    y = np.matrix(y)\n",
    "    first = np.multiply(-y, np.log(sigmoid(X * theta.T)))\n",
    "    second = np.multiply((1 - y), np.log(1 - sigmoid(X * theta.T)))\n",
    "    return np.sum(first - second) / (len(X))"
   ]
  },
  {
   "cell_type": "markdown",
   "metadata": {},
   "source": [
    "Just like what we did in the linear regression problem, we need to add an extraneous feature of ones to satify the matrix operation rules. This is multiplied with the value of the intercept"
   ]
  },
  {
   "cell_type": "code",
   "execution_count": 7,
   "metadata": {},
   "outputs": [],
   "source": [
    "data.insert(0, 'Ones', 1)"
   ]
  },
  {
   "cell_type": "markdown",
   "metadata": {},
   "source": [
    "We define the features and target outputs from the sample points into X and y respectively. "
   ]
  },
  {
   "cell_type": "code",
   "execution_count": 8,
   "metadata": {},
   "outputs": [],
   "source": [
    "cols = data.shape[1]\n",
    "X = data.iloc[:,0:cols-1]\n",
    "y = data.iloc[:,cols-1:cols]"
   ]
  },
  {
   "cell_type": "markdown",
   "metadata": {},
   "source": [
    "We convert the values, which are in a dtaframe datatype, to a numpy array so that matrix operations can be performed. Likewise, we initialize the set of parameters to all zeros."
   ]
  },
  {
   "cell_type": "code",
   "execution_count": 9,
   "metadata": {},
   "outputs": [],
   "source": [
    "X = np.array(X.values)\n",
    "y = np.array(y.values)\n",
    "theta = np.zeros(3)"
   ]
  },
  {
   "cell_type": "markdown",
   "metadata": {},
   "source": [
    "We check the dimmensions of the matrices to know if we follow the rules of its matrix operations. As we can see, the multiplication between the features and parameters can be performed."
   ]
  },
  {
   "cell_type": "code",
   "execution_count": 10,
   "metadata": {},
   "outputs": [
    {
     "data": {
      "text/plain": [
       "((100, 3), (3,), (100, 1))"
      ]
     },
     "execution_count": 10,
     "metadata": {},
     "output_type": "execute_result"
    }
   ],
   "source": [
    "X.shape, theta.shape, y.shape"
   ]
  },
  {
   "cell_type": "markdown",
   "metadata": {},
   "source": [
    "We check first the initial value of the cost by callng the cost() function that we defined. At the start, the cost value is 0.69"
   ]
  },
  {
   "cell_type": "code",
   "execution_count": 11,
   "metadata": {},
   "outputs": [
    {
     "data": {
      "text/plain": [
       "0.6931471805599453"
      ]
     },
     "execution_count": 11,
     "metadata": {},
     "output_type": "execute_result"
    }
   ],
   "source": [
    "cost(theta, X, y)"
   ]
  },
  {
   "cell_type": "markdown",
   "metadata": {},
   "source": [
    "In order to minimize the cost value, we define the function for the gradient descent called gradient(). In this function, it would dictate the value and direction (in terms of sign) of the value that must be added to the parameters to achieve the optimal solution. Getting the equation of the gradient is based on the differentiation of the cost function. "
   ]
  },
  {
   "cell_type": "code",
   "execution_count": 12,
   "metadata": {},
   "outputs": [],
   "source": [
    "def gradient(theta, X, y):\n",
    "    theta = np.matrix(theta)\n",
    "    X = np.matrix(X)\n",
    "    y = np.matrix(y)\n",
    "    \n",
    "    parameters = int(theta.ravel().shape[1])\n",
    "    grad = np.zeros(parameters)\n",
    "    \n",
    "    error = sigmoid(X * theta.T) - y\n",
    "    \n",
    "    for i in range(parameters):\n",
    "        term = np.multiply(error, X[:,i])\n",
    "        grad[i] = np.sum(term) / len(X)\n",
    "    \n",
    "    return grad"
   ]
  },
  {
   "cell_type": "markdown",
   "metadata": {},
   "source": [
    "We call the gradient function. It outputs the values that must be added to the parameters. "
   ]
  },
  {
   "cell_type": "code",
   "execution_count": 13,
   "metadata": {},
   "outputs": [
    {
     "data": {
      "text/plain": [
       "array([ -0.1       , -12.00921659, -11.26284221])"
      ]
     },
     "execution_count": 13,
     "metadata": {},
     "output_type": "execute_result"
    }
   ],
   "source": [
    "gradient(theta, X, y)"
   ]
  },
  {
   "cell_type": "markdown",
   "metadata": {},
   "source": [
    "In order to perform gradient descent until the global minima of the cost value is obtained, we use the optimizer function of the scipy library. Specifically, we use the fmin_tnc method or the Truncated Newton algorithm that takes in the arguments the cost function, set of parameters, the gradient function and the sample points. \n",
    "\n",
    "The output is an array that contains the set of the optimized parameters which are [-25.16131872,   0.20623159,   0.20147149], the number of iterations that the optimizer take which is 36, and the return code which dictates if the optimization is a succces. Since it returns a 0, It means it has only reached a local minima. "
   ]
  },
  {
   "cell_type": "code",
   "execution_count": 14,
   "metadata": {},
   "outputs": [
    {
     "data": {
      "text/plain": [
       "(array([-25.16131872,   0.20623159,   0.20147149]), 36, 0)"
      ]
     },
     "execution_count": 14,
     "metadata": {},
     "output_type": "execute_result"
    }
   ],
   "source": [
    "import scipy.optimize as opt\n",
    "result = opt.fmin_tnc(func=cost, x0=theta, fprime=gradient, args=(X, y))\n",
    "result"
   ]
  },
  {
   "cell_type": "markdown",
   "metadata": {},
   "source": [
    "We see the value of the cost, which is 0.20, for the provided parameters by the optimization library."
   ]
  },
  {
   "cell_type": "code",
   "execution_count": 15,
   "metadata": {},
   "outputs": [
    {
     "data": {
      "text/plain": [
       "0.20349770158947425"
      ]
     },
     "execution_count": 15,
     "metadata": {},
     "output_type": "execute_result"
    }
   ],
   "source": [
    "cost(result[0], X, y)"
   ]
  },
  {
   "cell_type": "markdown",
   "metadata": {},
   "source": [
    "To obtain the accuracy of the optimization, we first define a function called predict() that would provided the computed value of the sample points based on the set of parameters that was found out.  "
   ]
  },
  {
   "cell_type": "code",
   "execution_count": 16,
   "metadata": {},
   "outputs": [],
   "source": [
    "def predict(theta, X):\n",
    "    probability = sigmoid(X * theta.T)\n",
    "    return [1 if x >= 0.5 else 0 for x in probability]"
   ]
  },
  {
   "cell_type": "markdown",
   "metadata": {},
   "source": [
    "The predict() function was used and we tally all correct predictions and store them as 1 in the 'correct' list. The accuracy is total of all correct predictions divided by the total number of sample points. "
   ]
  },
  {
   "cell_type": "code",
   "execution_count": 17,
   "metadata": {},
   "outputs": [
    {
     "name": "stdout",
     "output_type": "stream",
     "text": [
      "accuracy = 89%\n"
     ]
    }
   ],
   "source": [
    "theta_min1 = np.matrix(result[0])\n",
    "predictions = predict(theta_min1, X)\n",
    "correct = [1 if ((a == 1 and b == 1) or (a == 0 and b == 0)) else 0 for (a, b) in zip(predictions, y)]\n",
    "accuracy = (sum(map(int, correct)) % len(correct))\n",
    "print ('accuracy = {0}%'.format(accuracy))"
   ]
  },
  {
   "cell_type": "markdown",
   "metadata": {},
   "source": [
    "We would need to copy the data from the second data file (in text format) to the program. The code is similar to what we did in the precious task, but we need to specify the new file location of the data we would be working on. \n",
    "\n",
    "To verify that we copied the correct data, we call the .head() method. "
   ]
  },
  {
   "cell_type": "code",
   "execution_count": 18,
   "metadata": {},
   "outputs": [
    {
     "data": {
      "text/html": [
       "<div>\n",
       "<style scoped>\n",
       "    .dataframe tbody tr th:only-of-type {\n",
       "        vertical-align: middle;\n",
       "    }\n",
       "\n",
       "    .dataframe tbody tr th {\n",
       "        vertical-align: top;\n",
       "    }\n",
       "\n",
       "    .dataframe thead th {\n",
       "        text-align: right;\n",
       "    }\n",
       "</style>\n",
       "<table border=\"1\" class=\"dataframe\">\n",
       "  <thead>\n",
       "    <tr style=\"text-align: right;\">\n",
       "      <th></th>\n",
       "      <th>Test 1</th>\n",
       "      <th>Test 2</th>\n",
       "      <th>Accepted</th>\n",
       "    </tr>\n",
       "  </thead>\n",
       "  <tbody>\n",
       "    <tr>\n",
       "      <th>0</th>\n",
       "      <td>0.051267</td>\n",
       "      <td>0.69956</td>\n",
       "      <td>1</td>\n",
       "    </tr>\n",
       "    <tr>\n",
       "      <th>1</th>\n",
       "      <td>-0.092742</td>\n",
       "      <td>0.68494</td>\n",
       "      <td>1</td>\n",
       "    </tr>\n",
       "    <tr>\n",
       "      <th>2</th>\n",
       "      <td>-0.213710</td>\n",
       "      <td>0.69225</td>\n",
       "      <td>1</td>\n",
       "    </tr>\n",
       "    <tr>\n",
       "      <th>3</th>\n",
       "      <td>-0.375000</td>\n",
       "      <td>0.50219</td>\n",
       "      <td>1</td>\n",
       "    </tr>\n",
       "    <tr>\n",
       "      <th>4</th>\n",
       "      <td>-0.513250</td>\n",
       "      <td>0.46564</td>\n",
       "      <td>1</td>\n",
       "    </tr>\n",
       "  </tbody>\n",
       "</table>\n",
       "</div>"
      ],
      "text/plain": [
       "     Test 1   Test 2  Accepted\n",
       "0  0.051267  0.69956         1\n",
       "1 -0.092742  0.68494         1\n",
       "2 -0.213710  0.69225         1\n",
       "3 -0.375000  0.50219         1\n",
       "4 -0.513250  0.46564         1"
      ]
     },
     "execution_count": 18,
     "metadata": {},
     "output_type": "execute_result"
    }
   ],
   "source": [
    "path = os.getcwd() + '\\ex2data2.txt'\n",
    "data2 = pd.read_csv(path, header=None, names=['Test 1', 'Test 2', 'Accepted'])\n",
    "data2.head()"
   ]
  },
  {
   "cell_type": "markdown",
   "metadata": {},
   "source": [
    "We visualize the sample points using the following code below (similar to what was done above). \n",
    "\n",
    "As we can see, separating the sample points would not be possible with a straight line only. Instead, we would be needing a best fit line that is one of the conic sections like a circle or an ellipse to separate the accepteds from the rejecteds."
   ]
  },
  {
   "cell_type": "code",
   "execution_count": 19,
   "metadata": {},
   "outputs": [
    {
     "data": {
      "text/plain": [
       "Text(0, 0.5, 'Test 2 Score')"
      ]
     },
     "execution_count": 19,
     "metadata": {},
     "output_type": "execute_result"
    },
    {
     "data": {
      "image/png": "[encoded data removed]",
      "text/plain": [
       "<Figure size 864x576 with 1 Axes>"
      ]
     },
     "metadata": {
      "needs_background": "light"
     },
     "output_type": "display_data"
    }
   ],
   "source": [
    "positive = data2[data2['Accepted'].isin([1])]\n",
    "negative = data2[data2['Accepted'].isin([0])]\n",
    "\n",
    "\n",
    "fig, ax = plt.subplots(figsize=(12,8))\n",
    "ax.scatter(positive['Test 1'], positive['Test 2'], s=50, c='b', marker='o', label='Accepted')\n",
    "ax.scatter(negative['Test 1'], negative['Test 2'], s=50, c='r', marker='x', label='Rejected')\n",
    "ax.legend()\n",
    "ax.set_xlabel('Test 1 Score')\n",
    "ax.set_ylabel('Test 2 Score')"
   ]
  },
  {
   "cell_type": "markdown",
   "metadata": {},
   "source": [
    "Since we are dealing with data that can be best fitted in a circular line, we need an equation that is not linear. This would mean that we need to increase the degree of each feature. Hence, feature mapping is performed. \n",
    "\n",
    "\n",
    "In the code below, aside from adding an additional feature of ones, we also add features that would be equivalent to the nth power of the features. In this case, we added features that takes the following nth value of each feature.\n"
   ]
  },
  {
   "cell_type": "code",
   "execution_count": 20,
   "metadata": {},
   "outputs": [
    {
     "data": {
      "text/html": [
       "<div>\n",
       "<style scoped>\n",
       "    .dataframe tbody tr th:only-of-type {\n",
       "        vertical-align: middle;\n",
       "    }\n",
       "\n",
       "    .dataframe tbody tr th {\n",
       "        vertical-align: top;\n",
       "    }\n",
       "\n",
       "    .dataframe thead th {\n",
       "        text-align: right;\n",
       "    }\n",
       "</style>\n",
       "<table border=\"1\" class=\"dataframe\">\n",
       "  <thead>\n",
       "    <tr style=\"text-align: right;\">\n",
       "      <th></th>\n",
       "      <th>Accepted</th>\n",
       "      <th>Ones</th>\n",
       "      <th>F10</th>\n",
       "      <th>F20</th>\n",
       "      <th>F11</th>\n",
       "      <th>F30</th>\n",
       "      <th>F21</th>\n",
       "      <th>F12</th>\n",
       "      <th>F40</th>\n",
       "      <th>F31</th>\n",
       "      <th>F22</th>\n",
       "      <th>F13</th>\n",
       "    </tr>\n",
       "  </thead>\n",
       "  <tbody>\n",
       "    <tr>\n",
       "      <th>0</th>\n",
       "      <td>1</td>\n",
       "      <td>1</td>\n",
       "      <td>0.051267</td>\n",
       "      <td>0.002628</td>\n",
       "      <td>0.035864</td>\n",
       "      <td>0.000135</td>\n",
       "      <td>0.001839</td>\n",
       "      <td>0.025089</td>\n",
       "      <td>0.000007</td>\n",
       "      <td>0.000094</td>\n",
       "      <td>0.001286</td>\n",
       "      <td>0.017551</td>\n",
       "    </tr>\n",
       "    <tr>\n",
       "      <th>1</th>\n",
       "      <td>1</td>\n",
       "      <td>1</td>\n",
       "      <td>-0.092742</td>\n",
       "      <td>0.008601</td>\n",
       "      <td>-0.063523</td>\n",
       "      <td>-0.000798</td>\n",
       "      <td>0.005891</td>\n",
       "      <td>-0.043509</td>\n",
       "      <td>0.000074</td>\n",
       "      <td>-0.000546</td>\n",
       "      <td>0.004035</td>\n",
       "      <td>-0.029801</td>\n",
       "    </tr>\n",
       "    <tr>\n",
       "      <th>2</th>\n",
       "      <td>1</td>\n",
       "      <td>1</td>\n",
       "      <td>-0.213710</td>\n",
       "      <td>0.045672</td>\n",
       "      <td>-0.147941</td>\n",
       "      <td>-0.009761</td>\n",
       "      <td>0.031616</td>\n",
       "      <td>-0.102412</td>\n",
       "      <td>0.002086</td>\n",
       "      <td>-0.006757</td>\n",
       "      <td>0.021886</td>\n",
       "      <td>-0.070895</td>\n",
       "    </tr>\n",
       "    <tr>\n",
       "      <th>3</th>\n",
       "      <td>1</td>\n",
       "      <td>1</td>\n",
       "      <td>-0.375000</td>\n",
       "      <td>0.140625</td>\n",
       "      <td>-0.188321</td>\n",
       "      <td>-0.052734</td>\n",
       "      <td>0.070620</td>\n",
       "      <td>-0.094573</td>\n",
       "      <td>0.019775</td>\n",
       "      <td>-0.026483</td>\n",
       "      <td>0.035465</td>\n",
       "      <td>-0.047494</td>\n",
       "    </tr>\n",
       "    <tr>\n",
       "      <th>4</th>\n",
       "      <td>1</td>\n",
       "      <td>1</td>\n",
       "      <td>-0.513250</td>\n",
       "      <td>0.263426</td>\n",
       "      <td>-0.238990</td>\n",
       "      <td>-0.135203</td>\n",
       "      <td>0.122661</td>\n",
       "      <td>-0.111283</td>\n",
       "      <td>0.069393</td>\n",
       "      <td>-0.062956</td>\n",
       "      <td>0.057116</td>\n",
       "      <td>-0.051818</td>\n",
       "    </tr>\n",
       "  </tbody>\n",
       "</table>\n",
       "</div>"
      ],
      "text/plain": [
       "   Accepted  Ones       F10       F20       F11       F30       F21       F12  \\\n",
       "0         1     1  0.051267  0.002628  0.035864  0.000135  0.001839  0.025089   \n",
       "1         1     1 -0.092742  0.008601 -0.063523 -0.000798  0.005891 -0.043509   \n",
       "2         1     1 -0.213710  0.045672 -0.147941 -0.009761  0.031616 -0.102412   \n",
       "3         1     1 -0.375000  0.140625 -0.188321 -0.052734  0.070620 -0.094573   \n",
       "4         1     1 -0.513250  0.263426 -0.238990 -0.135203  0.122661 -0.111283   \n",
       "\n",
       "        F40       F31       F22       F13  \n",
       "0  0.000007  0.000094  0.001286  0.017551  \n",
       "1  0.000074 -0.000546  0.004035 -0.029801  \n",
       "2  0.002086 -0.006757  0.021886 -0.070895  \n",
       "3  0.019775 -0.026483  0.035465 -0.047494  \n",
       "4  0.069393 -0.062956  0.057116 -0.051818  "
      ]
     },
     "execution_count": 20,
     "metadata": {},
     "output_type": "execute_result"
    }
   ],
   "source": [
    "degree = 5\n",
    "x1 = data2['Test 1']\n",
    "x2 = data2['Test 2']\n",
    "\n",
    "data2.insert(3, 'Ones', 1)\n",
    "\n",
    "for i in range(1, degree):\n",
    "    for j in range(0, i):\n",
    "        data2['F' + str(i-j) + str(j)] = np.power(x1, i-j) * np.power(x2, j)\n",
    "\n",
    "data2.drop('Test 1', axis=1, inplace=True)\n",
    "data2.drop('Test 2', axis=1, inplace=True)\n",
    "\n",
    "data2.head()"
   ]
  },
  {
   "cell_type": "markdown",
   "metadata": {},
   "source": [
    "One problem with adding more feature is that it is susceptible for the best fit line to overfit the sample points, which means that the line would try to capture the very exact shape of how the data is seen to be separated. This is a problem if new samples are introduced which may predict for an incorrect value/classification. \n",
    "\n",
    "To avoid overfitting, we add a penalty/regularizer to the cost function that we used earlier. In the code we name a variable called 'reg' that would be the sum of all the parameters squared (expect the ones). The idea behind it is that it would minimize the value of some parameters (be near 0) so that it would have a minimal effect on the prediction. If all parameters have a relatively high weight value, the cost value would be high. We need to minimize the cost value and one way to do it is to root out some of the parameters. \n",
    "\n",
    "In this code, L2 regularization was used (because the parameters are squared). The equation of the cost function with the regularizer is shown below.\n",
    "\n",
    "<img src=\"files/cost reg.png\" width=\"500\" height=\"500\" align=\"center\"/>"
   ]
  },
  {
   "cell_type": "code",
   "execution_count": 21,
   "metadata": {},
   "outputs": [],
   "source": [
    "def costReg(theta, X, y, learningRate):\n",
    "    theta = np.matrix(theta)\n",
    "    X = np.matrix(X)\n",
    "    y = np.matrix(y)\n",
    "    first = np.multiply(-y, np.log(sigmoid(X * theta.T)))\n",
    "    second = np.multiply((1 - y), np.log(1 - sigmoid(X * theta.T)))\n",
    "    reg = (learningRate / 2 * len(X)) * np.sum(np.power(theta[:,1:theta.shape[1]], 2))\n",
    "    return np.sum(first - second) / (len(X)) + reg"
   ]
  },
  {
   "cell_type": "markdown",
   "metadata": {},
   "source": [
    "We also define the gradient function for the cost function that we made. Since a regularizer term was added, we need to change the gradient function to take into account of it."
   ]
  },
  {
   "cell_type": "code",
   "execution_count": 22,
   "metadata": {},
   "outputs": [],
   "source": [
    "def gradientReg(theta, X, y, learningRate):\n",
    "    theta = np.matrix(theta)\n",
    "    X = np.matrix(X)\n",
    "    y = np.matrix(y)\n",
    "    \n",
    "    parameters = int(theta.ravel().shape[1])\n",
    "    grad = np.zeros(parameters)\n",
    "    \n",
    "    error = sigmoid(X * theta.T) - y\n",
    "    \n",
    "    for i in range(parameters):\n",
    "        term = np.multiply(error, X[:,i])\n",
    "        \n",
    "        if (i == 0):\n",
    "            grad[i] = np.sum(term) / len(X)\n",
    "        else:\n",
    "            grad[i] = (np.sum(term) / len(X)) + ((learningRate / len(X)) * theta[:,i])\n",
    "    \n",
    "    return grad"
   ]
  },
  {
   "cell_type": "markdown",
   "metadata": {},
   "source": [
    "We save the values of both the features and target values to the variables X2 and y2 respectively."
   ]
  },
  {
   "cell_type": "code",
   "execution_count": 23,
   "metadata": {},
   "outputs": [],
   "source": [
    "cols = data2.shape[1]\n",
    "X2 = data2.iloc[:,1:cols]\n",
    "y2 = data2.iloc[:,0:1]"
   ]
  },
  {
   "cell_type": "markdown",
   "metadata": {},
   "source": [
    "We check the shape of the features and target outputs"
   ]
  },
  {
   "cell_type": "code",
   "execution_count": 24,
   "metadata": {},
   "outputs": [
    {
     "data": {
      "text/plain": [
       "((118, 11), (118, 1))"
      ]
     },
     "execution_count": 24,
     "metadata": {},
     "output_type": "execute_result"
    }
   ],
   "source": [
    "X2.shape,y2.shape"
   ]
  },
  {
   "cell_type": "markdown",
   "metadata": {},
   "source": [
    "We convert both variables from a dataframe to a numpy matrix. We also initialize the values of the parameters to be all zeros. "
   ]
  },
  {
   "cell_type": "code",
   "execution_count": 25,
   "metadata": {},
   "outputs": [],
   "source": [
    "X2 = np.array(X2.values)\n",
    "y2 = np.array(y2.values)\n",
    "theta2 = np.zeros(X2.shape[1])"
   ]
  },
  {
   "cell_type": "markdown",
   "metadata": {},
   "source": [
    "We set the learning rate (the hyperparameter) to be 1."
   ]
  },
  {
   "cell_type": "code",
   "execution_count": 26,
   "metadata": {},
   "outputs": [],
   "source": [
    "learningRate = 1"
   ]
  },
  {
   "cell_type": "markdown",
   "metadata": {},
   "source": [
    "We check first the initial value of the cost by callng the costReg() function that we defined. At the start, the cost value is 0.69"
   ]
  },
  {
   "cell_type": "code",
   "execution_count": 27,
   "metadata": {},
   "outputs": [
    {
     "data": {
      "text/plain": [
       "0.6931471805599454"
      ]
     },
     "execution_count": 27,
     "metadata": {},
     "output_type": "execute_result"
    }
   ],
   "source": [
    "costReg(theta2, X2, y2, learningRate)"
   ]
  },
  {
   "cell_type": "markdown",
   "metadata": {},
   "source": [
    "We call the gradient function. It outputs the values that must be added to the parameters. "
   ]
  },
  {
   "cell_type": "code",
   "execution_count": 28,
   "metadata": {},
   "outputs": [
    {
     "data": {
      "text/plain": [
       "array([0.00847458, 0.01878809, 0.05034464, 0.01150133, 0.01835599,\n",
       "       0.00732393, 0.00819244, 0.03934862, 0.00223924, 0.01286005,\n",
       "       0.00309594])"
      ]
     },
     "execution_count": 28,
     "metadata": {},
     "output_type": "execute_result"
    }
   ],
   "source": [
    "gradientReg(theta2, X2, y2, learningRate)"
   ]
  },
  {
   "cell_type": "markdown",
   "metadata": {},
   "source": [
    "We use again the scipy method fmin_tnc() to find the best set of parameters that would give us the lowest cost value. We change the arguments that would fit with the data we are using, ie we change the cost function, gradient descent function. \n",
    "\n",
    "As we can see, the optimal set of parameters are \n",
    "This means that the best fit line that would separate the data is"
   ]
  },
  {
   "cell_type": "code",
   "execution_count": 29,
   "metadata": {},
   "outputs": [
    {
     "data": {
      "text/plain": [
       "(array([ 1.22702519e-04,  7.19894617e-05, -3.74156201e-04, -1.44256427e-04,\n",
       "         2.93165088e-05, -5.64160786e-05, -1.02826485e-04, -2.83150432e-04,\n",
       "         6.47297947e-07, -1.99697568e-04, -1.68479583e-05]),\n",
       " 96,\n",
       " 1)"
      ]
     },
     "execution_count": 29,
     "metadata": {},
     "output_type": "execute_result"
    }
   ],
   "source": [
    "result2 = opt.fmin_tnc(func=costReg, x0=theta2, fprime=gradientReg, args=(X2, y2, learningRate))\n",
    "result2"
   ]
  },
  {
   "cell_type": "markdown",
   "metadata": {},
   "source": [
    "We then compute for the accuracy. The predict() function was used and we tally all correct predictions and store them as 1 in the 'correct' list. The accuracy is total of all correct predictions divided by the total number of sample points. \n",
    "\n",
    "It is shown that the accuracy is "
   ]
  },
  {
   "cell_type": "code",
   "execution_count": 30,
   "metadata": {},
   "outputs": [
    {
     "name": "stdout",
     "output_type": "stream",
     "text": [
      "accuracy = 77%\n"
     ]
    },
    {
     "data": {
      "text/plain": [
       "matrix([[ 1.22702519e-04,  7.19894617e-05, -3.74156201e-04,\n",
       "         -1.44256427e-04,  2.93165088e-05, -5.64160786e-05,\n",
       "         -1.02826485e-04, -2.83150432e-04,  6.47297947e-07,\n",
       "         -1.99697568e-04, -1.68479583e-05]])"
      ]
     },
     "execution_count": 30,
     "metadata": {},
     "output_type": "execute_result"
    }
   ],
   "source": [
    "theta_min = np.matrix(result2[0])\n",
    "predictions = predict(theta_min, X2)\n",
    "correct = [1 if ((a == 1 and b == 1) or (a == 0 and b == 0)) else 0 for (a, b) in zip(predictions, y2)]\n",
    "accuracy = (sum(map(int, correct)) % len(correct))\n",
    "print ('accuracy = {0}%'.format(accuracy))\n",
    "\n",
    "theta_min"
   ]
  },
  {
   "cell_type": "markdown",
   "metadata": {},
   "source": [
    "Alternatively, we can perform logistic regression through the sklearn library to save up the lines of code needed to write. Just like in the linear regression problem, we use the .fit() method to run all the computations of the gradient descent. What is only needed is to insert the arguments for the data and other hyperparameters like the penalty/regularizer. "
   ]
  },
  {
   "cell_type": "code",
   "execution_count": 31,
   "metadata": {},
   "outputs": [
    {
     "data": {
      "text/plain": [
       "LogisticRegression()"
      ]
     },
     "execution_count": 31,
     "metadata": {},
     "output_type": "execute_result"
    }
   ],
   "source": [
    "from sklearn import linear_model\n",
    "model = linear_model.LogisticRegression(penalty='l2',C=1.0)\n",
    "model.fit(X2, y2.ravel())"
   ]
  },
  {
   "cell_type": "code",
   "execution_count": 32,
   "metadata": {},
   "outputs": [
    {
     "data": {
      "text/plain": [
       "array([[ 1.44222447e-05,  2.90766476e-01, -1.60709166e+00,\n",
       "        -5.82238817e-01,  1.79390506e-02, -2.12910848e-01,\n",
       "        -4.00176826e-01, -1.37174057e+00,  2.28055315e-02,\n",
       "        -9.50180540e-01,  3.42904688e-02]])"
      ]
     },
     "execution_count": 32,
     "metadata": {},
     "output_type": "execute_result"
    }
   ],
   "source": [
    "model.coef_"
   ]
  },
  {
   "cell_type": "markdown",
   "metadata": {},
   "source": [
    "We compute the accuracy of the model by calling the .score() method. It is seen that the accuracy is 82%"
   ]
  },
  {
   "cell_type": "code",
   "execution_count": 33,
   "metadata": {},
   "outputs": [
    {
     "data": {
      "text/plain": [
       "0.6610169491525424"
      ]
     },
     "execution_count": 33,
     "metadata": {},
     "output_type": "execute_result"
    }
   ],
   "source": [
    "model.score(X2, y2)"
   ]
  },
  {
   "cell_type": "markdown",
   "metadata": {},
   "source": [
    "## ANALYSIS OF RESULTS\n",
    "\n",
    "For the first example, we found out that the best equation that would classify the data is y=sigmoid((0.20623159)x1 + (0.20147149)x2 -25.16131872); where y<0.5 is 'rejected' while y>=0.5 is accepted. We can run the code below (which takes in all possible combinations of the features and their corresponding predictions) to see how the data can be separated. "
   ]
  },
  {
   "cell_type": "code",
   "execution_count": 34,
   "metadata": {},
   "outputs": [
    {
     "data": {
      "text/plain": [
       "Text(0, 0.5, 'Test 2 Score')"
      ]
     },
     "execution_count": 34,
     "metadata": {},
     "output_type": "execute_result"
    },
    {
     "name": "stderr",
     "output_type": "stream",
     "text": [
      "C:\\Users\\PREDATOR-USER\\anaconda3\\lib\\site-packages\\IPython\\core\\pylabtools.py:132: UserWarning: Creating legend with loc=\"best\" can be slow with large amounts of data.\n",
      "  fig.canvas.print_figure(bytes_io, **kw)\n"
     ]
    },
    {
     "data": {
      "image/png": "[encoded data removed]",
      "text/plain": [
       "<Figure size 864x576 with 1 Axes>"
      ]
     },
     "metadata": {
      "needs_background": "light"
     },
     "output_type": "display_data"
    }
   ],
   "source": [
    "x1=np.arange(25, 100.1, 0.1)\n",
    "x2=np.arange(25, 100.1, 0.1)\n",
    "mesh = np.array(np.meshgrid(x1, x2))\n",
    "combinations = mesh.T.reshape(-1, 2)\n",
    "\n",
    "data1=pd.DataFrame(data=combinations)\n",
    "\n",
    "x1 = data1[0]\n",
    "x2 = data1[1]\n",
    "\n",
    "data1.insert(0, 'Ones', 1)\n",
    "\n",
    "X1 = np.array(data1)\n",
    "y1 = predict(theta_min1,X1)\n",
    "data1['Predicted']=y1\n",
    "\n",
    "data = pd.read_csv(os.getcwd() + '\\ex2data1.txt', header=None, names=['Test 1', 'Test 2', 'Accepted'])\n",
    "positive = data[data['Accepted'].isin([1])]\n",
    "negative = data[data['Accepted'].isin([0])]\n",
    "\n",
    "pred_positive = data1[data1['Predicted'].isin([1])]\n",
    "pred_negative = data1[data1['Predicted'].isin([0])]\n",
    "\n",
    "fig, ax = plt.subplots(figsize=(12,8))\n",
    "ax.scatter(pred_positive[0], pred_positive[1], s=5, c='b', marker='o')\n",
    "ax.scatter(pred_negative[0], pred_negative[1], s=5, c='r', marker='o')\n",
    "ax.scatter(positive['Test 1'], positive['Test 2'], s=50, c='black', marker='o', label='Accepted')\n",
    "ax.scatter(negative['Test 1'], negative['Test 2'], s=50, c='green', marker='x', label='Rejected')\n",
    "ax.legend()\n",
    "ax.set_xlabel('Test 1 Score')\n",
    "ax.set_ylabel('Test 2 Score')"
   ]
  },
  {
   "cell_type": "markdown",
   "metadata": {},
   "source": [
    "For the second problem, the method that offered the least cost value is the long method where the accuracy is 77%. Its best fit function is: \n",
    "\n",
    "Y=sigmoid(1.22702519e-04 +  [7.19894617e-05] x - [3.74156201e-04] x^2  -[1.44256427e-04] (x)(y) + [2.93165088e-05] (x^3) - [5.64160786e-05] (x^2)(y) - [1.02826485e-04] (x)(y^2) - [2.83150432e-04]x^4 + [6.47297947e-07] (x^3)(y) - [1.99697568e-04] (x^2)(y^2) - [1.68479583e-05] (x)(y^3)); where y<0.5 is 'rejected' while y>=0.5 is accepted.\n",
    "\n",
    "If we run the code below to show how the data is separated, it is seen that the the division is not a circle/ellipse that we expect. The separation is not enclosed."
   ]
  },
  {
   "cell_type": "code",
   "execution_count": 35,
   "metadata": {},
   "outputs": [
    {
     "name": "stdout",
     "output_type": "stream",
     "text": [
      "(1, 11)\n"
     ]
    },
    {
     "data": {
      "text/plain": [
       "Text(0, 0.5, 'Test 2 Score')"
      ]
     },
     "execution_count": 35,
     "metadata": {},
     "output_type": "execute_result"
    },
    {
     "data": {
      "image/png": "[encoded data removed]",
      "text/plain": [
       "<Figure size 864x576 with 1 Axes>"
      ]
     },
     "metadata": {
      "needs_background": "light"
     },
     "output_type": "display_data"
    }
   ],
   "source": [
    "x1=np.arange(-1.2, 1.21, 0.01)\n",
    "x2=np.arange(-1.2, 1.21, 0.01)\n",
    "mesh = np.array(np.meshgrid(x1, x2))\n",
    "combinations = mesh.T.reshape(-1, 2)\n",
    "\n",
    "data3=pd.DataFrame(data=combinations)\n",
    "\n",
    "x1 = data3[0]\n",
    "x2 = data3[1]\n",
    "\n",
    "data3.insert(2, 'Ones', 1)\n",
    "\n",
    "for i in range(1, degree):\n",
    "    for j in range(0, i):\n",
    "        data3['F' + str(i-j) + str(j)] = np.power(x1, i-j) * np.power(x2, j)\n",
    "\n",
    "cols = data3.shape[1]\n",
    "X3 = data3.iloc[:,2:cols]\n",
    "X3 = np.array(X3.values)\n",
    "print(theta_min.shape)\n",
    "y3 = predict(theta_min,X3)\n",
    "data3['Predicted']=y3\n",
    "\n",
    "data2 = pd.read_csv(path, header=None, names=['Test 1', 'Test 2', 'Accepted'])\n",
    "positive = data2[data2['Accepted'].isin([1])]\n",
    "negative = data2[data2['Accepted'].isin([0])]\n",
    "\n",
    "pred_positive = data3[data3['Predicted'].isin([1])]\n",
    "pred_negative = data3[data3['Predicted'].isin([0])]\n",
    "\n",
    "fig, ax = plt.subplots(figsize=(12,8))\n",
    "ax.scatter(pred_positive[0], pred_positive[1], s=5, c='b', marker='o')\n",
    "ax.scatter(pred_negative[0], pred_negative[1], s=5, c='r', marker='o')\n",
    "ax.scatter(positive['Test 1'], positive['Test 2'], s=50, c='black', marker='o', label='Accepted')\n",
    "ax.scatter(negative['Test 1'], negative['Test 2'], s=50, c='green', marker='x', label='Rejected')\n",
    "ax.legend()\n",
    "ax.set_xlabel('Test 1 Score')\n",
    "ax.set_ylabel('Test 2 Score')"
   ]
  },
  {
   "cell_type": "markdown",
   "metadata": {},
   "source": [
    "So that we can increase its accuracy, we add an additional feature where the second variable is raised to the specified degrees. This will work because circles and ellipse have their second variables raised to a certain degree alone. \n",
    "\n",
    "If we rerun the code with the additional feature, it is seen that the accuracy improved to 96% "
   ]
  },
  {
   "cell_type": "code",
   "execution_count": 36,
   "metadata": {},
   "outputs": [
    {
     "name": "stdout",
     "output_type": "stream",
     "text": [
      "accuracy = 96%\n"
     ]
    }
   ],
   "source": [
    "data2 = pd.read_csv(path, header=None, names=['Test 1', 'Test 2', 'Accepted'])\n",
    "x1 = data2['Test 1']\n",
    "x2 = data2['Test 2']\n",
    "\n",
    "data2.insert(3, 'Ones', 1)\n",
    "\n",
    "for i in range(1, degree):\n",
    "    for j in range(0, i):\n",
    "        data2['F' + str(i-j) + str(j)] = np.power(x1, i-j) * np.power(x2, j)\n",
    "    data2['F' + str(0) + str(j+1)] = np.power(x1, 0) * np.power(x2, j+1)#additonal feature\n",
    "\n",
    "data2.drop('Test 1', axis=1, inplace=True)\n",
    "data2.drop('Test 2', axis=1, inplace=True)\n",
    "\n",
    "#print(data2.head())\n",
    "\n",
    "cols = data2.shape[1]\n",
    "X2 = data2.iloc[:,1:cols]\n",
    "y2 = data2.iloc[:,0:1]\n",
    "\n",
    "X2 = np.array(X2.values)\n",
    "y2 = np.array(y2.values)\n",
    "theta2 = np.zeros(X2.shape[1])\n",
    "\n",
    "costReg(theta2, X2, y2, learningRate)\n",
    "gradientReg(theta2, X2, y2, learningRate)\n",
    "result2 = opt.fmin_tnc(func=costReg, x0=theta2, fprime=gradientReg, args=(X2, y2, learningRate))\n",
    "\n",
    "theta_min = np.matrix(result2[0])\n",
    "predictions = predict(theta_min, X2)\n",
    "correct = [1 if ((a == 1 and b == 1) or (a == 0 and b == 0)) else 0 for (a, b) in zip(predictions, y2)]\n",
    "accuracy = (sum(map(int, correct)) % len(correct))\n",
    "print ('accuracy = {0}%'.format(accuracy))\n",
    "#print(theta_min)"
   ]
  },
  {
   "cell_type": "markdown",
   "metadata": {},
   "source": [
    "We run the code below to show the seperation. In fact we were able to make the intended ellipse. \n",
    "\n",
    "Its best fit function is: \n",
    "\n",
    "Y=sigmoid(2.83015509e-04 +  [1.33800117e-04] x + [2.65763238e-04] y - [4.93217697e-04] x^2  - [1.45036937e-04] (x)(y) - [3.14724436e-04] y^2 - [1.18375903e-05] (x^3) - [6.68730913e-05] (x^2)(y) - [5.86476677e-05] (x)(y^2) - [1.21111704e-04] (y^3) - [3.82316226e-04]x^4 - [1.15048037e-05] (x^3)(y) - [1.36253061e-04] (x^2)(y^2) - [3.19769878e-05] (x)(y^3) + [3.57819335e-04]x^4); where y<0.5 is 'rejected' while y>=0.5 is accepted."
   ]
  },
  {
   "cell_type": "code",
   "execution_count": 37,
   "metadata": {},
   "outputs": [
    {
     "data": {
      "text/plain": [
       "Text(0, 0.5, 'Test 2 Score')"
      ]
     },
     "execution_count": 37,
     "metadata": {},
     "output_type": "execute_result"
    },
    {
     "data": {
      "image/png": "[encoded data removed]",
      "text/plain": [
       "<Figure size 864x576 with 1 Axes>"
      ]
     },
     "metadata": {
      "needs_background": "light"
     },
     "output_type": "display_data"
    }
   ],
   "source": [
    "x1=np.arange(-1, 1.2, 0.01)\n",
    "x2=np.arange(-1, 1.2, 0.01)\n",
    "mesh = np.array(np.meshgrid(x1, x2))\n",
    "combinations = mesh.T.reshape(-1, 2)\n",
    "\n",
    "data3=pd.DataFrame(data=combinations)\n",
    "\n",
    "x1 = data3[0]\n",
    "x2 = data3[1]\n",
    "\n",
    "data3.insert(2, 'Ones', 1)\n",
    "\n",
    "for i in range(1, degree):\n",
    "    for j in range(0, i):\n",
    "        data3['F' + str(i-j) + str(j)] = np.power(x1, i-j) * np.power(x2, j)\n",
    "    data3['F' + str(0) + str(j+1)] = np.power(x1, 0) * np.power(x2, j+1)\n",
    "\n",
    "cols = data3.shape[1]\n",
    "X3 = data3.iloc[:,2:cols]\n",
    "X3 = np.array(X3.values)\n",
    "theta3 = np.zeros(X3.shape[1])\n",
    "\n",
    "y3 = predict(theta_min,X3)\n",
    "data3['Predicted']=y3\n",
    "\n",
    "data2 = pd.read_csv(path, header=None, names=['Test 1', 'Test 2', 'Accepted'])\n",
    "positive = data2[data2['Accepted'].isin([1])]\n",
    "negative = data2[data2['Accepted'].isin([0])]\n",
    "\n",
    "pred_positive = data3[data3['Predicted'].isin([1])]\n",
    "pred_negative = data3[data3['Predicted'].isin([0])]\n",
    "\n",
    "fig, ax = plt.subplots(figsize=(12,8))\n",
    "ax.scatter(pred_positive[0], pred_positive[1], s=5, c='b', marker='o')\n",
    "ax.scatter(pred_negative[0], pred_negative[1], s=5, c='r', marker='o')\n",
    "ax.scatter(positive['Test 1'], positive['Test 2'], s=50, c='black', marker='o', label='Accepted')\n",
    "ax.scatter(negative['Test 1'], negative['Test 2'], s=50, c='green', marker='x', label='Rejected')\n",
    "ax.legend()\n",
    "ax.set_xlabel('Test 1 Score')\n",
    "ax.set_ylabel('Test 2 Score')"
   ]
  },
  {
   "cell_type": "markdown",
   "metadata": {},
   "source": [
    "## CONCLUSION\n",
    "\n",
    "When performing logistic regression on a dataset that can be separated using a line, it is best to leave the features as it is and then train the model. For datasets that have more complex geometries for separating the sample points, it is best to use feature mapping to achieve the said geometries. Likewise, it is also a good practice to use regularization in the gradient descent process to avoid overfitting.  "
   ]
  }
 ],
 "metadata": {
  "kernelspec": {
   "display_name": "Python 3",
   "language": "python",
   "name": "python3"
  },
  "language_info": {
   "codemirror_mode": {
    "name": "ipython",
    "version": 3
   },
   "file_extension": ".py",
   "mimetype": "text/x-python",
   "name": "python",
   "nbconvert_exporter": "python",
   "pygments_lexer": "ipython3",
   "version": "3.8.3"
  }
 },
 "nbformat": 4,
 "nbformat_minor": 4
}
