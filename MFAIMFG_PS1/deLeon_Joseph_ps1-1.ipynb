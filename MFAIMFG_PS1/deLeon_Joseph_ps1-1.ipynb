{
 "cells": [
  {
   "cell_type": "markdown",
   "metadata": {},
   "source": [
    "# Computational Intelligence in Manufacturing Systems\n",
    "# MFAIMFG\n",
    "#### Prepared by: Joseph Aristotle de Leon\n",
    "#### Checked by: SME Academics Database team\n",
    "#### Initial Publish: January 5, 2021\n",
    "#### Assignment Code from the class of: Dr. Robert Kerwin Billones\n"
   ]
  },
  {
   "cell_type": "markdown",
   "metadata": {},
   "source": [
    "# Machine Learning Exercise 1 - Linear Regression"
   ]
  },
  {
   "cell_type": "markdown",
   "metadata": {},
   "source": [
    "## INTRODUCTION\n",
    "\n",
    "The idea of linear regression is that a best fit line is created that best represents the set of existing data. This line (also known as a model) can be used to predict/estimate the expected/target values when a given set of features/inputs is given.  \n",
    "\n",
    "\n",
    "In this activity, we would be dealing with two sets of data. The first dataset contains the population of several cities and its corresponding profit when a food truck business is installed in that respecitive area (Linear Regression with one variable). The second deals with predicting the price of a house given info about its size in square feet and the number of bedrooms (Linear regression with multiple variables). \n",
    "\n",
    "Also, we will be implementing the long method of performing linear regression by creating the necessary functions and variables, as well as we will be using the sklearn library to see how easy it is to do this machine learning task. "
   ]
  },
  {
   "cell_type": "markdown",
   "metadata": {},
   "source": [
    "## CODE DESIGN\n",
    "\n",
    "### Linear regression with one variable"
   ]
  },
  {
   "cell_type": "markdown",
   "metadata": {},
   "source": [
    "To start, the codeblock below imports the necessary libraries to assist us in implementing linear regression in python.\n",
    "\n",
    "Numpy (or Numerical Python) is responsible for handling mathmatical operations of matrices which include addition, multiplication, transposition and other matrix manipulations. It is worth noting that the data we are working on is represented as a matrix, where the columns represent the features and its corresponding output value, while the rows contain the sample/instance points.\n",
    "\n",
    "Pandas is imported so that data from an external file (in this case we use csv data) can be accessed and manipulated within the python program. It is mainly used for data analysis (descriptive statistics).\n",
    "\n",
    "Matplotlib is used to visualize data. In the context of this activity, matplotlib creates a scatter plot to map the input(X) and output(y) values of each sample point. Additionally, we could also embed a line to the scatter plot to show regression line that best fits/generalizes the data points. "
   ]
  },
  {
   "cell_type": "code",
   "execution_count": 1,
   "metadata": {},
   "outputs": [],
   "source": [
    "import numpy as np\n",
    "import pandas as pd\n",
    "import matplotlib.pyplot as plt\n",
    "%matplotlib inline"
   ]
  },
  {
   "cell_type": "markdown",
   "metadata": {},
   "source": [
    "In order to start the linear regression activity, we need to copy the data that we intend to work on into the python program. This is where the role of pandas comes in. \n",
    "\n",
    "We need first to specify the file (and its file path) that we would access. The os library is also imported in order to determine the current working path (through the .getcwd() method), which can be appended to the file name of the data. \n",
    "\n",
    "Then we use pandas method .read_csv() to copy the data from the text file to the variable named data. Doing this makes the datatype of the variable data into a dataframe. The arguments needed by this pandas method are the path location and ,as an option, the column names which are in a list. \n",
    "\n",
    "To verify that the data from the file is transferred to the program, we call data.head() to show the values of the top 5 samples. The format of presenting the data is almost similar to that of Excel. \n",
    "\n",
    "Note: \n",
    "Even though that we see only four samples in the output, keep in mind that using pandas, in this context, does not change the values in the text file (the values are unchanged). Through out the program, we are not directly accessing the text file to obtain the data, rather, we are using the variable data to access and manipulate the values."
   ]
  },
  {
   "cell_type": "code",
   "execution_count": 2,
   "metadata": {},
   "outputs": [
    {
     "data": {
      "text/html": [
       "<div>\n",
       "<style scoped>\n",
       "    .dataframe tbody tr th:only-of-type {\n",
       "        vertical-align: middle;\n",
       "    }\n",
       "\n",
       "    .dataframe tbody tr th {\n",
       "        vertical-align: top;\n",
       "    }\n",
       "\n",
       "    .dataframe thead th {\n",
       "        text-align: right;\n",
       "    }\n",
       "</style>\n",
       "<table border=\"1\" class=\"dataframe\">\n",
       "  <thead>\n",
       "    <tr style=\"text-align: right;\">\n",
       "      <th></th>\n",
       "      <th>Population</th>\n",
       "      <th>Profit</th>\n",
       "    </tr>\n",
       "  </thead>\n",
       "  <tbody>\n",
       "    <tr>\n",
       "      <th>0</th>\n",
       "      <td>6.1101</td>\n",
       "      <td>17.5920</td>\n",
       "    </tr>\n",
       "    <tr>\n",
       "      <th>1</th>\n",
       "      <td>5.5277</td>\n",
       "      <td>9.1302</td>\n",
       "    </tr>\n",
       "    <tr>\n",
       "      <th>2</th>\n",
       "      <td>8.5186</td>\n",
       "      <td>13.6620</td>\n",
       "    </tr>\n",
       "    <tr>\n",
       "      <th>3</th>\n",
       "      <td>7.0032</td>\n",
       "      <td>11.8540</td>\n",
       "    </tr>\n",
       "    <tr>\n",
       "      <th>4</th>\n",
       "      <td>5.8598</td>\n",
       "      <td>6.8233</td>\n",
       "    </tr>\n",
       "  </tbody>\n",
       "</table>\n",
       "</div>"
      ],
      "text/plain": [
       "   Population   Profit\n",
       "0      6.1101  17.5920\n",
       "1      5.5277   9.1302\n",
       "2      8.5186  13.6620\n",
       "3      7.0032  11.8540\n",
       "4      5.8598   6.8233"
      ]
     },
     "execution_count": 2,
     "metadata": {},
     "output_type": "execute_result"
    }
   ],
   "source": [
    "import os\n",
    "path = 'ex1data1.txt'\n",
    "data = pd.read_csv(path, header=None, names=['Population', 'Profit'])\n",
    "data.head()"
   ]
  },
  {
   "cell_type": "markdown",
   "metadata": {},
   "source": [
    "Pandas is used by for data analysis. When working with data, we cannot do away with descriptive statistics. Popularly, we do this in Microsoft Excel where we compute for the average, standard deviation, mode, etc. We can also do the same thing in pyhton through pandas. It has the .describe() method in order to perform all available descriptive measures all at once for each feature/column.\n",
    "\n",
    "If only one descriptive measure is needed to be accessed say the mean population, we could do so by calling data['Population'].mean(0).\n",
    "We could do with the other measures by changing the ethod name, and column name.\n"
   ]
  },
  {
   "cell_type": "code",
   "execution_count": 3,
   "metadata": {},
   "outputs": [
    {
     "data": {
      "text/html": [
       "<div>\n",
       "<style scoped>\n",
       "    .dataframe tbody tr th:only-of-type {\n",
       "        vertical-align: middle;\n",
       "    }\n",
       "\n",
       "    .dataframe tbody tr th {\n",
       "        vertical-align: top;\n",
       "    }\n",
       "\n",
       "    .dataframe thead th {\n",
       "        text-align: right;\n",
       "    }\n",
       "</style>\n",
       "<table border=\"1\" class=\"dataframe\">\n",
       "  <thead>\n",
       "    <tr style=\"text-align: right;\">\n",
       "      <th></th>\n",
       "      <th>Population</th>\n",
       "      <th>Profit</th>\n",
       "    </tr>\n",
       "  </thead>\n",
       "  <tbody>\n",
       "    <tr>\n",
       "      <th>count</th>\n",
       "      <td>97.000000</td>\n",
       "      <td>97.000000</td>\n",
       "    </tr>\n",
       "    <tr>\n",
       "      <th>mean</th>\n",
       "      <td>8.159800</td>\n",
       "      <td>5.839135</td>\n",
       "    </tr>\n",
       "    <tr>\n",
       "      <th>std</th>\n",
       "      <td>3.869884</td>\n",
       "      <td>5.510262</td>\n",
       "    </tr>\n",
       "    <tr>\n",
       "      <th>min</th>\n",
       "      <td>5.026900</td>\n",
       "      <td>-2.680700</td>\n",
       "    </tr>\n",
       "    <tr>\n",
       "      <th>25%</th>\n",
       "      <td>5.707700</td>\n",
       "      <td>1.986900</td>\n",
       "    </tr>\n",
       "    <tr>\n",
       "      <th>50%</th>\n",
       "      <td>6.589400</td>\n",
       "      <td>4.562300</td>\n",
       "    </tr>\n",
       "    <tr>\n",
       "      <th>75%</th>\n",
       "      <td>8.578100</td>\n",
       "      <td>7.046700</td>\n",
       "    </tr>\n",
       "    <tr>\n",
       "      <th>max</th>\n",
       "      <td>22.203000</td>\n",
       "      <td>24.147000</td>\n",
       "    </tr>\n",
       "  </tbody>\n",
       "</table>\n",
       "</div>"
      ],
      "text/plain": [
       "       Population     Profit\n",
       "count   97.000000  97.000000\n",
       "mean     8.159800   5.839135\n",
       "std      3.869884   5.510262\n",
       "min      5.026900  -2.680700\n",
       "25%      5.707700   1.986900\n",
       "50%      6.589400   4.562300\n",
       "75%      8.578100   7.046700\n",
       "max     22.203000  24.147000"
      ]
     },
     "execution_count": 3,
     "metadata": {},
     "output_type": "execute_result"
    }
   ],
   "source": [
    "data.describe()\n",
    "#data[\"Population\"].mean(0)"
   ]
  },
  {
   "cell_type": "markdown",
   "metadata": {},
   "source": [
    "Before starting with our linear regression task, it is good practice to observe first if the data resembles a linear relationship. We use matplotlib's method .plot() to create a scatter plot of the data. It takes in the arguments: \n",
    "\n",
    "* 'kind' which is the type of chart to show, which in this case a scatter plot\n",
    "\n",
    "* 'x' the name of the column that represents the x axis/features (Population)\n",
    "\n",
    "* 'y' the name of the column that represents the y axis/output (Profit)\n",
    "\n",
    "* 'figsize' the size of the plot\n",
    "\n",
    "As we can see, the data resembles a linear relationship. However, this knowledge alone is not enough for this activity. What we need to do is to find the equation of the line that would best represent the data points.  "
   ]
  },
  {
   "cell_type": "code",
   "execution_count": 4,
   "metadata": {},
   "outputs": [
    {
     "data": {
      "text/plain": [
       "<matplotlib.axes._subplots.AxesSubplot at 0x1e858699370>"
      ]
     },
     "execution_count": 4,
     "metadata": {},
     "output_type": "execute_result"
    },
    {
     "data": {
      "image/png": "[encoded data removed]",
      "text/plain": [
       "<Figure size 864x576 with 1 Axes>"
      ]
     },
     "metadata": {
      "needs_background": "light"
     },
     "output_type": "display_data"
    }
   ],
   "source": [
    "data.plot(kind='scatter', x='Population', y='Profit', figsize=(12,8))"
   ]
  },
  {
   "cell_type": "markdown",
   "metadata": {},
   "source": [
    "As we said in the previous block, our goal is to find the best fit line of the given data. By definition, the best fit line is the best approximation of the given set of data. This means that it minimizes the overall difference/error between the output values of sample points and the computed value of the best fit line for a given value of a feature(s). This is useful because we could predict an output value for a specific feature value if it is not present in the available data. \n",
    "\n",
    "Since we are talking about linear regression, what we are doing is to find the best parameters of the line equation y=mx+b. The parameters are the slope (m) and the y intercept (b). Reiterating what is said above, we need to find the best values of m and b that would minimize the difference of the computed y in the equation to the actual output value of a certain sample point given its feature value (x)."
   ]
  },
  {
   "cell_type": "markdown",
   "metadata": {},
   "source": [
    "Mathematically, we minimize the difference/error through a cost function. What we want is to have the said parameters output the value of the cost function that is low as possible. The most common cost function used in a linear regression problem is the Mean Squared Error (MSE) shown below:\n",
    "\n",
    "<img src=\"files/cost function.PNG\" width=\"240\" height=\"240\" align=\"center\"/>\n",
    "\n",
    "where:\n",
    "* m is the total number of sample points\n",
    "\n",
    "* i represents a single sample point\n",
    "\n",
    "* y(i) is the 'output value' of a specified sample point (also known as the target value that the regression line must achieve for that point)\n",
    "\n",
    "* h(x(i)) is the 'computed value' of the line equation y=mx+b for a specified sample point\n",
    "\n",
    "###### Take note that this cost function considers all sample points (not just one) since each difference is being summed."
   ]
  },
  {
   "cell_type": "markdown",
   "metadata": {},
   "source": [
    "To implement this cost function in python, we first define it with the function name computeCost. It takes in three arguments:\n",
    "\n",
    "* X= a m by n+1 matrix (n is the number of features) that contains the values of the features (the last feature is extraneous. Its there to satify a matrix multipication rule)\n",
    "\n",
    "* y= a m by 1 matrix/vector that contains the target values of each sample point\n",
    "\n",
    "* theta= a 1 by 2 matrix/vector that contains the parameters slope(m) and y-intercept(b)\n",
    "\n",
    "Inside the function, it first computes the squared difference between the target value to the computed value (X * theta.T is the matrix operation equivalent to y=mx+b) for all sample points\n",
    "\n",
    "The difference matrix is then summed and divided by 2m to output the cost of the function.\n",
    "\n",
    "<img src=\"files/cost function_parts.PNG\" width=\"240\" height=\"240\" align=\"center\"/>\n",
    "\n",
    "\n",
    "This where Numpy becomes really handy. Traditionally, we need to use looping functions to calculate the 'inner' equation for each sample point. This is computationally heavy and messy to code with. But through Numpy's feature of handling matrix operations, we can simplify the process by doing it all at once since the sample points are represented as a matrix. \n"
   ]
  },
  {
   "cell_type": "code",
   "execution_count": 5,
   "metadata": {},
   "outputs": [],
   "source": [
    "def computeCost(X, y, theta):\n",
    "    inner = np.power(((X * theta.T) - y), 2)\n",
    "    return np.sum(inner) / (2 * len(X))"
   ]
  },
  {
   "cell_type": "markdown",
   "metadata": {},
   "source": [
    "Going back to why the matrix X in the cost function has an additional column, it is necessary because it needs to assure that X * theta.T would always abide with the rules of matrix multiplication that is \"the number of columns in the first matrix (X) must be equal to the number of rows in the second matrix (theta.T)\". If we multiply without defining an additional column to X, the rule is not satisfied because there is one feature (column) in X while two parameters in theta (row). \n",
    "\n",
    "Knowing that this equation is actually a representation of y=mx+b for each sample point, we can see that we have to add an additional feature that contains a value of all ones (1) so that b can be obtained 'legally'. An alternative manifestation to the matrix multiplication rule, it will assure that all terms are a product between two values each from the two matrices. Simply, the computed value is now represented as y=mx+b(1). \n",
    "\n",
    "This is why we inserted a new column to the data variable that contains the value 1 all through out. "
   ]
  },
  {
   "cell_type": "code",
   "execution_count": 6,
   "metadata": {},
   "outputs": [],
   "source": [
    "data.insert(0, 'Ones', 1)"
   ]
  },
  {
   "cell_type": "markdown",
   "metadata": {},
   "source": [
    "We now need to select the values in the data variable which would serve as our feature matrix (X) and target output matrix (y). Since features are the ones to be multiplied to the parameters of the line, we select all values under the Ones and Population column. While the values under the Profit column are the our targets. \n",
    "\n",
    "The following code below slices and saves the needed values for each matrix. "
   ]
  },
  {
   "cell_type": "code",
   "execution_count": 7,
   "metadata": {},
   "outputs": [],
   "source": [
    "cols = data.shape[1]\n",
    "X = data.iloc[:,0:cols-1]\n",
    "y = data.iloc[:,cols-1:cols]"
   ]
  },
  {
   "cell_type": "markdown",
   "metadata": {},
   "source": [
    "We can check if we select the right values for the X matrix variable through the .head() method."
   ]
  },
  {
   "cell_type": "code",
   "execution_count": 8,
   "metadata": {},
   "outputs": [
    {
     "data": {
      "text/html": [
       "<div>\n",
       "<style scoped>\n",
       "    .dataframe tbody tr th:only-of-type {\n",
       "        vertical-align: middle;\n",
       "    }\n",
       "\n",
       "    .dataframe tbody tr th {\n",
       "        vertical-align: top;\n",
       "    }\n",
       "\n",
       "    .dataframe thead th {\n",
       "        text-align: right;\n",
       "    }\n",
       "</style>\n",
       "<table border=\"1\" class=\"dataframe\">\n",
       "  <thead>\n",
       "    <tr style=\"text-align: right;\">\n",
       "      <th></th>\n",
       "      <th>Ones</th>\n",
       "      <th>Population</th>\n",
       "    </tr>\n",
       "  </thead>\n",
       "  <tbody>\n",
       "    <tr>\n",
       "      <th>0</th>\n",
       "      <td>1</td>\n",
       "      <td>6.1101</td>\n",
       "    </tr>\n",
       "    <tr>\n",
       "      <th>1</th>\n",
       "      <td>1</td>\n",
       "      <td>5.5277</td>\n",
       "    </tr>\n",
       "    <tr>\n",
       "      <th>2</th>\n",
       "      <td>1</td>\n",
       "      <td>8.5186</td>\n",
       "    </tr>\n",
       "    <tr>\n",
       "      <th>3</th>\n",
       "      <td>1</td>\n",
       "      <td>7.0032</td>\n",
       "    </tr>\n",
       "    <tr>\n",
       "      <th>4</th>\n",
       "      <td>1</td>\n",
       "      <td>5.8598</td>\n",
       "    </tr>\n",
       "  </tbody>\n",
       "</table>\n",
       "</div>"
      ],
      "text/plain": [
       "   Ones  Population\n",
       "0     1      6.1101\n",
       "1     1      5.5277\n",
       "2     1      8.5186\n",
       "3     1      7.0032\n",
       "4     1      5.8598"
      ]
     },
     "execution_count": 8,
     "metadata": {},
     "output_type": "execute_result"
    }
   ],
   "source": [
    "X.head()"
   ]
  },
  {
   "cell_type": "markdown",
   "metadata": {},
   "source": [
    "Same thing can be done for the y matrix variable"
   ]
  },
  {
   "cell_type": "code",
   "execution_count": 9,
   "metadata": {},
   "outputs": [
    {
     "data": {
      "text/html": [
       "<div>\n",
       "<style scoped>\n",
       "    .dataframe tbody tr th:only-of-type {\n",
       "        vertical-align: middle;\n",
       "    }\n",
       "\n",
       "    .dataframe tbody tr th {\n",
       "        vertical-align: top;\n",
       "    }\n",
       "\n",
       "    .dataframe thead th {\n",
       "        text-align: right;\n",
       "    }\n",
       "</style>\n",
       "<table border=\"1\" class=\"dataframe\">\n",
       "  <thead>\n",
       "    <tr style=\"text-align: right;\">\n",
       "      <th></th>\n",
       "      <th>Profit</th>\n",
       "    </tr>\n",
       "  </thead>\n",
       "  <tbody>\n",
       "    <tr>\n",
       "      <th>0</th>\n",
       "      <td>17.5920</td>\n",
       "    </tr>\n",
       "    <tr>\n",
       "      <th>1</th>\n",
       "      <td>9.1302</td>\n",
       "    </tr>\n",
       "    <tr>\n",
       "      <th>2</th>\n",
       "      <td>13.6620</td>\n",
       "    </tr>\n",
       "    <tr>\n",
       "      <th>3</th>\n",
       "      <td>11.8540</td>\n",
       "    </tr>\n",
       "    <tr>\n",
       "      <th>4</th>\n",
       "      <td>6.8233</td>\n",
       "    </tr>\n",
       "  </tbody>\n",
       "</table>\n",
       "</div>"
      ],
      "text/plain": [
       "    Profit\n",
       "0  17.5920\n",
       "1   9.1302\n",
       "2  13.6620\n",
       "3  11.8540\n",
       "4   6.8233"
      ]
     },
     "execution_count": 9,
     "metadata": {},
     "output_type": "execute_result"
    }
   ],
   "source": [
    "y.head()"
   ]
  },
  {
   "cell_type": "markdown",
   "metadata": {},
   "source": [
    "Technically, X and y are still a dataframe datatype. What is needed by our cost function are variables that are in the datatype 'matrix'. To do this, we convert the dataframe variables to matrix variables through the Numpy method .matrix().\n",
    "\n",
    "Likewise, we also initialize the value of the parameters to m=0 and b=0 using the same numpy method. "
   ]
  },
  {
   "cell_type": "code",
   "execution_count": 10,
   "metadata": {},
   "outputs": [],
   "source": [
    "X = np.matrix(X.values)\n",
    "y = np.matrix(y.values)\n",
    "theta = np.matrix(np.array([0,0]))"
   ]
  },
  {
   "cell_type": "markdown",
   "metadata": {},
   "source": [
    "We show the initial values of theta (the variable that contains the parameters b and m [in that order])"
   ]
  },
  {
   "cell_type": "code",
   "execution_count": 11,
   "metadata": {},
   "outputs": [
    {
     "data": {
      "text/plain": [
       "matrix([[0, 0]])"
      ]
     },
     "execution_count": 11,
     "metadata": {},
     "output_type": "execute_result"
    }
   ],
   "source": [
    "theta"
   ]
  },
  {
   "cell_type": "markdown",
   "metadata": {},
   "source": [
    "We also check the size of each matrices so that the rules of matrix operations (addition and multiplication) are followed."
   ]
  },
  {
   "cell_type": "code",
   "execution_count": 12,
   "metadata": {},
   "outputs": [
    {
     "data": {
      "text/plain": [
       "((97, 2), (1, 2), (97, 1))"
      ]
     },
     "execution_count": 12,
     "metadata": {},
     "output_type": "execute_result"
    }
   ],
   "source": [
    "X.shape, theta.shape, y.shape"
   ]
  },
  {
   "cell_type": "markdown",
   "metadata": {},
   "source": [
    "Let us check first the cost value when we set both m and b to be 0. we call the computeCost() function and inserted the said matrices as arguments. The output cost, using these parameters, is 32.07. "
   ]
  },
  {
   "cell_type": "code",
   "execution_count": 13,
   "metadata": {},
   "outputs": [
    {
     "data": {
      "text/plain": [
       "32.072733877455676"
      ]
     },
     "execution_count": 13,
     "metadata": {},
     "output_type": "execute_result"
    }
   ],
   "source": [
    "computeCost(X, y, theta)"
   ]
  },
  {
   "cell_type": "markdown",
   "metadata": {},
   "source": [
    "What we want is to have a cost value that is very low (or converges at the global minima of the cost function). To do this, we use the process of gradient descent, a mechanism for telling the next values of the parameters that would minimize the cost function. This function is runned many times (called iterations). The equation for gradient descent is based on the derivative of the cost function with respect to one of the parameters. The equation, for each parameter, is defned below:\n",
    "<img src=\"files/gradient descent.PNG\" width=\"400\" height=\"400\" align=\"center\"/>\n",
    "\n",
    "where\n",
    "* theta0=the y intercept (b)\n",
    "* theta1=the slope (m)\n",
    "* alpha= learning rate\n",
    "\n",
    "Notice that the terms at the right most portion of each equations which are used to subtract the value of parameters are the one responsible for updating/changing the new values of the said parameter.\n",
    "\n",
    "###### As a bonus, you could try to derive the gradient descent function by applying differentiation techniques (just note the concept of chain rule when performing the process)\n",
    "\n",
    "In ths program, we translate the equation into the function gradientDescent() which takes in the arguments:\n",
    "* X= the feature matrix of the sample points\n",
    "* y= the target output matrix/vector of the sample points\n",
    "* alpha= learning rate\n",
    "* iter= number of iterations to perform gradient descent\n",
    "\n",
    "Inside the function, it first initializes the variables 'temp', which holds the values of the parameters that changes every iteration, 'parameters', which holds the integer value of the number of parameters (in this case 2), and 'cost', which is a numpy array that saves the cost values of at each iteration (useful to show how each the cost value changes over many iterations). \n",
    "\n",
    "We then perform gradient descent for each iteration (where all computation happen under the first level for loop). The 'error' variable calculates the difference between the computed value and the target value. Then for each parameter, we multiply it with the feature (notice that it is based on the pairing of the terms on the line equation y=mx + b(1)). Then temp for each parameter is calculated by taking into account the entire gradient descent equation. In a particular iteration, we save the temp value to theta (which changes every iteration) and save the cost value of that iteration to the cost array (we use the computeCost function that we constructed above).\n",
    "\n",
    "<img src=\"files/gradient descent_parts.PNG\" width=\"400\" height=\"400\" align=\"center\"/>\n",
    "\n",
    "In the end, the function would return the optimized values of theta and the history of all cost values at each iteration."
   ]
  },
  {
   "cell_type": "code",
   "execution_count": 14,
   "metadata": {},
   "outputs": [],
   "source": [
    "def gradientDescent(X, y, theta, alpha, iters):\n",
    "    temp = np.matrix(np.zeros(theta.shape))\n",
    "    parameters = int(theta.ravel().shape[1])\n",
    "    cost = np.zeros(iters)\n",
    "    \n",
    "    for i in range(iters):\n",
    "        error = (X * theta.T) - y\n",
    "        \n",
    "        for j in range(parameters):\n",
    "            term = np.multiply(error, X[:,j])\n",
    "            temp[0,j] = theta[0,j] - ((alpha / len(X)) * np.sum(term))\n",
    "            \n",
    "        theta = temp\n",
    "        cost[i] = computeCost(X, y, theta)\n",
    "        \n",
    "    return theta, cost"
   ]
  },
  {
   "cell_type": "markdown",
   "metadata": {},
   "source": [
    "In every machine learning models like linear regression, there are hyperparameters that defines how the learning process behaves. Unlike parameters, these hyperparameters are constant all through out the machine learning process. In linear regression, the hyper parameters are\n",
    "* the learning rate denoted by the variable 'alpha'. This dictates the magnitude of change of the parameter values. Going back to gradient descent equations, these serve as the scaling factors to the terms that are used to subtract/change the parameter values. Take note that it is a misconception that the learning rate dictates how fast the algorithm finds the best parameters, meaning a bigger learning rate means a lesser needed iterations to perform. It is not.   \n",
    "* iterations denoted by the variable 'iters'. It tells how many iterations of gradient descent to perform. A very high number of iterations might be pointless if the minima of the cost function is already obtained at lower number of iterations. Similarly, having it too low might not achieve the minima cost value.\n",
    "\n",
    "It is better to try different values of the hyperparameters that would best find the minima cost value with lesser computaional resources (iterations) "
   ]
  },
  {
   "cell_type": "code",
   "execution_count": 15,
   "metadata": {},
   "outputs": [],
   "source": [
    "alpha = 0.01\n",
    "iters = 1000"
   ]
  },
  {
   "cell_type": "markdown",
   "metadata": {},
   "source": [
    "With all the nesseary functions and variables needed to perform linear regression, we now call the gradientDescent() function to find the best fit line. The variable 'g' saves the values of the parameters that minimizes the cost function. As we can see, it output the matrix [-3.24140214,  1.1272942 ] or we can say that the best fit line is y=(1.1272942)x-3.24140214. This equation can now be used to predict the profit value for values of the population variable that are not available in the dataset.  "
   ]
  },
  {
   "cell_type": "code",
   "execution_count": 16,
   "metadata": {},
   "outputs": [
    {
     "data": {
      "text/plain": [
       "matrix([[-3.24140214,  1.1272942 ]])"
      ]
     },
     "execution_count": 16,
     "metadata": {},
     "output_type": "execute_result"
    }
   ],
   "source": [
    "g, cost = gradientDescent(X, y, theta, alpha, iters)\n",
    "g"
   ]
  },
  {
   "cell_type": "markdown",
   "metadata": {},
   "source": [
    "To know the cost value of this parameter, we can call the computeCost function and have g, with the best parameter, be the value to the theta argument. We can see that its cost is 4.516. Much lower than the ones we initially started out (32.07) "
   ]
  },
  {
   "cell_type": "code",
   "execution_count": 17,
   "metadata": {},
   "outputs": [
    {
     "data": {
      "text/plain": [
       "4.515955503078912"
      ]
     },
     "execution_count": 17,
     "metadata": {},
     "output_type": "execute_result"
    }
   ],
   "source": [
    "computeCost(X, y, g)"
   ]
  },
  {
   "cell_type": "markdown",
   "metadata": {},
   "source": [
    "We can visualize the line with respect to the scatter plot through the code below.  Take thatat the second line, it is the equation y=(1.1272942)x-3.24140214."
   ]
  },
  {
   "cell_type": "code",
   "execution_count": 18,
   "metadata": {},
   "outputs": [
    {
     "data": {
      "text/plain": [
       "Text(0.5, 1.0, 'Predicted Profit vs. Population Size')"
      ]
     },
     "execution_count": 18,
     "metadata": {},
     "output_type": "execute_result"
    },
    {
     "data": {
      "image/png": "[encoded data removed]",
      "text/plain": [
       "<Figure size 864x576 with 1 Axes>"
      ]
     },
     "metadata": {
      "needs_background": "light"
     },
     "output_type": "display_data"
    }
   ],
   "source": [
    "x = np.linspace(data.Population.min(), data.Population.max(), 100)\n",
    "f = g[0, 0] + (g[0, 1] * x)\n",
    "fig, ax = plt.subplots(figsize=(12,8))\n",
    "ax.plot(x, f, 'r', label='Prediction')\n",
    "ax.scatter(data.Population, data.Profit, label='Traning Data')\n",
    "ax.legend(loc=2)\n",
    "ax.set_xlabel('Population')\n",
    "ax.set_ylabel('Profit')\n",
    "ax.set_title('Predicted Profit vs. Population Size')"
   ]
  },
  {
   "cell_type": "markdown",
   "metadata": {},
   "source": [
    "We can also show how the cost function is being minimized through the code below.  "
   ]
  },
  {
   "cell_type": "code",
   "execution_count": 19,
   "metadata": {},
   "outputs": [
    {
     "data": {
      "text/plain": [
       "Text(0.5, 1.0, 'Error vs. Training Epoch')"
      ]
     },
     "execution_count": 19,
     "metadata": {},
     "output_type": "execute_result"
    },
    {
     "data": {
      "image/png": "[encoded data removed]",
      "text/plain": [
       "<Figure size 864x576 with 1 Axes>"
      ]
     },
     "metadata": {
      "needs_background": "light"
     },
     "output_type": "display_data"
    }
   ],
   "source": [
    "fig, ax = plt.subplots(figsize=(12,8))\n",
    "ax.plot(np.arange(iters), cost, 'r')\n",
    "ax.set_xlabel('Iterations')\n",
    "ax.set_ylabel('Cost')\n",
    "ax.set_title('Error vs. Training Epoch')"
   ]
  },
  {
   "cell_type": "markdown",
   "metadata": {},
   "source": [
    "### Linear regression with multiple variables"
   ]
  },
  {
   "cell_type": "markdown",
   "metadata": {},
   "source": [
    "Now, we would be dealing with a linear regression problem that involves mulitple varibales/features. To start we would need to copy the data from the second data file (in text format) to the program. The code is similar to what we did in the precious task, but we need to specify the new file location of the data we would be working on. \n",
    "\n",
    "To verify that we copied the correct data, we call the .head() method. "
   ]
  },
  {
   "cell_type": "code",
   "execution_count": 31,
   "metadata": {},
   "outputs": [
    {
     "data": {
      "text/html": [
       "<div>\n",
       "<style scoped>\n",
       "    .dataframe tbody tr th:only-of-type {\n",
       "        vertical-align: middle;\n",
       "    }\n",
       "\n",
       "    .dataframe tbody tr th {\n",
       "        vertical-align: top;\n",
       "    }\n",
       "\n",
       "    .dataframe thead th {\n",
       "        text-align: right;\n",
       "    }\n",
       "</style>\n",
       "<table border=\"1\" class=\"dataframe\">\n",
       "  <thead>\n",
       "    <tr style=\"text-align: right;\">\n",
       "      <th></th>\n",
       "      <th>Size</th>\n",
       "      <th>Bedrooms</th>\n",
       "      <th>Price</th>\n",
       "    </tr>\n",
       "  </thead>\n",
       "  <tbody>\n",
       "    <tr>\n",
       "      <th>0</th>\n",
       "      <td>2104</td>\n",
       "      <td>3</td>\n",
       "      <td>399900</td>\n",
       "    </tr>\n",
       "    <tr>\n",
       "      <th>1</th>\n",
       "      <td>1600</td>\n",
       "      <td>3</td>\n",
       "      <td>329900</td>\n",
       "    </tr>\n",
       "    <tr>\n",
       "      <th>2</th>\n",
       "      <td>2400</td>\n",
       "      <td>3</td>\n",
       "      <td>369000</td>\n",
       "    </tr>\n",
       "    <tr>\n",
       "      <th>3</th>\n",
       "      <td>1416</td>\n",
       "      <td>2</td>\n",
       "      <td>232000</td>\n",
       "    </tr>\n",
       "    <tr>\n",
       "      <th>4</th>\n",
       "      <td>3000</td>\n",
       "      <td>4</td>\n",
       "      <td>539900</td>\n",
       "    </tr>\n",
       "  </tbody>\n",
       "</table>\n",
       "</div>"
      ],
      "text/plain": [
       "   Size  Bedrooms   Price\n",
       "0  2104         3  399900\n",
       "1  1600         3  329900\n",
       "2  2400         3  369000\n",
       "3  1416         2  232000\n",
       "4  3000         4  539900"
      ]
     },
     "execution_count": 31,
     "metadata": {},
     "output_type": "execute_result"
    }
   ],
   "source": [
    "path = os.getcwd() + '\\ex1data2.txt'\n",
    "data2 = pd.read_csv(path, header=None, names=['Size', 'Bedrooms', 'Price'])\n",
    "data2.head()"
   ]
  },
  {
   "cell_type": "markdown",
   "metadata": {},
   "source": [
    "As we can see from the first five sample points, the features size and bedrooms, as well as the target values price, are of different magnitudes. The feature bedroom is very small that ranges within the ones digit only, while the size feature are in the thousands place. In the context of machine learning, having values of features that differ greatly to one another makes gradient descent difficult. One intuition is that features that are very large in value would make its corresponding parameter very small which, because of its small resolution, would be difficult to achieve the most optimum value for it [parameter].  \n",
    "\n",
    "In order to solve the issue, we make the values of all features and even its target output to be at the same range of values. To achieve this, we compute the Z score of each sample point for its corresponding parameter. Formula is shown below:\n",
    "\n",
    "<img src=\"files/Z score.PNG\" width=\"400\" height=\"400\" align=\"center\"/>\n",
    "\n",
    "The Z scores of the values is what we are using for training. If we are to deploy the trained model, we will convert the computed output (which is in its Z score) to its actual numerical value."
   ]
  },
  {
   "cell_type": "code",
   "execution_count": 32,
   "metadata": {},
   "outputs": [
    {
     "data": {
      "text/html": [
       "<div>\n",
       "<style scoped>\n",
       "    .dataframe tbody tr th:only-of-type {\n",
       "        vertical-align: middle;\n",
       "    }\n",
       "\n",
       "    .dataframe tbody tr th {\n",
       "        vertical-align: top;\n",
       "    }\n",
       "\n",
       "    .dataframe thead th {\n",
       "        text-align: right;\n",
       "    }\n",
       "</style>\n",
       "<table border=\"1\" class=\"dataframe\">\n",
       "  <thead>\n",
       "    <tr style=\"text-align: right;\">\n",
       "      <th></th>\n",
       "      <th>Size</th>\n",
       "      <th>Bedrooms</th>\n",
       "      <th>Price</th>\n",
       "    </tr>\n",
       "  </thead>\n",
       "  <tbody>\n",
       "    <tr>\n",
       "      <th>0</th>\n",
       "      <td>0.130010</td>\n",
       "      <td>-0.223675</td>\n",
       "      <td>0.475747</td>\n",
       "    </tr>\n",
       "    <tr>\n",
       "      <th>1</th>\n",
       "      <td>-0.504190</td>\n",
       "      <td>-0.223675</td>\n",
       "      <td>-0.084074</td>\n",
       "    </tr>\n",
       "    <tr>\n",
       "      <th>2</th>\n",
       "      <td>0.502476</td>\n",
       "      <td>-0.223675</td>\n",
       "      <td>0.228626</td>\n",
       "    </tr>\n",
       "    <tr>\n",
       "      <th>3</th>\n",
       "      <td>-0.735723</td>\n",
       "      <td>-1.537767</td>\n",
       "      <td>-0.867025</td>\n",
       "    </tr>\n",
       "    <tr>\n",
       "      <th>4</th>\n",
       "      <td>1.257476</td>\n",
       "      <td>1.090417</td>\n",
       "      <td>1.595389</td>\n",
       "    </tr>\n",
       "  </tbody>\n",
       "</table>\n",
       "</div>"
      ],
      "text/plain": [
       "       Size  Bedrooms     Price\n",
       "0  0.130010 -0.223675  0.475747\n",
       "1 -0.504190 -0.223675 -0.084074\n",
       "2  0.502476 -0.223675  0.228626\n",
       "3 -0.735723 -1.537767 -0.867025\n",
       "4  1.257476  1.090417  1.595389"
      ]
     },
     "execution_count": 32,
     "metadata": {},
     "output_type": "execute_result"
    }
   ],
   "source": [
    "data2 = (data2 - data2.mean()) / data2.std()\n",
    "data2.head()"
   ]
  },
  {
   "cell_type": "markdown",
   "metadata": {},
   "source": [
    "Just like what we did in the regression probem for one variable, we add an extraneous feature of all ones for the rules of matrix operations to be satisfied. "
   ]
  },
  {
   "cell_type": "code",
   "execution_count": 33,
   "metadata": {},
   "outputs": [],
   "source": [
    "data2.insert(0, 'Ones', 1)"
   ]
  },
  {
   "cell_type": "markdown",
   "metadata": {},
   "source": [
    "We save the values of both the features and target values to the variables X2 and y2 respectively."
   ]
  },
  {
   "cell_type": "code",
   "execution_count": 34,
   "metadata": {},
   "outputs": [],
   "source": [
    "cols = data2.shape[1]\n",
    "X2 = data2.iloc[:,0:cols-1]\n",
    "y2 = data2.iloc[:,cols-1:cols]"
   ]
  },
  {
   "cell_type": "markdown",
   "metadata": {},
   "source": [
    "We convert both variables from a dataframe to a numpy matrix. We also initialize the values of the parameters to be all zeros. "
   ]
  },
  {
   "cell_type": "code",
   "execution_count": 35,
   "metadata": {},
   "outputs": [
    {
     "data": {
      "text/plain": [
       "matrix([[ 1.00000000e+00,  1.30009869e-01, -2.23675187e-01],\n",
       "        [ 1.00000000e+00, -5.04189838e-01, -2.23675187e-01],\n",
       "        [ 1.00000000e+00,  5.02476364e-01, -2.23675187e-01],\n",
       "        [ 1.00000000e+00, -7.35723065e-01, -1.53776691e+00],\n",
       "        [ 1.00000000e+00,  1.25747602e+00,  1.09041654e+00],\n",
       "        [ 1.00000000e+00, -1.97317285e-02,  1.09041654e+00],\n",
       "        [ 1.00000000e+00, -5.87239800e-01, -2.23675187e-01],\n",
       "        [ 1.00000000e+00, -7.21881404e-01, -2.23675187e-01],\n",
       "        [ 1.00000000e+00, -7.81023044e-01, -2.23675187e-01],\n",
       "        [ 1.00000000e+00, -6.37573110e-01, -2.23675187e-01],\n",
       "        [ 1.00000000e+00, -7.63567023e-02,  1.09041654e+00],\n",
       "        [ 1.00000000e+00, -8.56737193e-04, -2.23675187e-01],\n",
       "        [ 1.00000000e+00, -1.39273340e-01, -2.23675187e-01],\n",
       "        [ 1.00000000e+00,  3.11729182e+00,  2.40450826e+00],\n",
       "        [ 1.00000000e+00, -9.21956312e-01, -2.23675187e-01],\n",
       "        [ 1.00000000e+00,  3.76643089e-01,  1.09041654e+00],\n",
       "        [ 1.00000000e+00, -8.56523009e-01, -1.53776691e+00],\n",
       "        [ 1.00000000e+00, -9.62222960e-01, -2.23675187e-01],\n",
       "        [ 1.00000000e+00,  7.65467909e-01,  1.09041654e+00],\n",
       "        [ 1.00000000e+00,  1.29648433e+00,  1.09041654e+00],\n",
       "        [ 1.00000000e+00, -2.94048269e-01, -2.23675187e-01],\n",
       "        [ 1.00000000e+00, -1.41790005e-01, -1.53776691e+00],\n",
       "        [ 1.00000000e+00, -4.99156507e-01, -2.23675187e-01],\n",
       "        [ 1.00000000e+00, -4.86733818e-02,  1.09041654e+00],\n",
       "        [ 1.00000000e+00,  2.37739217e+00, -2.23675187e-01],\n",
       "        [ 1.00000000e+00, -1.13335621e+00, -2.23675187e-01],\n",
       "        [ 1.00000000e+00, -6.82873089e-01, -2.23675187e-01],\n",
       "        [ 1.00000000e+00,  6.61026291e-01, -2.23675187e-01],\n",
       "        [ 1.00000000e+00,  2.50809813e-01, -2.23675187e-01],\n",
       "        [ 1.00000000e+00,  8.00701226e-01, -2.23675187e-01],\n",
       "        [ 1.00000000e+00, -2.03448310e-01, -1.53776691e+00],\n",
       "        [ 1.00000000e+00, -1.25918949e+00, -2.85185864e+00],\n",
       "        [ 1.00000000e+00,  4.94765729e-02,  1.09041654e+00],\n",
       "        [ 1.00000000e+00,  1.42986760e+00, -2.23675187e-01],\n",
       "        [ 1.00000000e+00, -2.38681627e-01,  1.09041654e+00],\n",
       "        [ 1.00000000e+00, -7.09298077e-01, -2.23675187e-01],\n",
       "        [ 1.00000000e+00, -9.58447962e-01, -2.23675187e-01],\n",
       "        [ 1.00000000e+00,  1.65243186e-01,  1.09041654e+00],\n",
       "        [ 1.00000000e+00,  2.78635031e+00,  1.09041654e+00],\n",
       "        [ 1.00000000e+00,  2.02993169e-01,  1.09041654e+00],\n",
       "        [ 1.00000000e+00, -4.23656542e-01, -1.53776691e+00],\n",
       "        [ 1.00000000e+00,  2.98626458e-01, -2.23675187e-01],\n",
       "        [ 1.00000000e+00,  7.12617934e-01,  1.09041654e+00],\n",
       "        [ 1.00000000e+00, -1.00752294e+00, -2.23675187e-01],\n",
       "        [ 1.00000000e+00, -1.44542274e+00, -1.53776691e+00],\n",
       "        [ 1.00000000e+00, -1.87089985e-01,  1.09041654e+00],\n",
       "        [ 1.00000000e+00, -1.00374794e+00, -2.23675187e-01]])"
      ]
     },
     "execution_count": 35,
     "metadata": {},
     "output_type": "execute_result"
    }
   ],
   "source": [
    "X2 = np.matrix(X2.values)\n",
    "y2 = np.matrix(y2.values)\n",
    "theta2 = np.matrix(np.array([0,0,0]))\n",
    "X2"
   ]
  },
  {
   "cell_type": "markdown",
   "metadata": {},
   "source": [
    "Because we have already made the necessary functions for computing the cost function and performing gradient descent, we call the function gradientDescent() to achieve the set set of the best parameters for the linear regression problem. \n",
    "\n",
    "###### One good thing with the computeCost() and gradientDescent() functions that was made is that they are scalable to work with larger numbers of features. "
   ]
  },
  {
   "cell_type": "code",
   "execution_count": 25,
   "metadata": {},
   "outputs": [],
   "source": [
    "g2, cost2 = gradientDescent(X2, y2, theta2, alpha, iters)"
   ]
  },
  {
   "cell_type": "markdown",
   "metadata": {},
   "source": [
    "To know the value of the cost function for the best set of paramters that we obtained, we call the computeCost() function with g2 as the parameter argument. We obtain a cost of 0.131"
   ]
  },
  {
   "cell_type": "code",
   "execution_count": 26,
   "metadata": {},
   "outputs": [
    {
     "data": {
      "text/plain": [
       "matrix([[-1.10868761e-16,  8.78503652e-01, -4.69166570e-02]])"
      ]
     },
     "execution_count": 26,
     "metadata": {},
     "output_type": "execute_result"
    }
   ],
   "source": [
    "computeCost(X2, y2, g2)\n",
    "g2"
   ]
  },
  {
   "cell_type": "markdown",
   "metadata": {},
   "source": [
    "We sketch the plot of the cost values over each iteration to see how the learning process occured. As we can see, the cost started to plataue aroud the 600th iteration. This means that we have reached convergence with the global minima (very lowest value) of the cost at that instant. "
   ]
  },
  {
   "cell_type": "code",
   "execution_count": 27,
   "metadata": {},
   "outputs": [
    {
     "data": {
      "text/plain": [
       "Text(0.5, 1.0, 'Error vs. Training Epoch')"
      ]
     },
     "execution_count": 27,
     "metadata": {},
     "output_type": "execute_result"
    },
    {
     "data": {
      "image/png": "[encoded data removed]",
      "text/plain": [
       "<Figure size 864x576 with 1 Axes>"
      ]
     },
     "metadata": {
      "needs_background": "light"
     },
     "output_type": "display_data"
    }
   ],
   "source": [
    "fig, ax = plt.subplots(figsize=(12,8))\n",
    "ax.plot(np.arange(iters), cost2, 'r')\n",
    "ax.set_xlabel('Iterations')\n",
    "ax.set_ylabel('Cost')\n",
    "ax.set_title('Error vs. Training Epoch')"
   ]
  },
  {
   "cell_type": "markdown",
   "metadata": {},
   "source": [
    "Alternatively, we can perform linear regression easily using the sklearn library. What the library does is that it allows users to perform many machine learning methods using a few lines of code. Rather than coding all the necessary functions for linear regression, we just need to prepare the variables that contains the sample data, and run the .fit() method to perform learning.\n",
    "\n",
    "In the code, we import first the the linear_model library, a sub library of sklearn. Then we instantiate (initially create) the model and save it as variable model. Afterwards, we perform gradient descent by calling the .fit() method with the arguments X and y, which contains the features and target values."
   ]
  },
  {
   "cell_type": "code",
   "execution_count": 28,
   "metadata": {},
   "outputs": [
    {
     "name": "stdout",
     "output_type": "stream",
     "text": [
      "[[0.         1.19303364]]\n",
      "[-3.89578088]\n"
     ]
    }
   ],
   "source": [
    "from sklearn import linear_model\n",
    "model = linear_model.LinearRegression()\n",
    "model.fit(X, y)\n",
    "\n",
    "model.score(X,y)\n",
    "\n",
    "print(model.coef_)\n",
    "print(model.intercept_)"
   ]
  },
  {
   "cell_type": "markdown",
   "metadata": {},
   "source": [
    "Now that the learning process is done, we can visualize the best fit line for the sample data. \n",
    "\n",
    "Inside the code, we first get the feature values of the data. Then we use the .predict() method to compute for the value of the profit based on the best set of parameters that was trained. The rest of the code is similar to that was done above to visualze the data.\n",
    "\n",
    "* To obtain the set of paramters, call model.coef_ and model.intercept_. Additionally, to know the cost value, call .score (X,y)"
   ]
  },
  {
   "cell_type": "code",
   "execution_count": 29,
   "metadata": {},
   "outputs": [
    {
     "data": {
      "text/plain": [
       "Text(0.5, 1.0, 'Predicted Profit vs. Population Size')"
      ]
     },
     "execution_count": 29,
     "metadata": {},
     "output_type": "execute_result"
    },
    {
     "data": {
      "image/png": "[encoded data removed]",
      "text/plain": [
       "<Figure size 864x576 with 1 Axes>"
      ]
     },
     "metadata": {
      "needs_background": "light"
     },
     "output_type": "display_data"
    }
   ],
   "source": [
    "x = np.array(X[:, 1].A1)\n",
    "f = model.predict(X).flatten()\n",
    "\n",
    "fig, ax = plt.subplots(figsize=(12,8))\n",
    "ax.plot(x, f, 'r', label='Prediction')\n",
    "ax.scatter(data.Population, data.Profit, label='Traning Data')\n",
    "ax.legend(loc=2)\n",
    "ax.set_xlabel('Population')\n",
    "ax.set_ylabel('Profit')\n",
    "ax.set_title('Predicted Profit vs. Population Size')"
   ]
  },
  {
   "cell_type": "markdown",
   "metadata": {},
   "source": [
    "## ANALYSIS OF RESULTS\n",
    "\n",
    "For the first linear regression problem, we see that between the two methods (through long cut method vs the sklearn method), the latter offers a lower loss. This could mean that the gradient descent for the first method did not yet converge to the global minima of the cost function.\n",
    "\n",
    "In summary, the best fit line for each problems are:\n",
    "\n",
    "(1) y= (1.19303364)x -3.89578088\n",
    "\n",
    "(2) y=-1.10868761e-16 +  (8.78503652e-01)x1 - (4.69166570e-02)x2"
   ]
  },
  {
   "cell_type": "markdown",
   "metadata": {},
   "source": [
    "## CONCLUSION\n",
    "\n",
    "Linear regression is a good tool in generalizing the data if it resembles a linear relationship. The model/equation that we obtain from the training process can be used to predict/estimate the target value for features that are not considered in the dataset. In its implentation in python, it is a good practice to learn the long cut method of implementing linear regression so that we understand the operations that are needed to perform. However, for convenience, it is recommended to use the sklearn library instead. "
   ]
  }
 ],
 "metadata": {
  "kernelspec": {
   "display_name": "Python 3",
   "language": "python",
   "name": "python3"
  },
  "language_info": {
   "codemirror_mode": {
    "name": "ipython",
    "version": 3
   },
   "file_extension": ".py",
   "mimetype": "text/x-python",
   "name": "python",
   "nbconvert_exporter": "python",
   "pygments_lexer": "ipython3",
   "version": "3.8.3"
  }
 },
 "nbformat": 4,
 "nbformat_minor": 4
}
