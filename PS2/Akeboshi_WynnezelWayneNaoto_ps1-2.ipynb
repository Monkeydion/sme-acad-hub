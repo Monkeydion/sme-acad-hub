{
 "cells": [
  {
   "cell_type": "markdown",
   "metadata": {},
   "source": [
    "#### **Computational Intelligence in Manufacturing Systems**\n",
    "#### **MFAIMFG**\n",
    "###### Created by: Wynnezel Wayne Naoto P Akeboshi\n",
    "##### Checked by: SME Academics Database team\n",
    "##### Initial Publish: January 10, 2021\n",
    "##### Assignment Code from the class of: Dr. Robert Kerwin Billones"
   ]
  },
  {
   "cell_type": "markdown",
   "metadata": {},
   "source": [
    "### Machine Learning Exercise 2 - Logistic Regression"
   ]
  },
  {
   "cell_type": "markdown",
   "metadata": {},
   "source": [
    "#### **A LINE BY LINE EXPLANATION**"
   ]
  },
  {
   "cell_type": "markdown",
   "metadata": {},
   "source": [
    "#### **CODE DESIGN**\n",
    "#### Logistic regression"
   ]
  },
  {
   "cell_type": "markdown",
   "metadata": {},
   "source": [
    "##### **Code segment no. 1**\n",
    "Imports the numpy, pandas, and matplotlib libraries and assigned with shortnames."
   ]
  },
  {
   "cell_type": "code",
   "execution_count": 1,
   "metadata": {},
   "outputs": [],
   "source": [
    "import numpy as np\n",
    "import pandas as pd\n",
    "import matplotlib.pyplot as plt\n",
    "# imports the functions and methods of numpy, pandas, and matplotlib. See PS1.\n",
    "\n",
    "%matplotlib inline"
   ]
  },
  {
   "cell_type": "markdown",
   "metadata": {},
   "source": [
    "##### **Code segment no. 2**\n",
    "Imports the operating system's library and retrieves the reference file. This reference file then has its columns labeled accordingly. Then the dataset has its first 5 entries presented in a tabular manner."
   ]
  },
  {
   "cell_type": "code",
   "execution_count": 2,
   "metadata": {},
   "outputs": [
    {
     "data": {
      "text/html": [
       "<div>\n",
       "<style scoped>\n",
       "    .dataframe tbody tr th:only-of-type {\n",
       "        vertical-align: middle;\n",
       "    }\n",
       "\n",
       "    .dataframe tbody tr th {\n",
       "        vertical-align: top;\n",
       "    }\n",
       "\n",
       "    .dataframe thead th {\n",
       "        text-align: right;\n",
       "    }\n",
       "</style>\n",
       "<table border=\"1\" class=\"dataframe\">\n",
       "  <thead>\n",
       "    <tr style=\"text-align: right;\">\n",
       "      <th></th>\n",
       "      <th>Exam 1</th>\n",
       "      <th>Exam 2</th>\n",
       "      <th>Admitted</th>\n",
       "    </tr>\n",
       "  </thead>\n",
       "  <tbody>\n",
       "    <tr>\n",
       "      <th>0</th>\n",
       "      <td>34.623660</td>\n",
       "      <td>78.024693</td>\n",
       "      <td>0</td>\n",
       "    </tr>\n",
       "    <tr>\n",
       "      <th>1</th>\n",
       "      <td>30.286711</td>\n",
       "      <td>43.894998</td>\n",
       "      <td>0</td>\n",
       "    </tr>\n",
       "    <tr>\n",
       "      <th>2</th>\n",
       "      <td>35.847409</td>\n",
       "      <td>72.902198</td>\n",
       "      <td>0</td>\n",
       "    </tr>\n",
       "    <tr>\n",
       "      <th>3</th>\n",
       "      <td>60.182599</td>\n",
       "      <td>86.308552</td>\n",
       "      <td>1</td>\n",
       "    </tr>\n",
       "    <tr>\n",
       "      <th>4</th>\n",
       "      <td>79.032736</td>\n",
       "      <td>75.344376</td>\n",
       "      <td>1</td>\n",
       "    </tr>\n",
       "  </tbody>\n",
       "</table>\n",
       "</div>"
      ],
      "text/plain": [
       "      Exam 1     Exam 2  Admitted\n",
       "0  34.623660  78.024693         0\n",
       "1  30.286711  43.894998         0\n",
       "2  35.847409  72.902198         0\n",
       "3  60.182599  86.308552         1\n",
       "4  79.032736  75.344376         1"
      ]
     },
     "execution_count": 2,
     "metadata": {},
     "output_type": "execute_result"
    }
   ],
   "source": [
    "import os\n",
    "path = 'ex2data1.txt'\n",
    "data = pd.read_csv(path, header=None, names=['Exam 1', 'Exam 2', 'Admitted'])\n",
    "data.head()\n",
    "# imports operating system (OS) library and finds the specific file\n",
    "# the file is read as csv and saved sa 'data'"
   ]
  },
  {
   "cell_type": "markdown",
   "metadata": {},
   "source": [
    "##### **Code segment no. 3**\n",
    "The data is then classified into those admitted and not admitted. This data is plotted on a scatter plot labeling those admitted as circles and those not admitted as 'X's. "
   ]
  },
  {
   "cell_type": "code",
   "execution_count": 3,
   "metadata": {},
   "outputs": [
    {
     "data": {
      "text/plain": [
       "Text(0, 0.5, 'Exam 2 Score')"
      ]
     },
     "execution_count": 3,
     "metadata": {},
     "output_type": "execute_result"
    },
    {
     "data": {
      "image/png": "[encoded data removed]",
      "text/plain": [
       "<Figure size 864x576 with 1 Axes>"
      ]
     },
     "metadata": {
      "needs_background": "light"
     },
     "output_type": "display_data"
    }
   ],
   "source": [
    "positive = data[data['Admitted'].isin([1])]\n",
    "# gets the column called 'Admitted' from dataframe called 'data'. Each entry in the column is checked if\n",
    "# the value is either 1 or 0. 1 means admitted and 0 means admitted. the 0 and 1 format is based on the data,\n",
    "# not necessarily because of the program. \n",
    "negative = data[data['Admitted'].isin([0])]\n",
    "# gets the column called 'Admitted' and checks if the value is 0. The .isin function returns a dataframe\n",
    "# of the matched values. This specific function returns all those who did not pass.\n",
    "\n",
    "fig, ax = plt.subplots(figsize=(12,8))\n",
    "ax.scatter(positive['Exam 1'], positive['Exam 2'], s=50, c='b', marker='o', label='Admitted')\n",
    "# creates a scatter plot within the figure fig. this line creates the plot for those admitted using the o marker.\n",
    "ax.scatter(negative['Exam 1'], negative['Exam 2'], s=50, c='r', marker='x', label='Not Admitted')\n",
    "# creates a scatter plot within the figure fig. this creates the plot for those not admitted using the x marker.\n",
    "ax.legend()\n",
    "# creates a legend\n",
    "ax.set_xlabel('Exam 1 Score')\n",
    "ax.set_ylabel('Exam 2 Score')\n",
    "# sets x-axis and y-axis labels as exam scores 1 and 2.\n",
    "# use ax.scatter? to show the full documentation on the scatter function (this includes parameters and return type)"
   ]
  },
  {
   "cell_type": "code",
   "execution_count": 4,
   "metadata": {},
   "outputs": [
    {
     "data": {
      "text/plain": [
       "\u001b[1;31mSignature:\u001b[0m\n",
       "\u001b[0max\u001b[0m\u001b[1;33m.\u001b[0m\u001b[0mscatter\u001b[0m\u001b[1;33m(\u001b[0m\u001b[1;33m\n",
       "\u001b[0m    \u001b[0mx\u001b[0m\u001b[1;33m,\u001b[0m\u001b[1;33m\n",
       "\u001b[0m    \u001b[0my\u001b[0m\u001b[1;33m,\u001b[0m\u001b[1;33m\n",
       "\u001b[0m    \u001b[0ms\u001b[0m\u001b[1;33m=\u001b[0m\u001b[1;32mNone\u001b[0m\u001b[1;33m,\u001b[0m\u001b[1;33m\n",
       "\u001b[0m    \u001b[0mc\u001b[0m\u001b[1;33m=\u001b[0m\u001b[1;32mNone\u001b[0m\u001b[1;33m,\u001b[0m\u001b[1;33m\n",
       "\u001b[0m    \u001b[0mmarker\u001b[0m\u001b[1;33m=\u001b[0m\u001b[1;32mNone\u001b[0m\u001b[1;33m,\u001b[0m\u001b[1;33m\n",
       "\u001b[0m    \u001b[0mcmap\u001b[0m\u001b[1;33m=\u001b[0m\u001b[1;32mNone\u001b[0m\u001b[1;33m,\u001b[0m\u001b[1;33m\n",
       "\u001b[0m    \u001b[0mnorm\u001b[0m\u001b[1;33m=\u001b[0m\u001b[1;32mNone\u001b[0m\u001b[1;33m,\u001b[0m\u001b[1;33m\n",
       "\u001b[0m    \u001b[0mvmin\u001b[0m\u001b[1;33m=\u001b[0m\u001b[1;32mNone\u001b[0m\u001b[1;33m,\u001b[0m\u001b[1;33m\n",
       "\u001b[0m    \u001b[0mvmax\u001b[0m\u001b[1;33m=\u001b[0m\u001b[1;32mNone\u001b[0m\u001b[1;33m,\u001b[0m\u001b[1;33m\n",
       "\u001b[0m    \u001b[0malpha\u001b[0m\u001b[1;33m=\u001b[0m\u001b[1;32mNone\u001b[0m\u001b[1;33m,\u001b[0m\u001b[1;33m\n",
       "\u001b[0m    \u001b[0mlinewidths\u001b[0m\u001b[1;33m=\u001b[0m\u001b[1;32mNone\u001b[0m\u001b[1;33m,\u001b[0m\u001b[1;33m\n",
       "\u001b[0m    \u001b[0mverts\u001b[0m\u001b[1;33m=\u001b[0m\u001b[1;33m<\u001b[0m\u001b[0mdeprecated\u001b[0m \u001b[0mparameter\u001b[0m\u001b[1;33m>\u001b[0m\u001b[1;33m,\u001b[0m\u001b[1;33m\n",
       "\u001b[0m    \u001b[0medgecolors\u001b[0m\u001b[1;33m=\u001b[0m\u001b[1;32mNone\u001b[0m\u001b[1;33m,\u001b[0m\u001b[1;33m\n",
       "\u001b[0m    \u001b[1;33m*\u001b[0m\u001b[1;33m,\u001b[0m\u001b[1;33m\n",
       "\u001b[0m    \u001b[0mplotnonfinite\u001b[0m\u001b[1;33m=\u001b[0m\u001b[1;32mFalse\u001b[0m\u001b[1;33m,\u001b[0m\u001b[1;33m\n",
       "\u001b[0m    \u001b[0mdata\u001b[0m\u001b[1;33m=\u001b[0m\u001b[1;32mNone\u001b[0m\u001b[1;33m,\u001b[0m\u001b[1;33m\n",
       "\u001b[0m    \u001b[1;33m**\u001b[0m\u001b[0mkwargs\u001b[0m\u001b[1;33m,\u001b[0m\u001b[1;33m\n",
       "\u001b[0m\u001b[1;33m)\u001b[0m\u001b[1;33m\u001b[0m\u001b[1;33m\u001b[0m\u001b[0m\n",
       "\u001b[1;31mDocstring:\u001b[0m\n",
       "A scatter plot of *y* vs. *x* with varying marker size and/or color.\n",
       "\n",
       "Parameters\n",
       "----------\n",
       "x, y : scalar or array-like, shape (n, )\n",
       "    The data positions.\n",
       "\n",
       "s : scalar or array-like, shape (n, ), optional\n",
       "    The marker size in points**2.\n",
       "    Default is ``rcParams['lines.markersize'] ** 2``.\n",
       "\n",
       "c : array-like or list of colors or color, optional\n",
       "    The marker colors. Possible values:\n",
       "\n",
       "    - A scalar or sequence of n numbers to be mapped to colors using\n",
       "      *cmap* and *norm*.\n",
       "    - A 2-D array in which the rows are RGB or RGBA.\n",
       "    - A sequence of colors of length n.\n",
       "    - A single color format string.\n",
       "\n",
       "    Note that *c* should not be a single numeric RGB or RGBA sequence\n",
       "    because that is indistinguishable from an array of values to be\n",
       "    colormapped. If you want to specify the same RGB or RGBA value for\n",
       "    all points, use a 2-D array with a single row.  Otherwise, value-\n",
       "    matching will have precedence in case of a size matching with *x*\n",
       "    and *y*.\n",
       "\n",
       "    If you wish to specify a single color for all points\n",
       "    prefer the *color* keyword argument.\n",
       "\n",
       "    Defaults to `None`. In that case the marker color is determined\n",
       "    by the value of *color*, *facecolor* or *facecolors*. In case\n",
       "    those are not specified or `None`, the marker color is determined\n",
       "    by the next color of the ``Axes``' current \"shape and fill\" color\n",
       "    cycle. This cycle defaults to :rc:`axes.prop_cycle`.\n",
       "\n",
       "marker : `~matplotlib.markers.MarkerStyle`, optional\n",
       "    The marker style. *marker* can be either an instance of the class\n",
       "    or the text shorthand for a particular marker.\n",
       "    Defaults to ``None``, in which case it takes the value of\n",
       "    :rc:`scatter.marker` = 'o'.\n",
       "    See `~matplotlib.markers` for more information about marker styles.\n",
       "\n",
       "cmap : `~matplotlib.colors.Colormap`, optional, default: None\n",
       "    A `.Colormap` instance or registered colormap name. *cmap* is only\n",
       "    used if *c* is an array of floats. If ``None``, defaults to rc\n",
       "    ``image.cmap``.\n",
       "\n",
       "norm : `~matplotlib.colors.Normalize`, optional, default: None\n",
       "    A `.Normalize` instance is used to scale luminance data to 0, 1.\n",
       "    *norm* is only used if *c* is an array of floats. If *None*, use\n",
       "    the default `.colors.Normalize`.\n",
       "\n",
       "vmin, vmax : scalar, optional, default: None\n",
       "    *vmin* and *vmax* are used in conjunction with *norm* to normalize\n",
       "    luminance data. If None, the respective min and max of the color\n",
       "    array is used. *vmin* and *vmax* are ignored if you pass a *norm*\n",
       "    instance.\n",
       "\n",
       "alpha : scalar, optional, default: None\n",
       "    The alpha blending value, between 0 (transparent) and 1 (opaque).\n",
       "\n",
       "linewidths : scalar or array-like, optional, default: None\n",
       "    The linewidth of the marker edges. Note: The default *edgecolors*\n",
       "    is 'face'. You may want to change this as well.\n",
       "    If *None*, defaults to :rc:`lines.linewidth`.\n",
       "\n",
       "edgecolors : {'face', 'none', *None*} or color or sequence of color, optional.\n",
       "    The edge color of the marker. Possible values:\n",
       "\n",
       "    - 'face': The edge color will always be the same as the face color.\n",
       "    - 'none': No patch boundary will be drawn.\n",
       "    - A Matplotlib color or sequence of color.\n",
       "\n",
       "    Defaults to ``None``, in which case it takes the value of\n",
       "    :rc:`scatter.edgecolors` = 'face'.\n",
       "\n",
       "    For non-filled markers, the *edgecolors* kwarg is ignored and\n",
       "    forced to 'face' internally.\n",
       "\n",
       "plotnonfinite : boolean, optional, default: False\n",
       "    Set to plot points with nonfinite *c*, in conjunction with\n",
       "    `~matplotlib.colors.Colormap.set_bad`.\n",
       "\n",
       "Returns\n",
       "-------\n",
       "paths : `~matplotlib.collections.PathCollection`\n",
       "\n",
       "Other Parameters\n",
       "----------------\n",
       "**kwargs : `~matplotlib.collections.Collection` properties\n",
       "\n",
       "See Also\n",
       "--------\n",
       "plot : To plot scatter plots when markers are identical in size and\n",
       "    color.\n",
       "\n",
       "Notes\n",
       "-----\n",
       "* The `.plot` function will be faster for scatterplots where markers\n",
       "  don't vary in size or color.\n",
       "\n",
       "* Any or all of *x*, *y*, *s*, and *c* may be masked arrays, in which\n",
       "  case all masks will be combined and only unmasked points will be\n",
       "  plotted.\n",
       "\n",
       "* Fundamentally, scatter works with 1-D arrays; *x*, *y*, *s*, and *c*\n",
       "  may be input as N-D arrays, but within scatter they will be\n",
       "  flattened. The exception is *c*, which will be flattened only if its\n",
       "  size matches the size of *x* and *y*.\n",
       "\n",
       ".. note::\n",
       "    In addition to the above described arguments, this function can take a\n",
       "    **data** keyword argument. If such a **data** argument is given, the\n",
       "    following arguments are replaced by **data[<arg>]**:\n",
       "\n",
       "    * All arguments with the following names: 'c', 'color', 'edgecolors', 'facecolor', 'facecolors', 'linewidths', 's', 'x', 'y'.\n",
       "\n",
       "    Objects passed as **data** must support item access (``data[<arg>]``) and\n",
       "    membership test (``<arg> in data``).\n",
       "\u001b[1;31mFile:\u001b[0m      c:\\users\\predator-user\\anaconda3\\lib\\site-packages\\matplotlib\\axes\\_axes.py\n",
       "\u001b[1;31mType:\u001b[0m      method\n"
      ]
     },
     "metadata": {},
     "output_type": "display_data"
    }
   ],
   "source": [
    "ax.scatter?"
   ]
  },
  {
   "cell_type": "markdown",
   "metadata": {},
   "source": [
    "##### **Code segment no. 4** (put your comments for this code segment)\n",
    "A sigmoid function is defined with a single input parameter named z."
   ]
  },
  {
   "cell_type": "code",
   "execution_count": 5,
   "metadata": {},
   "outputs": [],
   "source": [
    "def sigmoid(z):\n",
    "    return 1 / (1 + np.exp(-z))\n",
    "# this is simply the formula for the sigmoid function. sigmoid is a logarithmic function that goes from 0 to 1 only.\n",
    "# sigmoid function, when plotted, creates a function evenly divided in the center. this function is used in \n",
    "# machine learning because of its division in the middle. this is used to decide between two options, rather than a\n",
    "# scale of options. i.e good for choosing between yes or no but not a letter from a-z. "
   ]
  },
  {
   "cell_type": "markdown",
   "metadata": {},
   "source": [
    "##### **Code segment no. 5**\n",
    "The sigmoid function is then plotted as a line graph."
   ]
  },
  {
   "cell_type": "code",
   "execution_count": 6,
   "metadata": {},
   "outputs": [
    {
     "data": {
      "text/plain": [
       "[<matplotlib.lines.Line2D at 0x1cce9a88ca0>]"
      ]
     },
     "execution_count": 6,
     "metadata": {},
     "output_type": "execute_result"
    },
    {
     "data": {
      "image/png": "[encoded data removed]",
      "text/plain": [
       "<Figure size 864x576 with 1 Axes>"
      ]
     },
     "metadata": {
      "needs_background": "light"
     },
     "output_type": "display_data"
    }
   ],
   "source": [
    "nums = np.arange(-10, 10, step=1)\n",
    "# creates an array from -10 to 10 with an increment, or spacing, of 1.\n",
    "\n",
    "fig, ax = plt.subplots(figsize=(12,8))\n",
    "ax.plot(nums, sigmoid(nums), 'r')\n",
    "# creates a line graph of the sigmoid function\n",
    "\n",
    "# the graph below shows the sigmoid function. this is exactly what it looks like. the division is exactly in the middle.\n",
    "# the shape of the graph is what makes it useful for deciding between two things, because its close to either just 0 or 1\n",
    "# in the y-axis."
   ]
  },
  {
   "cell_type": "markdown",
   "metadata": {},
   "source": [
    "##### **Code segment no. 6**\n",
    "A cost function is defined taking in three input parameters, namely theta, X, and y. Matrices are made using these parameters. Then the cost is then returned."
   ]
  },
  {
   "cell_type": "code",
   "execution_count": 7,
   "metadata": {},
   "outputs": [],
   "source": [
    "def cost(theta, X, y):\n",
    "    theta = np.matrix(theta)\n",
    "    X = np.matrix(X)\n",
    "    y = np.matrix(y)\n",
    "    first = np.multiply(-y, np.log(sigmoid(X * theta.T)))\n",
    "    second = np.multiply((1 - y), np.log(1 - sigmoid(X * theta.T)))\n",
    "    return np.sum(first - second) / (len(X))\n",
    "\n",
    "# this is the error or cost computation in a sigmoid function. the returned value is how 'wrong' a value is."
   ]
  },
  {
   "cell_type": "markdown",
   "metadata": {},
   "source": [
    "##### **Code segment no. 7**\n",
    "add a ones column - this makes the matrix multiplication work out easier"
   ]
  },
  {
   "cell_type": "code",
   "execution_count": 8,
   "metadata": {},
   "outputs": [],
   "source": [
    "data.insert(0, 'Ones', 1)\n",
    "# inserts a ones column in the dataframe. makes matrix operations easier."
   ]
  },
  {
   "cell_type": "markdown",
   "metadata": {},
   "source": [
    "##### set X (training data) and y (target variable)"
   ]
  },
  {
   "cell_type": "code",
   "execution_count": 9,
   "metadata": {},
   "outputs": [],
   "source": [
    "cols = data.shape[1]\n",
    "# gets the number of columns and saves it in cols.\n",
    "X = data.iloc[:,0:cols-1]\n",
    "# iloc retrieves all the rows, and columns from 0 to cols - 1 then saves in X.\n",
    "y = data.iloc[:,cols-1:cols]\n",
    "# iloc retrieves all the rows, and columns from cols-1 to cols then saves in y"
   ]
  },
  {
   "cell_type": "markdown",
   "metadata": {},
   "source": [
    "##### convert to numpy arrays and initalize the parameter array theta"
   ]
  },
  {
   "cell_type": "code",
   "execution_count": 10,
   "metadata": {},
   "outputs": [],
   "source": [
    "X = np.array(X.values)\n",
    "# X (currently a dataframe) values are retrieved and turned into an array. then overwrites X.\n",
    "y = np.array(y.values)\n",
    "# y (currently a dataframe) values are retrieved and turned into an array. then overwrites y.\n",
    "theta = np.zeros(3)\n",
    "# creates an array filled with 0s. takes shape (or size) as a parameter. this line creates an array of 3 0s.\n",
    "# we create theta because this is the 'weight' or 'coefficient' that fits the model. but this will be adjusted\n",
    "# thus, we start from 0, then adjusted to the optimal theta value."
   ]
  },
  {
   "cell_type": "markdown",
   "metadata": {},
   "source": [
    "##### **Code segment no. 8**\n",
    "The sizes of the X, theta, and y matrices are displayed."
   ]
  },
  {
   "cell_type": "code",
   "execution_count": 11,
   "metadata": {},
   "outputs": [
    {
     "data": {
      "text/plain": [
       "((100, 3), (3,), (100, 1))"
      ]
     },
     "execution_count": 11,
     "metadata": {},
     "output_type": "execute_result"
    }
   ],
   "source": [
    "X.shape, theta.shape, y.shape\n",
    "# returns the size (shape) of X, theta, and y"
   ]
  },
  {
   "cell_type": "markdown",
   "metadata": {},
   "source": [
    "##### **Code segment no. 9**\n",
    "Cost is computed using the cost function taking in the three input parameters."
   ]
  },
  {
   "cell_type": "code",
   "execution_count": 12,
   "metadata": {},
   "outputs": [
    {
     "data": {
      "text/plain": [
       "0.6931471805599453"
      ]
     },
     "execution_count": 12,
     "metadata": {},
     "output_type": "execute_result"
    }
   ],
   "source": [
    "cost(theta, X, y)\n",
    "# returns the error or cost of the current 0 theta."
   ]
  },
  {
   "cell_type": "markdown",
   "metadata": {},
   "source": [
    "##### **Code segment no. 10**\n",
    "Here a gradient function is defined. This function takes three input parameters and returns a grad matrix."
   ]
  },
  {
   "cell_type": "code",
   "execution_count": 13,
   "metadata": {},
   "outputs": [],
   "source": [
    "def gradient(theta, X, y):\n",
    "    theta = np.matrix(theta)\n",
    "    X = np.matrix(X)\n",
    "    y = np.matrix(y)\n",
    "    # converts the arrays X, y, and theta into matrices\n",
    "    \n",
    "    parameters = int(theta.ravel().shape[1])\n",
    "    # theta.ravel() 'flattens' the matrix\n",
    "    # .shape[1] returns the number of columns of theta.ravel()\n",
    "    # this is then saved into parameters\n",
    "    grad = np.zeros(parameters)\n",
    "    # an array filled with 0s is made, with n (parameters) number of entries.\n",
    "    \n",
    "    error = sigmoid(X * theta.T) - y\n",
    "    \n",
    "    # error is computed using the sigmoid function.\n",
    "    \n",
    "    for i in range(parameters):\n",
    "        term = np.multiply(error, X[:,i])\n",
    "        grad[i] = np.sum(term) / len(X)\n",
    "    \n",
    "    # gradient is simply a PARTIAL derivative of the function. i.e deriving ax+by+cz w.r.t x, y, then z. \n",
    "    # the partial derivatives are called gradients. this is like ok how much influence (gradient) does X\n",
    "    # and y have onto the function. what is the most optimal gradient that would accurately fit the model.\n",
    "    \n",
    "    return grad\n",
    "# returns the list of gradients or weights"
   ]
  },
  {
   "cell_type": "markdown",
   "metadata": {},
   "source": [
    "##### **Code segment no. 11**\n",
    "A gradient matrix is solved using the previous parameters: theta, X, and y."
   ]
  },
  {
   "cell_type": "code",
   "execution_count": 14,
   "metadata": {},
   "outputs": [
    {
     "data": {
      "text/plain": [
       "array([ -0.1       , -12.00921659, -11.26284221])"
      ]
     },
     "execution_count": 14,
     "metadata": {},
     "output_type": "execute_result"
    }
   ],
   "source": [
    "gradient(theta, X, y)\n",
    "# solves for the gradient based on our previously collected theta, X, and y"
   ]
  },
  {
   "cell_type": "markdown",
   "metadata": {},
   "source": [
    "##### **Code segment no. 12**\n",
    "Scipy library is imported. A result array is returned by minimizing a function through the fmin_tnc function."
   ]
  },
  {
   "cell_type": "code",
   "execution_count": 15,
   "metadata": {},
   "outputs": [
    {
     "data": {
      "text/plain": [
       "(array([-25.16131872,   0.20623159,   0.20147149]), 36, 0)"
      ]
     },
     "execution_count": 15,
     "metadata": {},
     "output_type": "execute_result"
    }
   ],
   "source": [
    "import scipy.optimize as opt\n",
    "# imports optimize library from scipy. assigned alias is opt.\n",
    "result = opt.fmin_tnc(func=cost, x0=theta, fprime=gradient, args=(X, y))\n",
    "# func is a function. this case takes the cost function (as defined in segment 6).\n",
    "# x0 is the initial minimum, which was theta [0,0,0]. \n",
    "# fprime is the gradient formula or the partial derivative of the sigmoid function\n",
    "# args are the input or training values\n",
    "result\n",
    "\n",
    "# the .fmin_tnc() function returns in the exact order: the solution, number of attempts/iterations/evaluations, \n",
    "# and the return code. the return code is the remarks on the solution. \n",
    "# use opt.fmin_tnc? for full documentation on the return codes.\n",
    "\n",
    "# the output of fmin_tnc is saved into result. this is a tuple with 3 values: the solution, number of evaluations, \n",
    "# and return code."
   ]
  },
  {
   "cell_type": "code",
   "execution_count": 16,
   "metadata": {},
   "outputs": [
    {
     "data": {
      "text/plain": [
       "\u001b[1;31mSignature:\u001b[0m\n",
       "\u001b[0mopt\u001b[0m\u001b[1;33m.\u001b[0m\u001b[0mfmin_tnc\u001b[0m\u001b[1;33m(\u001b[0m\u001b[1;33m\n",
       "\u001b[0m    \u001b[0mfunc\u001b[0m\u001b[1;33m,\u001b[0m\u001b[1;33m\n",
       "\u001b[0m    \u001b[0mx0\u001b[0m\u001b[1;33m,\u001b[0m\u001b[1;33m\n",
       "\u001b[0m    \u001b[0mfprime\u001b[0m\u001b[1;33m=\u001b[0m\u001b[1;32mNone\u001b[0m\u001b[1;33m,\u001b[0m\u001b[1;33m\n",
       "\u001b[0m    \u001b[0margs\u001b[0m\u001b[1;33m=\u001b[0m\u001b[1;33m(\u001b[0m\u001b[1;33m)\u001b[0m\u001b[1;33m,\u001b[0m\u001b[1;33m\n",
       "\u001b[0m    \u001b[0mapprox_grad\u001b[0m\u001b[1;33m=\u001b[0m\u001b[1;36m0\u001b[0m\u001b[1;33m,\u001b[0m\u001b[1;33m\n",
       "\u001b[0m    \u001b[0mbounds\u001b[0m\u001b[1;33m=\u001b[0m\u001b[1;32mNone\u001b[0m\u001b[1;33m,\u001b[0m\u001b[1;33m\n",
       "\u001b[0m    \u001b[0mepsilon\u001b[0m\u001b[1;33m=\u001b[0m\u001b[1;36m1e-08\u001b[0m\u001b[1;33m,\u001b[0m\u001b[1;33m\n",
       "\u001b[0m    \u001b[0mscale\u001b[0m\u001b[1;33m=\u001b[0m\u001b[1;32mNone\u001b[0m\u001b[1;33m,\u001b[0m\u001b[1;33m\n",
       "\u001b[0m    \u001b[0moffset\u001b[0m\u001b[1;33m=\u001b[0m\u001b[1;32mNone\u001b[0m\u001b[1;33m,\u001b[0m\u001b[1;33m\n",
       "\u001b[0m    \u001b[0mmessages\u001b[0m\u001b[1;33m=\u001b[0m\u001b[1;36m15\u001b[0m\u001b[1;33m,\u001b[0m\u001b[1;33m\n",
       "\u001b[0m    \u001b[0mmaxCGit\u001b[0m\u001b[1;33m=\u001b[0m\u001b[1;33m-\u001b[0m\u001b[1;36m1\u001b[0m\u001b[1;33m,\u001b[0m\u001b[1;33m\n",
       "\u001b[0m    \u001b[0mmaxfun\u001b[0m\u001b[1;33m=\u001b[0m\u001b[1;32mNone\u001b[0m\u001b[1;33m,\u001b[0m\u001b[1;33m\n",
       "\u001b[0m    \u001b[0meta\u001b[0m\u001b[1;33m=\u001b[0m\u001b[1;33m-\u001b[0m\u001b[1;36m1\u001b[0m\u001b[1;33m,\u001b[0m\u001b[1;33m\n",
       "\u001b[0m    \u001b[0mstepmx\u001b[0m\u001b[1;33m=\u001b[0m\u001b[1;36m0\u001b[0m\u001b[1;33m,\u001b[0m\u001b[1;33m\n",
       "\u001b[0m    \u001b[0maccuracy\u001b[0m\u001b[1;33m=\u001b[0m\u001b[1;36m0\u001b[0m\u001b[1;33m,\u001b[0m\u001b[1;33m\n",
       "\u001b[0m    \u001b[0mfmin\u001b[0m\u001b[1;33m=\u001b[0m\u001b[1;36m0\u001b[0m\u001b[1;33m,\u001b[0m\u001b[1;33m\n",
       "\u001b[0m    \u001b[0mftol\u001b[0m\u001b[1;33m=\u001b[0m\u001b[1;33m-\u001b[0m\u001b[1;36m1\u001b[0m\u001b[1;33m,\u001b[0m\u001b[1;33m\n",
       "\u001b[0m    \u001b[0mxtol\u001b[0m\u001b[1;33m=\u001b[0m\u001b[1;33m-\u001b[0m\u001b[1;36m1\u001b[0m\u001b[1;33m,\u001b[0m\u001b[1;33m\n",
       "\u001b[0m    \u001b[0mpgtol\u001b[0m\u001b[1;33m=\u001b[0m\u001b[1;33m-\u001b[0m\u001b[1;36m1\u001b[0m\u001b[1;33m,\u001b[0m\u001b[1;33m\n",
       "\u001b[0m    \u001b[0mrescale\u001b[0m\u001b[1;33m=\u001b[0m\u001b[1;33m-\u001b[0m\u001b[1;36m1\u001b[0m\u001b[1;33m,\u001b[0m\u001b[1;33m\n",
       "\u001b[0m    \u001b[0mdisp\u001b[0m\u001b[1;33m=\u001b[0m\u001b[1;32mNone\u001b[0m\u001b[1;33m,\u001b[0m\u001b[1;33m\n",
       "\u001b[0m    \u001b[0mcallback\u001b[0m\u001b[1;33m=\u001b[0m\u001b[1;32mNone\u001b[0m\u001b[1;33m,\u001b[0m\u001b[1;33m\n",
       "\u001b[0m\u001b[1;33m)\u001b[0m\u001b[1;33m\u001b[0m\u001b[1;33m\u001b[0m\u001b[0m\n",
       "\u001b[1;31mDocstring:\u001b[0m\n",
       "Minimize a function with variables subject to bounds, using\n",
       "gradient information in a truncated Newton algorithm. This\n",
       "method wraps a C implementation of the algorithm.\n",
       "\n",
       "Parameters\n",
       "----------\n",
       "func : callable ``func(x, *args)``\n",
       "    Function to minimize.  Must do one of:\n",
       "\n",
       "    1. Return f and g, where f is the value of the function and g its\n",
       "       gradient (a list of floats).\n",
       "\n",
       "    2. Return the function value but supply gradient function\n",
       "       separately as `fprime`.\n",
       "\n",
       "    3. Return the function value and set ``approx_grad=True``.\n",
       "\n",
       "    If the function returns None, the minimization\n",
       "    is aborted.\n",
       "x0 : array_like\n",
       "    Initial estimate of minimum.\n",
       "fprime : callable ``fprime(x, *args)``, optional\n",
       "    Gradient of `func`. If None, then either `func` must return the\n",
       "    function value and the gradient (``f,g = func(x, *args)``)\n",
       "    or `approx_grad` must be True.\n",
       "args : tuple, optional\n",
       "    Arguments to pass to function.\n",
       "approx_grad : bool, optional\n",
       "    If true, approximate the gradient numerically.\n",
       "bounds : list, optional\n",
       "    (min, max) pairs for each element in x0, defining the\n",
       "    bounds on that parameter. Use None or +/-inf for one of\n",
       "    min or max when there is no bound in that direction.\n",
       "epsilon : float, optional\n",
       "    Used if approx_grad is True. The stepsize in a finite\n",
       "    difference approximation for fprime.\n",
       "scale : array_like, optional\n",
       "    Scaling factors to apply to each variable.  If None, the\n",
       "    factors are up-low for interval bounded variables and\n",
       "    1+|x| for the others.  Defaults to None.\n",
       "offset : array_like, optional\n",
       "    Value to subtract from each variable.  If None, the\n",
       "    offsets are (up+low)/2 for interval bounded variables\n",
       "    and x for the others.\n",
       "messages : int, optional\n",
       "    Bit mask used to select messages display during\n",
       "    minimization values defined in the MSGS dict.  Defaults to\n",
       "    MGS_ALL.\n",
       "disp : int, optional\n",
       "    Integer interface to messages.  0 = no message, 5 = all messages\n",
       "maxCGit : int, optional\n",
       "    Maximum number of hessian*vector evaluations per main\n",
       "    iteration.  If maxCGit == 0, the direction chosen is\n",
       "    -gradient if maxCGit < 0, maxCGit is set to\n",
       "    max(1,min(50,n/2)).  Defaults to -1.\n",
       "maxfun : int, optional\n",
       "    Maximum number of function evaluation.  if None, maxfun is\n",
       "    set to max(100, 10*len(x0)).  Defaults to None.\n",
       "eta : float, optional\n",
       "    Severity of the line search. if < 0 or > 1, set to 0.25.\n",
       "    Defaults to -1.\n",
       "stepmx : float, optional\n",
       "    Maximum step for the line search.  May be increased during\n",
       "    call.  If too small, it will be set to 10.0.  Defaults to 0.\n",
       "accuracy : float, optional\n",
       "    Relative precision for finite difference calculations.  If\n",
       "    <= machine_precision, set to sqrt(machine_precision).\n",
       "    Defaults to 0.\n",
       "fmin : float, optional\n",
       "    Minimum function value estimate.  Defaults to 0.\n",
       "ftol : float, optional\n",
       "    Precision goal for the value of f in the stopping criterion.\n",
       "    If ftol < 0.0, ftol is set to 0.0 defaults to -1.\n",
       "xtol : float, optional\n",
       "    Precision goal for the value of x in the stopping\n",
       "    criterion (after applying x scaling factors).  If xtol <\n",
       "    0.0, xtol is set to sqrt(machine_precision).  Defaults to\n",
       "    -1.\n",
       "pgtol : float, optional\n",
       "    Precision goal for the value of the projected gradient in\n",
       "    the stopping criterion (after applying x scaling factors).\n",
       "    If pgtol < 0.0, pgtol is set to 1e-2 * sqrt(accuracy).\n",
       "    Setting it to 0.0 is not recommended.  Defaults to -1.\n",
       "rescale : float, optional\n",
       "    Scaling factor (in log10) used to trigger f value\n",
       "    rescaling.  If 0, rescale at each iteration.  If a large\n",
       "    value, never rescale.  If < 0, rescale is set to 1.3.\n",
       "callback : callable, optional\n",
       "    Called after each iteration, as callback(xk), where xk is the\n",
       "    current parameter vector.\n",
       "\n",
       "Returns\n",
       "-------\n",
       "x : ndarray\n",
       "    The solution.\n",
       "nfeval : int\n",
       "    The number of function evaluations.\n",
       "rc : int\n",
       "    Return code, see below\n",
       "\n",
       "See also\n",
       "--------\n",
       "minimize: Interface to minimization algorithms for multivariate\n",
       "    functions. See the 'TNC' `method` in particular.\n",
       "\n",
       "Notes\n",
       "-----\n",
       "The underlying algorithm is truncated Newton, also called\n",
       "Newton Conjugate-Gradient. This method differs from\n",
       "scipy.optimize.fmin_ncg in that\n",
       "\n",
       "1. It wraps a C implementation of the algorithm\n",
       "2. It allows each variable to be given an upper and lower bound.\n",
       "\n",
       "The algorithm incorporates the bound constraints by determining\n",
       "the descent direction as in an unconstrained truncated Newton,\n",
       "but never taking a step-size large enough to leave the space\n",
       "of feasible x's. The algorithm keeps track of a set of\n",
       "currently active constraints, and ignores them when computing\n",
       "the minimum allowable step size. (The x's associated with the\n",
       "active constraint are kept fixed.) If the maximum allowable\n",
       "step size is zero then a new constraint is added. At the end\n",
       "of each iteration one of the constraints may be deemed no\n",
       "longer active and removed. A constraint is considered\n",
       "no longer active is if it is currently active\n",
       "but the gradient for that variable points inward from the\n",
       "constraint. The specific constraint removed is the one\n",
       "associated with the variable of largest index whose\n",
       "constraint is no longer active.\n",
       "\n",
       "Return codes are defined as follows::\n",
       "\n",
       "    -1 : Infeasible (lower bound > upper bound)\n",
       "     0 : Local minimum reached (|pg| ~= 0)\n",
       "     1 : Converged (|f_n-f_(n-1)| ~= 0)\n",
       "     2 : Converged (|x_n-x_(n-1)| ~= 0)\n",
       "     3 : Max. number of function evaluations reached\n",
       "     4 : Linear search failed\n",
       "     5 : All lower bounds are equal to the upper bounds\n",
       "     6 : Unable to progress\n",
       "     7 : User requested end of minimization\n",
       "\n",
       "References\n",
       "----------\n",
       "Wright S., Nocedal J. (2006), 'Numerical Optimization'\n",
       "\n",
       "Nash S.G. (1984), \"Newton-Type Minimization Via the Lanczos Method\",\n",
       "SIAM Journal of Numerical Analysis 21, pp. 770-778\n",
       "\u001b[1;31mFile:\u001b[0m      c:\\users\\predator-user\\anaconda3\\lib\\site-packages\\scipy\\optimize\\tnc.py\n",
       "\u001b[1;31mType:\u001b[0m      function\n"
      ]
     },
     "metadata": {},
     "output_type": "display_data"
    }
   ],
   "source": [
    "opt.fmin_tnc?"
   ]
  },
  {
   "cell_type": "markdown",
   "metadata": {},
   "source": [
    "##### **Code segment no. 13**\n",
    "A new cost is returned using the new result."
   ]
  },
  {
   "cell_type": "code",
   "execution_count": 17,
   "metadata": {},
   "outputs": [
    {
     "data": {
      "text/plain": [
       "0.20349770158947425"
      ]
     },
     "execution_count": 17,
     "metadata": {},
     "output_type": "execute_result"
    }
   ],
   "source": [
    "cost(result[0], X, y)\n",
    "# a new cost or error is computed using the new optimal solution (result[0])"
   ]
  },
  {
   "cell_type": "markdown",
   "metadata": {},
   "source": [
    "##### **Code segment no. 14**\n",
    "A prediction function is made. This function identifies admittance or non-admittance based on probability."
   ]
  },
  {
   "cell_type": "code",
   "execution_count": 18,
   "metadata": {},
   "outputs": [],
   "source": [
    "def predict(theta, X):\n",
    "    probability = sigmoid(X * theta.T)\n",
    "    return [1 if x >= 0.5 else 0 for x in probability]\n",
    "# this is the prediction formula. it computes for the probability using the sigmoid function. (rmr sigmoid is only 0 to 1)\n",
    "# if this probability is >= 0.1, it returns 1 (admitted), otherwise from 0 to 0.5, it returns 0 (not admitted)"
   ]
  },
  {
   "cell_type": "markdown",
   "metadata": {},
   "source": [
    "##### **Code segment no. 15**\n",
    "The predictions are compared to the correct answers. Then the number of correct predictions are then compared to compute for the accuracy of the program."
   ]
  },
  {
   "cell_type": "code",
   "execution_count": 19,
   "metadata": {},
   "outputs": [
    {
     "name": "stdout",
     "output_type": "stream",
     "text": [
      "accuracy = 89.00\n"
     ]
    }
   ],
   "source": [
    "theta_min = np.matrix(result[0])\n",
    "# converts the tuple result[0] (optimal solution) into a matrix. the matrix is saved in theta_min\n",
    "predictions = predict(theta_min, X)\n",
    "# creates a list of predictions using the optimal solution and the X (training data).\n",
    "\n",
    "correct = [1 if ((a == 1 and b == 1) or (a == 0 and b == 0)) else 0 for (a, b) in zip(predictions, y)]\n",
    "# predictions and y are saved in a zip object with temporary variables assigned as a (predictions) and b (y)\n",
    "# for each iteration, it checks if a (predictions) and b (y) are the same. if the prediction is correct, \n",
    "# the item in the list 'correct' is saved as 1 if not 0.\n",
    "\n",
    "accuracy = (sum(map(int, correct)) / len(correct) * 100)\n",
    "# converts all correct items into integers. then the count of the correct predictions is taken.\n",
    "# number of correct predictions is divided into total number of comparisons. (correct / total items) * 100 = accuracy.\n",
    "# previous code used % instead of /. this is incorrect in computing accuracy because remainder stays the same as long\n",
    "# as len(correct) > sum(correct). \n",
    "\n",
    "# in this case, nagkataon lang na len(correct) or total rows = 100 kaya the answer is the same. See next line for proof.\n",
    "\n",
    "print ('accuracy = {:.2f}'.format(accuracy))"
   ]
  },
  {
   "cell_type": "code",
   "execution_count": 20,
   "metadata": {},
   "outputs": [
    {
     "name": "stdout",
     "output_type": "stream",
     "text": [
      "score / 100:\t 89 \n",
      "score / 105:\t 89\n",
      "\n",
      "This is incorrect because accuracy should be lower in score / 105\n",
      "\n",
      "Correct answers \n",
      "score / 100:\t 89.0\n",
      "score / 105:\t84.76\n"
     ]
    }
   ],
   "source": [
    "print (\"score / 100:\\t\", sum(map(int, correct)) % len(correct), \"\\nscore / 105:\\t\", sum(map(int, correct)) % 105)\n",
    "print(\"\\nThis is incorrect because accuracy should be lower in score / 105\")\n",
    "print (\"\\nCorrect answers \\nscore / 100:\\t\", sum(map(int, correct)) / len(correct) * 100)\n",
    "print (\"score / 105:\\t{:.2f}\".format(sum(map(int, correct)) / 105 * 100))"
   ]
  },
  {
   "cell_type": "markdown",
   "metadata": {},
   "source": [
    "#### Regularized logistic regression"
   ]
  },
  {
   "cell_type": "markdown",
   "metadata": {},
   "source": [
    "##### **Code segment no. 16**\n",
    "The new data files are imported. These files has their columns then labeled as Test 1, Test 2, and Accepted respectively. Then the first 5 data entries are presented."
   ]
  },
  {
   "cell_type": "code",
   "execution_count": 21,
   "metadata": {},
   "outputs": [
    {
     "data": {
      "text/html": [
       "<div>\n",
       "<style scoped>\n",
       "    .dataframe tbody tr th:only-of-type {\n",
       "        vertical-align: middle;\n",
       "    }\n",
       "\n",
       "    .dataframe tbody tr th {\n",
       "        vertical-align: top;\n",
       "    }\n",
       "\n",
       "    .dataframe thead th {\n",
       "        text-align: right;\n",
       "    }\n",
       "</style>\n",
       "<table border=\"1\" class=\"dataframe\">\n",
       "  <thead>\n",
       "    <tr style=\"text-align: right;\">\n",
       "      <th></th>\n",
       "      <th>Test 1</th>\n",
       "      <th>Test 2</th>\n",
       "      <th>Accepted</th>\n",
       "    </tr>\n",
       "  </thead>\n",
       "  <tbody>\n",
       "    <tr>\n",
       "      <th>0</th>\n",
       "      <td>0.051267</td>\n",
       "      <td>0.69956</td>\n",
       "      <td>1</td>\n",
       "    </tr>\n",
       "    <tr>\n",
       "      <th>1</th>\n",
       "      <td>-0.092742</td>\n",
       "      <td>0.68494</td>\n",
       "      <td>1</td>\n",
       "    </tr>\n",
       "    <tr>\n",
       "      <th>2</th>\n",
       "      <td>-0.213710</td>\n",
       "      <td>0.69225</td>\n",
       "      <td>1</td>\n",
       "    </tr>\n",
       "    <tr>\n",
       "      <th>3</th>\n",
       "      <td>-0.375000</td>\n",
       "      <td>0.50219</td>\n",
       "      <td>1</td>\n",
       "    </tr>\n",
       "    <tr>\n",
       "      <th>4</th>\n",
       "      <td>-0.513250</td>\n",
       "      <td>0.46564</td>\n",
       "      <td>1</td>\n",
       "    </tr>\n",
       "  </tbody>\n",
       "</table>\n",
       "</div>"
      ],
      "text/plain": [
       "     Test 1   Test 2  Accepted\n",
       "0  0.051267  0.69956         1\n",
       "1 -0.092742  0.68494         1\n",
       "2 -0.213710  0.69225         1\n",
       "3 -0.375000  0.50219         1\n",
       "4 -0.513250  0.46564         1"
      ]
     },
     "execution_count": 21,
     "metadata": {},
     "output_type": "execute_result"
    }
   ],
   "source": [
    "path = 'ex2data2.txt'\n",
    "data2 = pd.read_csv(path, header=None, names=['Test 1', 'Test 2', 'Accepted'])\n",
    "data2.head()\n",
    "# retrieves ex2data2 file and reads into a csv file."
   ]
  },
  {
   "cell_type": "markdown",
   "metadata": {},
   "source": [
    "##### **Code segment no. 17**\n",
    "Data is classified into accepted and not accepted. This data is then plotted accordingly using Test 1 and 2 scores while being classified into accepted and rejected."
   ]
  },
  {
   "cell_type": "code",
   "execution_count": 22,
   "metadata": {},
   "outputs": [
    {
     "data": {
      "text/plain": [
       "Text(0, 0.5, 'Test 2 Score')"
      ]
     },
     "execution_count": 22,
     "metadata": {},
     "output_type": "execute_result"
    },
    {
     "data": {
      "image/png": "[encoded data removed]",
      "text/plain": [
       "<Figure size 864x576 with 1 Axes>"
      ]
     },
     "metadata": {
      "needs_background": "light"
     },
     "output_type": "display_data"
    }
   ],
   "source": [
    "positive = data2[data2['Accepted'].isin([1])]\n",
    "negative = data2[data2['Accepted'].isin([0])]\n",
    "# see segment 3. this is the classification of the data into accepted and not accepted\n",
    "\n",
    "fig, ax = plt.subplots(figsize=(12,8))\n",
    "ax.scatter(positive['Test 1'], positive['Test 2'], s=50, c='b', marker='o', label='Accepted')\n",
    "ax.scatter(negative['Test 1'], negative['Test 2'], s=50, c='r', marker='x', label='Rejected')\n",
    "# creates plots for both accepted and not accepted students\n",
    "ax.legend()\n",
    "ax.set_xlabel('Test 1 Score')\n",
    "ax.set_ylabel('Test 2 Score')\n",
    "# creates a legend and sets labels for x-axis and y-axis."
   ]
  },
  {
   "cell_type": "markdown",
   "metadata": {},
   "source": [
    "##### **Code segment no. 18**\n",
    "Map features are created using a degree of 5. This data is presented accordingly"
   ]
  },
  {
   "cell_type": "code",
   "execution_count": 23,
   "metadata": {},
   "outputs": [
    {
     "data": {
      "text/html": [
       "<div>\n",
       "<style scoped>\n",
       "    .dataframe tbody tr th:only-of-type {\n",
       "        vertical-align: middle;\n",
       "    }\n",
       "\n",
       "    .dataframe tbody tr th {\n",
       "        vertical-align: top;\n",
       "    }\n",
       "\n",
       "    .dataframe thead th {\n",
       "        text-align: right;\n",
       "    }\n",
       "</style>\n",
       "<table border=\"1\" class=\"dataframe\">\n",
       "  <thead>\n",
       "    <tr style=\"text-align: right;\">\n",
       "      <th></th>\n",
       "      <th>Accepted</th>\n",
       "      <th>Ones</th>\n",
       "      <th>F10</th>\n",
       "      <th>F20</th>\n",
       "      <th>F21</th>\n",
       "      <th>F30</th>\n",
       "      <th>F31</th>\n",
       "      <th>F32</th>\n",
       "      <th>F40</th>\n",
       "      <th>F41</th>\n",
       "      <th>F42</th>\n",
       "      <th>F43</th>\n",
       "    </tr>\n",
       "  </thead>\n",
       "  <tbody>\n",
       "    <tr>\n",
       "      <th>0</th>\n",
       "      <td>1</td>\n",
       "      <td>1</td>\n",
       "      <td>0.051267</td>\n",
       "      <td>0.002628</td>\n",
       "      <td>0.035864</td>\n",
       "      <td>0.000135</td>\n",
       "      <td>0.001839</td>\n",
       "      <td>0.025089</td>\n",
       "      <td>0.000007</td>\n",
       "      <td>0.000094</td>\n",
       "      <td>0.001286</td>\n",
       "      <td>0.017551</td>\n",
       "    </tr>\n",
       "    <tr>\n",
       "      <th>1</th>\n",
       "      <td>1</td>\n",
       "      <td>1</td>\n",
       "      <td>-0.092742</td>\n",
       "      <td>0.008601</td>\n",
       "      <td>-0.063523</td>\n",
       "      <td>-0.000798</td>\n",
       "      <td>0.005891</td>\n",
       "      <td>-0.043509</td>\n",
       "      <td>0.000074</td>\n",
       "      <td>-0.000546</td>\n",
       "      <td>0.004035</td>\n",
       "      <td>-0.029801</td>\n",
       "    </tr>\n",
       "    <tr>\n",
       "      <th>2</th>\n",
       "      <td>1</td>\n",
       "      <td>1</td>\n",
       "      <td>-0.213710</td>\n",
       "      <td>0.045672</td>\n",
       "      <td>-0.147941</td>\n",
       "      <td>-0.009761</td>\n",
       "      <td>0.031616</td>\n",
       "      <td>-0.102412</td>\n",
       "      <td>0.002086</td>\n",
       "      <td>-0.006757</td>\n",
       "      <td>0.021886</td>\n",
       "      <td>-0.070895</td>\n",
       "    </tr>\n",
       "    <tr>\n",
       "      <th>3</th>\n",
       "      <td>1</td>\n",
       "      <td>1</td>\n",
       "      <td>-0.375000</td>\n",
       "      <td>0.140625</td>\n",
       "      <td>-0.188321</td>\n",
       "      <td>-0.052734</td>\n",
       "      <td>0.070620</td>\n",
       "      <td>-0.094573</td>\n",
       "      <td>0.019775</td>\n",
       "      <td>-0.026483</td>\n",
       "      <td>0.035465</td>\n",
       "      <td>-0.047494</td>\n",
       "    </tr>\n",
       "    <tr>\n",
       "      <th>4</th>\n",
       "      <td>1</td>\n",
       "      <td>1</td>\n",
       "      <td>-0.513250</td>\n",
       "      <td>0.263426</td>\n",
       "      <td>-0.238990</td>\n",
       "      <td>-0.135203</td>\n",
       "      <td>0.122661</td>\n",
       "      <td>-0.111283</td>\n",
       "      <td>0.069393</td>\n",
       "      <td>-0.062956</td>\n",
       "      <td>0.057116</td>\n",
       "      <td>-0.051818</td>\n",
       "    </tr>\n",
       "  </tbody>\n",
       "</table>\n",
       "</div>"
      ],
      "text/plain": [
       "   Accepted  Ones       F10       F20       F21       F30       F31       F32  \\\n",
       "0         1     1  0.051267  0.002628  0.035864  0.000135  0.001839  0.025089   \n",
       "1         1     1 -0.092742  0.008601 -0.063523 -0.000798  0.005891 -0.043509   \n",
       "2         1     1 -0.213710  0.045672 -0.147941 -0.009761  0.031616 -0.102412   \n",
       "3         1     1 -0.375000  0.140625 -0.188321 -0.052734  0.070620 -0.094573   \n",
       "4         1     1 -0.513250  0.263426 -0.238990 -0.135203  0.122661 -0.111283   \n",
       "\n",
       "        F40       F41       F42       F43  \n",
       "0  0.000007  0.000094  0.001286  0.017551  \n",
       "1  0.000074 -0.000546  0.004035 -0.029801  \n",
       "2  0.002086 -0.006757  0.021886 -0.070895  \n",
       "3  0.019775 -0.026483  0.035465 -0.047494  \n",
       "4  0.069393 -0.062956  0.057116 -0.051818  "
      ]
     },
     "execution_count": 23,
     "metadata": {},
     "output_type": "execute_result"
    }
   ],
   "source": [
    "degree = 5\n",
    "x1 = data2['Test 1']\n",
    "x2 = data2['Test 2']\n",
    "\n",
    "data2.insert(3, 'Ones', 1)\n",
    "\n",
    "for i in range(1, degree):\n",
    "    for j in range(0, i):\n",
    "        data2['F' + str(i) + str(j)] = np.power(x1, i-j) * np.power(x2, j)\n",
    "# this is feature mapping. this basically determines a set of 'features' for the program to consider. it identifies\n",
    "# what 'features' are redundant and which are relevant. increasing degree increases the number of features\n",
    "# basically features are what the program should consider as important and relevant in decision making/solving.\n",
    "# more features does mean more accurate, but you must consider that too many features or being too accurate will ONLY\n",
    "# hold true to this specific dataset. this is called overfitting. if you overfit, the model will be more accurate for your\n",
    "# training data but not necessarily to new data. \n",
    "\n",
    "data2.drop('Test 1', axis=1, inplace=True)\n",
    "data2.drop('Test 2', axis=1, inplace=True)\n",
    "# removes entire columns\n",
    "\n",
    "data2.head()"
   ]
  },
  {
   "cell_type": "markdown",
   "metadata": {},
   "source": [
    "##### **Code segment no. 19**\n",
    "A cost function is defined with 4 inputs. A learning rate is now included in this logisitic function."
   ]
  },
  {
   "cell_type": "code",
   "execution_count": 24,
   "metadata": {},
   "outputs": [],
   "source": [
    "def costReg(theta, X, y, learningRate):\n",
    "    theta = np.matrix(theta)\n",
    "    X = np.matrix(X)\n",
    "    y = np.matrix(y)\n",
    "    first = np.multiply(-y, np.log(sigmoid(X * theta.T)))\n",
    "    second = np.multiply((1 - y), np.log(1 - sigmoid(X * theta.T)))\n",
    "    reg = (learningRate / 2 * len(X)) * np.sum(np.power(theta[:,1:theta.shape[1]], 2))\n",
    "    return np.sum(first - second) / (len(X)) + reg\n",
    "\n",
    "# this computes cost or error similar to the sigmoid function. the primary difference is the reg variable. \n",
    "# this reg variable is Ridge regularization. See next line for the full explanation"
   ]
  },
  {
   "cell_type": "markdown",
   "metadata": {},
   "source": [
    "**Regularization**</br>\n",
    "Features are 'considerations' or 'factors' in a data. For example, we take the pricing of houses in a city. Features in this case would be the things that affected price such as lot size, location, neighborhood, population, number of bedrooms. All of these are features but some features affect or influence price more than the other. Location could increase or decrease pricing by the millions, while population of neighborhood would only increase or decrease by the thousands.</br> </br>\n",
    "In machine learning, we try to identify *how much* a feature can affect price. The formulas we use identifies the influence of these features simultaneously. A (+) feature increases probability of the effect desired while (-) feature decreases probability. We solve for features (like in feature mapping) by identifying how much a feature affects price in a *specific row of training data*. </br></br>\n",
    "In the case of the costReg function, we include Ridge regularization called variable reg. This regularization is the square of the sum of the coefficients. This part basically *reduces* the influence of features in our model. For example, lot size (feature) affecting pricing by hundred thousands in our model would be reduced to ten thousands instead. Ultimately *decreasing* the accuracy of our model **only** for the training data. The concept of decreasing accuracy is to prevent overfitting as earlier mentioned. This decreased accuracy makes our data more generalized, allowing it to be just as accurate when presented with new data. This also increases the precision of our predictions regardless of input ultimately becoming more consistent with new data."
   ]
  },
  {
   "cell_type": "markdown",
   "metadata": {},
   "source": [
    "##### **Code segment no. 20**\n",
    "A gradient function is defined with 4 inputs. This returns a gradient array."
   ]
  },
  {
   "cell_type": "code",
   "execution_count": 25,
   "metadata": {},
   "outputs": [],
   "source": [
    "def gradientReg(theta, X, y, learningRate):\n",
    "    theta = np.matrix(theta)\n",
    "    X = np.matrix(X)\n",
    "    y = np.matrix(y)\n",
    "    \n",
    "    parameters = int(theta.ravel().shape[1])\n",
    "    grad = np.zeros(parameters)\n",
    "    \n",
    "    error = sigmoid(X * theta.T) - y\n",
    "    \n",
    "    for i in range(parameters):\n",
    "        term = np.multiply(error, X[:,i])\n",
    "        \n",
    "        if (i == 0):\n",
    "            grad[i] = np.sum(term) / len(X)\n",
    "        else:\n",
    "            grad[i] = (np.sum(term) / len(X)) + ((learningRate / len(X)) * theta[:,i])\n",
    "    \n",
    "    return grad\n",
    "\n",
    "# gradient here is the partial derivative of our function. in this case, we include learning rate as this factor \n",
    "# 'slows down' or minimizes the adjustment of coefficients or influence/weight of features. \n",
    "# a higher learning rate would speed up learning but may also overfit the model to the training data which we want to avoid"
   ]
  },
  {
   "cell_type": "markdown",
   "metadata": {},
   "source": [
    "##### **Code segment no. 21**\n",
    "##### set X and y (remember from above that we moved the label to column 0)"
   ]
  },
  {
   "cell_type": "code",
   "execution_count": 26,
   "metadata": {},
   "outputs": [
    {
     "data": {
      "text/html": [
       "<div>\n",
       "<style scoped>\n",
       "    .dataframe tbody tr th:only-of-type {\n",
       "        vertical-align: middle;\n",
       "    }\n",
       "\n",
       "    .dataframe tbody tr th {\n",
       "        vertical-align: top;\n",
       "    }\n",
       "\n",
       "    .dataframe thead th {\n",
       "        text-align: right;\n",
       "    }\n",
       "</style>\n",
       "<table border=\"1\" class=\"dataframe\">\n",
       "  <thead>\n",
       "    <tr style=\"text-align: right;\">\n",
       "      <th></th>\n",
       "      <th>Accepted</th>\n",
       "      <th>Ones</th>\n",
       "      <th>F10</th>\n",
       "      <th>F20</th>\n",
       "      <th>F21</th>\n",
       "      <th>F30</th>\n",
       "      <th>F31</th>\n",
       "      <th>F32</th>\n",
       "      <th>F40</th>\n",
       "      <th>F41</th>\n",
       "      <th>F42</th>\n",
       "      <th>F43</th>\n",
       "    </tr>\n",
       "  </thead>\n",
       "  <tbody>\n",
       "    <tr>\n",
       "      <th>0</th>\n",
       "      <td>1</td>\n",
       "      <td>1</td>\n",
       "      <td>0.051267</td>\n",
       "      <td>0.002628</td>\n",
       "      <td>0.035864</td>\n",
       "      <td>0.000135</td>\n",
       "      <td>0.001839</td>\n",
       "      <td>0.025089</td>\n",
       "      <td>0.000007</td>\n",
       "      <td>0.000094</td>\n",
       "      <td>0.001286</td>\n",
       "      <td>0.017551</td>\n",
       "    </tr>\n",
       "    <tr>\n",
       "      <th>1</th>\n",
       "      <td>1</td>\n",
       "      <td>1</td>\n",
       "      <td>-0.092742</td>\n",
       "      <td>0.008601</td>\n",
       "      <td>-0.063523</td>\n",
       "      <td>-0.000798</td>\n",
       "      <td>0.005891</td>\n",
       "      <td>-0.043509</td>\n",
       "      <td>0.000074</td>\n",
       "      <td>-0.000546</td>\n",
       "      <td>0.004035</td>\n",
       "      <td>-0.029801</td>\n",
       "    </tr>\n",
       "    <tr>\n",
       "      <th>2</th>\n",
       "      <td>1</td>\n",
       "      <td>1</td>\n",
       "      <td>-0.213710</td>\n",
       "      <td>0.045672</td>\n",
       "      <td>-0.147941</td>\n",
       "      <td>-0.009761</td>\n",
       "      <td>0.031616</td>\n",
       "      <td>-0.102412</td>\n",
       "      <td>0.002086</td>\n",
       "      <td>-0.006757</td>\n",
       "      <td>0.021886</td>\n",
       "      <td>-0.070895</td>\n",
       "    </tr>\n",
       "    <tr>\n",
       "      <th>3</th>\n",
       "      <td>1</td>\n",
       "      <td>1</td>\n",
       "      <td>-0.375000</td>\n",
       "      <td>0.140625</td>\n",
       "      <td>-0.188321</td>\n",
       "      <td>-0.052734</td>\n",
       "      <td>0.070620</td>\n",
       "      <td>-0.094573</td>\n",
       "      <td>0.019775</td>\n",
       "      <td>-0.026483</td>\n",
       "      <td>0.035465</td>\n",
       "      <td>-0.047494</td>\n",
       "    </tr>\n",
       "    <tr>\n",
       "      <th>4</th>\n",
       "      <td>1</td>\n",
       "      <td>1</td>\n",
       "      <td>-0.513250</td>\n",
       "      <td>0.263426</td>\n",
       "      <td>-0.238990</td>\n",
       "      <td>-0.135203</td>\n",
       "      <td>0.122661</td>\n",
       "      <td>-0.111283</td>\n",
       "      <td>0.069393</td>\n",
       "      <td>-0.062956</td>\n",
       "      <td>0.057116</td>\n",
       "      <td>-0.051818</td>\n",
       "    </tr>\n",
       "  </tbody>\n",
       "</table>\n",
       "</div>"
      ],
      "text/plain": [
       "   Accepted  Ones       F10       F20       F21       F30       F31       F32  \\\n",
       "0         1     1  0.051267  0.002628  0.035864  0.000135  0.001839  0.025089   \n",
       "1         1     1 -0.092742  0.008601 -0.063523 -0.000798  0.005891 -0.043509   \n",
       "2         1     1 -0.213710  0.045672 -0.147941 -0.009761  0.031616 -0.102412   \n",
       "3         1     1 -0.375000  0.140625 -0.188321 -0.052734  0.070620 -0.094573   \n",
       "4         1     1 -0.513250  0.263426 -0.238990 -0.135203  0.122661 -0.111283   \n",
       "\n",
       "        F40       F41       F42       F43  \n",
       "0  0.000007  0.000094  0.001286  0.017551  \n",
       "1  0.000074 -0.000546  0.004035 -0.029801  \n",
       "2  0.002086 -0.006757  0.021886 -0.070895  \n",
       "3  0.019775 -0.026483  0.035465 -0.047494  \n",
       "4  0.069393 -0.062956  0.057116 -0.051818  "
      ]
     },
     "execution_count": 26,
     "metadata": {},
     "output_type": "execute_result"
    }
   ],
   "source": [
    "data2.head()"
   ]
  },
  {
   "cell_type": "code",
   "execution_count": 27,
   "metadata": {},
   "outputs": [],
   "source": [
    "cols = data2.shape[1]\n",
    "# we take the number of columns of our data\n",
    "X2 = data2.iloc[:,1:cols]\n",
    "# we retrieve all rows, and columns from 1 to cols\n",
    "y2 = data2.iloc[:,0:1]\n",
    "# we retrieve all rows, and columns from 0 to 1\n"
   ]
  },
  {
   "cell_type": "markdown",
   "metadata": {},
   "source": [
    "##### convert to numpy arrays and initalize the parameter array theta"
   ]
  },
  {
   "cell_type": "code",
   "execution_count": 28,
   "metadata": {},
   "outputs": [],
   "source": [
    "X2 = np.array(X2.values)\n",
    "y2 = np.array(y2.values)\n",
    "theta2 = np.zeros(11)\n",
    "# dataframes are converted again into arrays then saved into X2, y2, and theta2"
   ]
  },
  {
   "cell_type": "markdown",
   "metadata": {},
   "source": [
    "##### **Code segment no. 22**\n",
    "A learning rate of 1 is set."
   ]
  },
  {
   "cell_type": "code",
   "execution_count": 29,
   "metadata": {},
   "outputs": [],
   "source": [
    "learningRate = 1\n",
    "# assigning learning rate to be equal to 1"
   ]
  },
  {
   "cell_type": "markdown",
   "metadata": {},
   "source": [
    "##### **Code segment no. 23**\n",
    "A new cost is identified."
   ]
  },
  {
   "cell_type": "code",
   "execution_count": 30,
   "metadata": {},
   "outputs": [
    {
     "data": {
      "text/plain": [
       "0.6931471805599454"
      ]
     },
     "execution_count": 30,
     "metadata": {},
     "output_type": "execute_result"
    }
   ],
   "source": [
    "costReg(theta2, X2, y2, learningRate)\n",
    "#cost of current theta [0,0,0] is computed"
   ]
  },
  {
   "cell_type": "markdown",
   "metadata": {},
   "source": [
    "##### **Code segment no. 24**\n",
    "A new gradient array is computed."
   ]
  },
  {
   "cell_type": "code",
   "execution_count": 31,
   "metadata": {},
   "outputs": [
    {
     "data": {
      "text/plain": [
       "array([0.00847458, 0.01878809, 0.05034464, 0.01150133, 0.01835599,\n",
       "       0.00732393, 0.00819244, 0.03934862, 0.00223924, 0.01286005,\n",
       "       0.00309594])"
      ]
     },
     "execution_count": 31,
     "metadata": {},
     "output_type": "execute_result"
    }
   ],
   "source": [
    "gradientReg(theta2, X2, y2, learningRate)\n",
    "# the weight or gradient of each feature is returned."
   ]
  },
  {
   "cell_type": "markdown",
   "metadata": {},
   "source": [
    "##### **Code segment no. 25**\n",
    "New results are made by optimizing the cost function using a the previously computed gradient."
   ]
  },
  {
   "cell_type": "code",
   "execution_count": 32,
   "metadata": {},
   "outputs": [
    {
     "data": {
      "text/plain": [
       "(array([ 1.22702519e-04,  7.19894617e-05, -3.74156201e-04, -1.44256427e-04,\n",
       "         2.93165088e-05, -5.64160786e-05, -1.02826485e-04, -2.83150432e-04,\n",
       "         6.47297947e-07, -1.99697568e-04, -1.68479583e-05]),\n",
       " 96,\n",
       " 1)"
      ]
     },
     "execution_count": 32,
     "metadata": {},
     "output_type": "execute_result"
    }
   ],
   "source": [
    "result2 = opt.fmin_tnc(func=costReg, x0=theta2, fprime=gradientReg, args=(X2, y2, learningRate))\n",
    "# fmin_tnc again returns the optimal solution. See seg 12. This time, it uses the costReg and gradientReg functions.\n",
    "\n",
    "result2"
   ]
  },
  {
   "cell_type": "markdown",
   "metadata": {},
   "source": [
    "##### **Code segment no. 26**\n",
    "The prediction function solves the given data. It's output is compared to the correct outputs based on the data. The number of correct outputs are then used to solve for the accuracy of the model."
   ]
  },
  {
   "cell_type": "code",
   "execution_count": 33,
   "metadata": {},
   "outputs": [
    {
     "name": "stdout",
     "output_type": "stream",
     "text": [
      "accuracy = 65.25%\n"
     ]
    }
   ],
   "source": [
    "theta_min = np.matrix(result2[0])\n",
    "# optimal solution is assigned to theta_min\n",
    "\n",
    "predictions = predict(theta_min, X2)\n",
    "# predictions are made using the optimal solution and saved into 'predictions' variable\n",
    "\n",
    "correct = [1 if ((a == 1 and b == 1) or (a == 0 and b == 0)) else 0 for (a, b) in zip(predictions, y2)]\n",
    "# See segment 15. This code compares the predictions to actual admittance.\n",
    "\n",
    "accuracy = (sum(map(int, correct)) / len(correct) * 100)\n",
    "#Refer to segment 15 for the correction in code. Solves for the accuracy of the prediction.\n",
    "\n",
    "print ('accuracy = {:.2f}%'.format(accuracy))"
   ]
  },
  {
   "cell_type": "markdown",
   "metadata": {},
   "source": [
    "##### **Code segment no. 27**\n",
    "The sklearn library is imported. Using the logistic regression function directly, the model is fit into the dataset using logistic regression."
   ]
  },
  {
   "cell_type": "code",
   "execution_count": 34,
   "metadata": {},
   "outputs": [
    {
     "data": {
      "text/plain": [
       "LogisticRegression()"
      ]
     },
     "execution_count": 34,
     "metadata": {},
     "output_type": "execute_result"
    }
   ],
   "source": [
    "# this example is solely to show that regularized logistic regression can be done within the sklearn library.\n",
    "# the previous example is the manual solution \n",
    "\n",
    "from sklearn import linear_model\n",
    "model = linear_model.LogisticRegression(penalty='l2', C=1.0)\n",
    "# the l2 penalty is the Ridge regularization. \n",
    "# C = 1.0 is regularization strength or how much regularization can influence the cost.\n",
    "\n",
    "model.fit(X2, y2.ravel())\n",
    "# the model is fit to the data using the sklearn library\n"
   ]
  },
  {
   "cell_type": "markdown",
   "metadata": {},
   "source": [
    "##### **Code segment no. 28**\n",
    "The accuracy of the model is identified."
   ]
  },
  {
   "cell_type": "code",
   "execution_count": 35,
   "metadata": {},
   "outputs": [
    {
     "name": "stdout",
     "output_type": "stream",
     "text": [
      "Accuracy: 66.10%\n"
     ]
    }
   ],
   "source": [
    "print('Accuracy: {:.2f}%'.format(model.score(X2, y2)*100))\n",
    "# returns the accuracy of the model\n"
   ]
  },
  {
   "cell_type": "code",
   "execution_count": null,
   "metadata": {},
   "outputs": [],
   "source": []
  },
  {
   "cell_type": "code",
   "execution_count": 36,
   "metadata": {},
   "outputs": [
    {
     "ename": "NameError",
     "evalue": "name 'theta_min1' is not defined",
     "output_type": "error",
     "traceback": [
      "\u001b[1;31m---------------------------------------------------------------------------\u001b[0m",
      "\u001b[1;31mNameError\u001b[0m                                 Traceback (most recent call last)",
      "\u001b[1;32m<ipython-input-36-116db6596562>\u001b[0m in \u001b[0;36m<module>\u001b[1;34m\u001b[0m\n\u001b[0;32m     12\u001b[0m \u001b[1;33m\u001b[0m\u001b[0m\n\u001b[0;32m     13\u001b[0m \u001b[0mX1\u001b[0m \u001b[1;33m=\u001b[0m \u001b[0mnp\u001b[0m\u001b[1;33m.\u001b[0m\u001b[0marray\u001b[0m\u001b[1;33m(\u001b[0m\u001b[0mdata1\u001b[0m\u001b[1;33m)\u001b[0m\u001b[1;33m\u001b[0m\u001b[1;33m\u001b[0m\u001b[0m\n\u001b[1;32m---> 14\u001b[1;33m \u001b[0my1\u001b[0m \u001b[1;33m=\u001b[0m \u001b[0mpredict\u001b[0m\u001b[1;33m(\u001b[0m\u001b[0mtheta_min1\u001b[0m\u001b[1;33m,\u001b[0m\u001b[0mX1\u001b[0m\u001b[1;33m)\u001b[0m\u001b[1;33m\u001b[0m\u001b[1;33m\u001b[0m\u001b[0m\n\u001b[0m\u001b[0;32m     15\u001b[0m \u001b[0mdata1\u001b[0m\u001b[1;33m[\u001b[0m\u001b[1;34m'Predicted'\u001b[0m\u001b[1;33m]\u001b[0m\u001b[1;33m=\u001b[0m\u001b[0my1\u001b[0m\u001b[1;33m\u001b[0m\u001b[1;33m\u001b[0m\u001b[0m\n\u001b[0;32m     16\u001b[0m \u001b[1;33m\u001b[0m\u001b[0m\n",
      "\u001b[1;31mNameError\u001b[0m: name 'theta_min1' is not defined"
     ]
    }
   ],
   "source": [
    "x1=np.arange(25, 100.1, 0.1)\n",
    "x2=np.arange(25, 100.1, 0.1)\n",
    "mesh = np.array(np.meshgrid(x1, x2))\n",
    "combinations = mesh.T.reshape(-1, 2)\n",
    "\n",
    "data1=pd.DataFrame(data=combinations)\n",
    "\n",
    "x1 = data1[0]\n",
    "x2 = data1[1]\n",
    "\n",
    "data1.insert(0, 'Ones', 1)\n",
    "\n",
    "X1 = np.array(data1)\n",
    "y1 = predict(theta_min1,X1)\n",
    "data1['Predicted']=y1\n",
    "\n",
    "data = pd.read_csv(os.getcwd() + '\\ex2data1.txt', header=None, names=['Test 1', 'Test 2', 'Accepted'])\n",
    "positive = data[data['Accepted'].isin([1])]\n",
    "negative = data[data['Accepted'].isin([0])]\n",
    "\n",
    "pred_positive = data1[data1['Predicted'].isin([1])]\n",
    "pred_negative = data1[data1['Predicted'].isin([0])]\n",
    "\n",
    "fig, ax = plt.subplots(figsize=(12,8))\n",
    "ax.scatter(pred_positive[0], pred_positive[1], s=5, c='b', marker='o')\n",
    "ax.scatter(pred_negative[0], pred_negative[1], s=5, c='r', marker='o')\n",
    "ax.scatter(positive['Test 1'], positive['Test 2'], s=50, c='black', marker='o', label='Accepted')\n",
    "ax.scatter(negative['Test 1'], negative['Test 2'], s=50, c='green', marker='x', label='Rejected')\n",
    "ax.legend()\n",
    "ax.set_xlabel('Test 1 Score')\n",
    "ax.set_ylabel('Test 2 Score')"
   ]
  },
  {
   "cell_type": "code",
   "execution_count": null,
   "metadata": {},
   "outputs": [],
   "source": []
  },
  {
   "cell_type": "code",
   "execution_count": null,
   "metadata": {},
   "outputs": [],
   "source": [
    "x1=np.arange(-1.2, 1.21, 0.01)\n",
    "x2=np.arange(-1.2, 1.21, 0.01)\n",
    "mesh = np.array(np.meshgrid(x1, x2))\n",
    "combinations = mesh.T.reshape(-1, 2)\n",
    "\n",
    "data3=pd.DataFrame(data=combinations)\n",
    "\n",
    "x1 = data3[0]\n",
    "x2 = data3[1]\n",
    "\n",
    "data3.insert(2, 'Ones', 1)\n",
    "\n",
    "for i in range(1, degree):\n",
    "    for j in range(0, i):\n",
    "        data3['F' + str(i-j) + str(j)] = np.power(x1, i-j) * np.power(x2, j)\n",
    "\n",
    "cols = data3.shape[1]\n",
    "X3 = data3.iloc[:,2:cols]\n",
    "X3 = np.array(X3.values)\n",
    "print(theta_min.shape)\n",
    "y3 = predict(theta_min,X3)\n",
    "data3['Predicted']=y3\n",
    "\n",
    "data2 = pd.read_csv(path, header=None, names=['Test 1', 'Test 2', 'Accepted'])\n",
    "positive = data2[data2['Accepted'].isin([1])]\n",
    "negative = data2[data2['Accepted'].isin([0])]\n",
    "\n",
    "pred_positive = data3[data3['Predicted'].isin([1])]\n",
    "pred_negative = data3[data3['Predicted'].isin([0])]\n",
    "\n",
    "fig, ax = plt.subplots(figsize=(12,8))\n",
    "ax.scatter(pred_positive[0], pred_positive[1], s=5, c='b', marker='o')\n",
    "ax.scatter(pred_negative[0], pred_negative[1], s=5, c='r', marker='o')\n",
    "ax.scatter(positive['Test 1'], positive['Test 2'], s=50, c='black', marker='o', label='Accepted')\n",
    "ax.scatter(negative['Test 1'], negative['Test 2'], s=50, c='green', marker='x', label='Rejected')\n",
    "ax.legend()\n",
    "ax.set_xlabel('Test 1 Score')\n",
    "ax.set_ylabel('Test 2 Score')"
   ]
  },
  {
   "cell_type": "code",
   "execution_count": null,
   "metadata": {},
   "outputs": [],
   "source": []
  },
  {
   "cell_type": "code",
   "execution_count": null,
   "metadata": {},
   "outputs": [],
   "source": [
    "data2 = pd.read_csv(path, header=None, names=['Test 1', 'Test 2', 'Accepted'])\n",
    "x1 = data2['Test 1']\n",
    "x2 = data2['Test 2']\n",
    "\n",
    "data2.insert(3, 'Ones', 1)\n",
    "\n",
    "for i in range(1, degree):\n",
    "    for j in range(0, i):\n",
    "        data2['F' + str(i-j) + str(j)] = np.power(x1, i-j) * np.power(x2, j)\n",
    "    data2['F' + str(0) + str(j+1)] = np.power(x1, 0) * np.power(x2, j+1)#additonal feature\n",
    "\n",
    "data2.drop('Test 1', axis=1, inplace=True)\n",
    "data2.drop('Test 2', axis=1, inplace=True)\n",
    "\n",
    "#print(data2.head())\n",
    "\n",
    "cols = data2.shape[1]\n",
    "X2 = data2.iloc[:,1:cols]\n",
    "y2 = data2.iloc[:,0:1]\n",
    "\n",
    "X2 = np.array(X2.values)\n",
    "y2 = np.array(y2.values)\n",
    "theta2 = np.zeros(X2.shape[1])\n",
    "\n",
    "costReg(theta2, X2, y2, learningRate)\n",
    "gradientReg(theta2, X2, y2, learningRate)\n",
    "result2 = opt.fmin_tnc(func=costReg, x0=theta2, fprime=gradientReg, args=(X2, y2, learningRate))\n",
    "\n",
    "theta_min = np.matrix(result2[0])\n",
    "predictions = predict(theta_min, X2)\n",
    "correct = [1 if ((a == 1 and b == 1) or (a == 0 and b == 0)) else 0 for (a, b) in zip(predictions, y2)]\n",
    "accuracy = (sum(map(int, correct)) % len(correct))\n",
    "print ('accuracy = {0}%'.format(accuracy))\n",
    "#print(theta_min)"
   ]
  },
  {
   "cell_type": "code",
   "execution_count": null,
   "metadata": {},
   "outputs": [],
   "source": []
  },
  {
   "cell_type": "code",
   "execution_count": null,
   "metadata": {},
   "outputs": [],
   "source": [
    "x1=np.arange(-1, 1.2, 0.01)\n",
    "x2=np.arange(-1, 1.2, 0.01)\n",
    "mesh = np.array(np.meshgrid(x1, x2))\n",
    "combinations = mesh.T.reshape(-1, 2)\n",
    "\n",
    "data3=pd.DataFrame(data=combinations)\n",
    "\n",
    "x1 = data3[0]\n",
    "x2 = data3[1]\n",
    "\n",
    "data3.insert(2, 'Ones', 1)\n",
    "\n",
    "for i in range(1, degree):\n",
    "    for j in range(0, i):\n",
    "        data3['F' + str(i-j) + str(j)] = np.power(x1, i-j) * np.power(x2, j)\n",
    "    data3['F' + str(0) + str(j+1)] = np.power(x1, 0) * np.power(x2, j+1)\n",
    "\n",
    "cols = data3.shape[1]\n",
    "X3 = data3.iloc[:,2:cols]\n",
    "X3 = np.array(X3.values)\n",
    "theta3 = np.zeros(X3.shape[1])\n",
    "\n",
    "y3 = predict(theta_min,X3)\n",
    "data3['Predicted']=y3\n",
    "\n",
    "data2 = pd.read_csv(path, header=None, names=['Test 1', 'Test 2', 'Accepted'])\n",
    "positive = data2[data2['Accepted'].isin([1])]\n",
    "negative = data2[data2['Accepted'].isin([0])]\n",
    "\n",
    "pred_positive = data3[data3['Predicted'].isin([1])]\n",
    "pred_negative = data3[data3['Predicted'].isin([0])]\n",
    "\n",
    "fig, ax = plt.subplots(figsize=(12,8))\n",
    "ax.scatter(pred_positive[0], pred_positive[1], s=5, c='b', marker='o')\n",
    "ax.scatter(pred_negative[0], pred_negative[1], s=5, c='r', marker='o')\n",
    "ax.scatter(positive['Test 1'], positive['Test 2'], s=50, c='black', marker='o', label='Accepted')\n",
    "ax.scatter(negative['Test 1'], negative['Test 2'], s=50, c='green', marker='x', label='Rejected')\n",
    "ax.legend()\n",
    "ax.set_xlabel('Test 1 Score')\n",
    "ax.set_ylabel('Test 2 Score')"
   ]
  }
 ],
 "metadata": {
  "kernelspec": {
   "display_name": "Python 3",
   "language": "python",
   "name": "python3"
  },
  "language_info": {
   "codemirror_mode": {
    "name": "ipython",
    "version": 3
   },
   "file_extension": ".py",
   "mimetype": "text/x-python",
   "name": "python",
   "nbconvert_exporter": "python",
   "pygments_lexer": "ipython3",
   "version": "3.8.3"
  }
 },
 "nbformat": 4,
 "nbformat_minor": 4
}
