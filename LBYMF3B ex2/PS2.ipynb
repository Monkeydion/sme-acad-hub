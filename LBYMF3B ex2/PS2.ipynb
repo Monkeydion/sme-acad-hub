{
 "cells": [
  {
   "cell_type": "markdown",
   "metadata": {},
   "source": [
    "#### Set 1"
   ]
  },
  {
   "cell_type": "code",
   "execution_count": 1,
   "metadata": {},
   "outputs": [],
   "source": [
    "import pandas as pd\n",
    "import random"
   ]
  },
  {
   "cell_type": "code",
   "execution_count": 2,
   "metadata": {},
   "outputs": [],
   "source": [
    "data=[random.randint(0, 100) for iter in range(10)]"
   ]
  },
  {
   "cell_type": "code",
   "execution_count": 3,
   "metadata": {},
   "outputs": [
    {
     "data": {
      "text/plain": [
       "0    41\n",
       "1    98\n",
       "2    20\n",
       "3    34\n",
       "4    84\n",
       "5    13\n",
       "6    73\n",
       "7    18\n",
       "8    64\n",
       "9     5\n",
       "dtype: int64"
      ]
     },
     "execution_count": 3,
     "metadata": {},
     "output_type": "execute_result"
    }
   ],
   "source": [
    "df=pd.Series(data=data)\n",
    "df"
   ]
  },
  {
   "cell_type": "code",
   "execution_count": 4,
   "metadata": {},
   "outputs": [
    {
     "name": "stdout",
     "output_type": "stream",
     "text": [
      "Mean:  45.0\n"
     ]
    }
   ],
   "source": [
    "print('Mean: ', df.mean())"
   ]
  },
  {
   "cell_type": "code",
   "execution_count": 5,
   "metadata": {},
   "outputs": [
    {
     "name": "stdout",
     "output_type": "stream",
     "text": [
      "Standard Dev:  32.642848459586915\n"
     ]
    }
   ],
   "source": [
    "print('Standard Dev: ',df.std())"
   ]
  },
  {
   "cell_type": "code",
   "execution_count": 6,
   "metadata": {},
   "outputs": [
    {
     "name": "stdout",
     "output_type": "stream",
     "text": [
      "Min:  5\n"
     ]
    }
   ],
   "source": [
    "print('Min: ', df.min())"
   ]
  },
  {
   "cell_type": "code",
   "execution_count": 7,
   "metadata": {},
   "outputs": [
    {
     "name": "stdout",
     "output_type": "stream",
     "text": [
      "25th Percentile 18.5\n"
     ]
    }
   ],
   "source": [
    "print('25th Percentile', df.quantile(q=0.25))"
   ]
  },
  {
   "cell_type": "code",
   "execution_count": 8,
   "metadata": {},
   "outputs": [
    {
     "name": "stdout",
     "output_type": "stream",
     "text": [
      "Median:  37.5\n"
     ]
    }
   ],
   "source": [
    "print('Median: ', df.quantile(q=0.5))"
   ]
  },
  {
   "cell_type": "code",
   "execution_count": 9,
   "metadata": {},
   "outputs": [
    {
     "name": "stdout",
     "output_type": "stream",
     "text": [
      "75th Percentile 70.75\n"
     ]
    }
   ],
   "source": [
    "print('75th Percentile', df.quantile(q=0.75))"
   ]
  },
  {
   "cell_type": "code",
   "execution_count": 10,
   "metadata": {},
   "outputs": [
    {
     "name": "stdout",
     "output_type": "stream",
     "text": [
      "Max:  98\n"
     ]
    }
   ],
   "source": [
    "print('Max: ', df.max())"
   ]
  },
  {
   "cell_type": "markdown",
   "metadata": {},
   "source": [
    "#### Set 2"
   ]
  },
  {
   "cell_type": "code",
   "execution_count": 11,
   "metadata": {},
   "outputs": [],
   "source": [
    "import pandas as pd"
   ]
  },
  {
   "cell_type": "code",
   "execution_count": 12,
   "metadata": {},
   "outputs": [],
   "source": [
    "attributes=['name','state', 'color', 'food', 'age', 'height', 'score']\n",
    "\n",
    "inputs=[['Jane','NY','blue', 'Steak',30,165,4.6],\n",
    "['Niko','TX','green', 'Lamb',2,70,8.3],\n",
    "['Aaron','FL','red', 'Mango',12,120,9.0],\n",
    "['Penelope','AL','white', 'Apple',4,80,3.3],\n",
    "['Dean','AK','gray', 'Cheese',32,180,1.8],\n",
    "['Christina','TX','black', 'Melon',33,172,9.5],\n",
    "['Cornelia','TX','red', 'Beans',69,150,2.2]]"
   ]
  },
  {
   "cell_type": "code",
   "execution_count": 13,
   "metadata": {},
   "outputs": [
    {
     "name": "stdout",
     "output_type": "stream",
     "text": [
      "        name state  color    food  age  height  score\n",
      "0       Jane    NY   blue   Steak   30     165    4.6\n",
      "1       Niko    TX  green    Lamb    2      70    8.3\n",
      "2      Aaron    FL    red   Mango   12     120    9.0\n",
      "3   Penelope    AL  white   Apple    4      80    3.3\n",
      "4       Dean    AK   gray  Cheese   32     180    1.8\n",
      "5  Christina    TX  black   Melon   33     172    9.5\n",
      "6   Cornelia    TX    red   Beans   69     150    2.2\n"
     ]
    }
   ],
   "source": [
    "df=pd.DataFrame(data=inputs,columns=attributes)\n",
    "print(df)"
   ]
  },
  {
   "cell_type": "code",
   "execution_count": 14,
   "metadata": {},
   "outputs": [
    {
     "name": "stdout",
     "output_type": "stream",
     "text": [
      "    name state  color   food  age  height  score\n",
      "0   Jane    NY   blue  Steak   30     165    4.6\n",
      "1   Niko    TX  green   Lamb    2      70    8.3\n",
      "2  Aaron    FL    red  Mango   12     120    9.0\n"
     ]
    }
   ],
   "source": [
    "print(df.head(3))"
   ]
  },
  {
   "cell_type": "code",
   "execution_count": 15,
   "metadata": {},
   "outputs": [
    {
     "name": "stdout",
     "output_type": "stream",
     "text": [
      "        name state  color    food  age  height  score\n",
      "4       Dean    AK   gray  Cheese   32     180    1.8\n",
      "5  Christina    TX  black   Melon   33     172    9.5\n",
      "6   Cornelia    TX    red   Beans   69     150    2.2\n"
     ]
    }
   ],
   "source": [
    "print(df.tail(3))"
   ]
  },
  {
   "cell_type": "code",
   "execution_count": 16,
   "metadata": {},
   "outputs": [
    {
     "name": "stdout",
     "output_type": "stream",
     "text": [
      "7\n",
      "7\n"
     ]
    }
   ],
   "source": [
    "print(len(df.index))\n",
    "print(len(df.columns))"
   ]
  },
  {
   "cell_type": "code",
   "execution_count": 17,
   "metadata": {},
   "outputs": [
    {
     "name": "stdout",
     "output_type": "stream",
     "text": [
      "26.0\n",
      "133.85714285714286\n",
      "5.528571428571429\n"
     ]
    }
   ],
   "source": [
    "print(df['age'].mean())\n",
    "print(df['height'].mean())\n",
    "print(df['score'].mean())"
   ]
  },
  {
   "cell_type": "code",
   "execution_count": 18,
   "metadata": {},
   "outputs": [
    {
     "name": "stdout",
     "output_type": "stream",
     "text": [
      "23.115651263447745\n",
      "44.69313359428035\n",
      "3.3245121374994184\n"
     ]
    }
   ],
   "source": [
    "print(df['age'].std())\n",
    "print(df['height'].std())\n",
    "print(df['score'].std())"
   ]
  },
  {
   "cell_type": "code",
   "execution_count": 19,
   "metadata": {},
   "outputs": [
    {
     "name": "stdout",
     "output_type": "stream",
     "text": [
      "0    NY\n",
      "1    TX\n",
      "2    FL\n",
      "3    AL\n",
      "4    AK\n",
      "5    TX\n",
      "6    TX\n",
      "Name: state, dtype: object\n",
      "0    4.6\n",
      "1    8.3\n",
      "2    9.0\n",
      "3    3.3\n",
      "4    1.8\n",
      "5    9.5\n",
      "6    2.2\n",
      "Name: score, dtype: float64\n"
     ]
    }
   ],
   "source": [
    "print(df['state'])\n",
    "print(df['score'])"
   ]
  },
  {
   "cell_type": "code",
   "execution_count": 20,
   "metadata": {},
   "outputs": [
    {
     "name": "stdout",
     "output_type": "stream",
     "text": [
      "        name state  color   food  age  height  score\n",
      "1       Niko    TX  green   Lamb    2      70    8.3\n",
      "2      Aaron    FL    red  Mango   12     120    9.0\n",
      "5  Christina    TX  black  Melon   33     172    9.5\n"
     ]
    }
   ],
   "source": [
    "print(df[df['score']>5])"
   ]
  },
  {
   "cell_type": "code",
   "execution_count": 21,
   "metadata": {},
   "outputs": [
    {
     "name": "stdout",
     "output_type": "stream",
     "text": [
      "       name state  color   food  age  height  score\n",
      "1      Niko    TX  green   Lamb    2      70    8.3\n",
      "2     Aaron    FL    red  Mango   12     120    9.0\n",
      "3  Penelope    AL  white  Apple    4      80    3.3\n"
     ]
    }
   ],
   "source": [
    "print(df[df['height']<150])"
   ]
  },
  {
   "cell_type": "code",
   "execution_count": 22,
   "metadata": {},
   "outputs": [
    {
     "name": "stdout",
     "output_type": "stream",
     "text": [
      "        name state  color    food  age  height  score\n",
      "0       Jane    NY   blue   Steak   30     165    4.6\n",
      "2      Aaron    FL    red   Mango   12     120    9.0\n",
      "4       Dean    AK   gray  Cheese   32     180    1.8\n",
      "5  Christina    TX  black   Melon   33     172    9.5\n"
     ]
    }
   ],
   "source": [
    "print(df[(df['age']>10) & (df['age']<40)])"
   ]
  },
  {
   "cell_type": "code",
   "execution_count": 23,
   "metadata": {},
   "outputs": [
    {
     "name": "stdout",
     "output_type": "stream",
     "text": [
      "       name state color    food  age  height  score\n",
      "0      Jane    NY  blue   Steak   30     165    4.6\n",
      "4      Dean    AK  gray  Cheese   32     180    1.8\n",
      "6  Cornelia    TX   red   Beans   69     150    2.2\n"
     ]
    }
   ],
   "source": [
    "print(df[(df['age']>20) & (df['score']<5)])"
   ]
  },
  {
   "cell_type": "code",
   "execution_count": 24,
   "metadata": {},
   "outputs": [
    {
     "name": "stdout",
     "output_type": "stream",
     "text": [
      "        name state  color    food  age  height  score\n",
      "2      Aaron    FL    red   Mango   12     120    9.0\n",
      "5  Christina    TX  black   Melon   33     172    9.5\n",
      "6   Cornelia    TX    red   Beans   69     150    2.2\n",
      "4       Dean    AK   gray  Cheese   32     180    1.8\n",
      "0       Jane    NY   blue   Steak   30     165    4.6\n",
      "1       Niko    TX  green    Lamb    2      70    8.3\n",
      "3   Penelope    AL  white   Apple    4      80    3.3\n"
     ]
    }
   ],
   "source": [
    "print(df.sort_values(['name'],ascending=True))"
   ]
  },
  {
   "cell_type": "code",
   "execution_count": 25,
   "metadata": {},
   "outputs": [
    {
     "name": "stdout",
     "output_type": "stream",
     "text": [
      "        name state  color    food  age  height  score\n",
      "4       Dean    AK   gray  Cheese   32     180    1.8\n",
      "6   Cornelia    TX    red   Beans   69     150    2.2\n",
      "3   Penelope    AL  white   Apple    4      80    3.3\n",
      "0       Jane    NY   blue   Steak   30     165    4.6\n",
      "1       Niko    TX  green    Lamb    2      70    8.3\n",
      "2      Aaron    FL    red   Mango   12     120    9.0\n",
      "5  Christina    TX  black   Melon   33     172    9.5\n"
     ]
    }
   ],
   "source": [
    "print(df.sort_values(['score'],ascending=True))"
   ]
  },
  {
   "cell_type": "code",
   "execution_count": 26,
   "metadata": {},
   "outputs": [],
   "source": [
    "df.to_csv('test.csv',sep='\\t')"
   ]
  }
 ],
 "metadata": {
  "kernelspec": {
   "display_name": "Python 3",
   "language": "python",
   "name": "python3"
  },
  "language_info": {
   "codemirror_mode": {
    "name": "ipython",
    "version": 3
   },
   "file_extension": ".py",
   "mimetype": "text/x-python",
   "name": "python",
   "nbconvert_exporter": "python",
   "pygments_lexer": "ipython3",
   "version": "3.8.3"
  }
 },
 "nbformat": 4,
 "nbformat_minor": 4
}
