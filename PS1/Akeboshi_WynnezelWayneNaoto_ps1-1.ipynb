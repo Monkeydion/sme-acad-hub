{
 "cells": [
  {
   "cell_type": "markdown",
   "metadata": {},
   "source": [
    "#### **Computational Intelligence in Manufacturing Systems**\n",
    "#### **MFAIMFG**\n",
    "###### Created by: Wynnezel Wayne Naoto P Akeboshi\n",
    "##### Checked by: SME Academics Database team\n",
    "##### Initial Publish: January 10, 2021\n",
    "##### Assignment Code from the class of: Dr. Robert Kerwin Billones"
   ]
  },
  {
   "cell_type": "markdown",
   "metadata": {},
   "source": [
    "### Machine Learning Exercise 1 - Linear Regression"
   ]
  },
  {
   "cell_type": "markdown",
   "metadata": {},
   "source": [
    "#### **A LINE BY LINE EXPLANATION**"
   ]
  },
  {
   "cell_type": "markdown",
   "metadata": {},
   "source": [
    "#### **CODE DESIGN**\n",
    "#### Linear regression with one variable"
   ]
  },
  {
   "cell_type": "markdown",
   "metadata": {},
   "source": [
    "##### **Code segment no. 1**\n",
    "**Pandas**\n",
    "</br>\n",
    "Pandas is a python library mainly used for data manipulation and analysis. Pandas provides flexible and powerful control over datasets which helps organize and clean data.\n",
    "</br>\n",
    "</br>\n",
    "**Numpy**\n",
    "</br>\n",
    "Numpy is a python library used for multi-dimensional arrays, matrices, and linear algebra. This library allows the use of high-level mathematics and operations to manipulate these arrays.\n",
    "</br>\n",
    "</br>\n",
    "**Matplotlib**\n",
    "</br>\n",
    "Matplotlib is a python library that serves as an extension to numpy. This library allows the visualization of data and is used for embedding data plots onto GUI toolkits."
   ]
  },
  {
   "cell_type": "code",
   "execution_count": 1,
   "metadata": {},
   "outputs": [],
   "source": [
    "import numpy as np\n",
    "# literally imports numpy library with alias np (can be any other alias you want). to call numpy functions and methods use np.functionname()\n",
    "# numpy is used for linear algebra, matrix operations, arrays, etc.\n",
    "import pandas as pd\n",
    "# literally imports the pandas library with alias pd (can be any alias).\n",
    "# pandas is used for viewing csv, xlsx, and other files that can be made into tables aka data frames.\n",
    "import matplotlib.pyplot as plt\n",
    "# calls matplotlib (a library) and retrieves specifically the pyplot (a sub-library). Only the pyplot sub-library is imported with alias plt.\n",
    "# pyplot is used for data visualization. creates line charts, graphs, scatter plots, etc.\n",
    "\n",
    "%matplotlib inline"
   ]
  },
  {
   "cell_type": "markdown",
   "metadata": {},
   "source": [
    "##### **Code segment no. 2**\n",
    "This segment imports the operating system's library. The second line selects a direct path to the data text file. The third line reads the text file and adds the labels, population and profit, to each column respectively."
   ]
  },
  {
   "cell_type": "code",
   "execution_count": 8,
   "metadata": {},
   "outputs": [
    {
     "data": {
      "text/html": [
       "<div>\n",
       "<style scoped>\n",
       "    .dataframe tbody tr th:only-of-type {\n",
       "        vertical-align: middle;\n",
       "    }\n",
       "\n",
       "    .dataframe tbody tr th {\n",
       "        vertical-align: top;\n",
       "    }\n",
       "\n",
       "    .dataframe thead th {\n",
       "        text-align: right;\n",
       "    }\n",
       "</style>\n",
       "<table border=\"1\" class=\"dataframe\">\n",
       "  <thead>\n",
       "    <tr style=\"text-align: right;\">\n",
       "      <th></th>\n",
       "      <th>Population</th>\n",
       "      <th>Profit</th>\n",
       "    </tr>\n",
       "  </thead>\n",
       "  <tbody>\n",
       "    <tr>\n",
       "      <th>0</th>\n",
       "      <td>6.1101</td>\n",
       "      <td>17.5920</td>\n",
       "    </tr>\n",
       "    <tr>\n",
       "      <th>1</th>\n",
       "      <td>5.5277</td>\n",
       "      <td>9.1302</td>\n",
       "    </tr>\n",
       "    <tr>\n",
       "      <th>2</th>\n",
       "      <td>8.5186</td>\n",
       "      <td>13.6620</td>\n",
       "    </tr>\n",
       "    <tr>\n",
       "      <th>3</th>\n",
       "      <td>7.0032</td>\n",
       "      <td>11.8540</td>\n",
       "    </tr>\n",
       "    <tr>\n",
       "      <th>4</th>\n",
       "      <td>5.8598</td>\n",
       "      <td>6.8233</td>\n",
       "    </tr>\n",
       "  </tbody>\n",
       "</table>\n",
       "</div>"
      ],
      "text/plain": [
       "   Population   Profit\n",
       "0      6.1101  17.5920\n",
       "1      5.5277   9.1302\n",
       "2      8.5186  13.6620\n",
       "3      7.0032  11.8540\n",
       "4      5.8598   6.8233"
      ]
     },
     "execution_count": 8,
     "metadata": {},
     "output_type": "execute_result"
    }
   ],
   "source": [
    "import os\n",
    "# imports your local operating system (os) library.\n",
    "# os is used for using commands in your operating system.\n",
    "path = 'ex1data1.txt'\n",
    "# gets current working directory (cwd) where your current notebook exists. \n",
    "# then adds '/data/ex1data1.txt' into the returned directory and assigned to variable path.\n",
    "data = pd.read_csv(path, header=None, names=['Population', 'Profit'])\n",
    "# .readcsv is a pandas function (hence the pd.read_csv) that takes specific parameters in reading a csv file.\n",
    "data.head()\n",
    "# .head() is a function for dataframes (in this case the variable data is a dataframe - a pandas datatype) and \n",
    "# presents the first 5 entries."
   ]
  },
  {
   "cell_type": "code",
   "execution_count": 11,
   "metadata": {},
   "outputs": [
    {
     "data": {
      "text/plain": [
       "\u001b[0;31mSignature:\u001b[0m \u001b[0mos\u001b[0m\u001b[0;34m.\u001b[0m\u001b[0mgetcwd\u001b[0m\u001b[0;34m(\u001b[0m\u001b[0;34m)\u001b[0m\u001b[0;34m\u001b[0m\u001b[0;34m\u001b[0m\u001b[0m\n",
       "\u001b[0;31mDocstring:\u001b[0m Return a unicode string representing the current working directory.\n",
       "\u001b[0;31mType:\u001b[0m      builtin_function_or_method\n"
      ]
     },
     "metadata": {},
     "output_type": "display_data"
    }
   ],
   "source": [
    "os.getcwd?\n",
    "#adding ? after a function instead of () displays the documentation and syntax for that specific function"
   ]
  },
  {
   "cell_type": "markdown",
   "metadata": {},
   "source": [
    "##### **Code segment no. 3**\n",
    "The describe method is a function found in the pandas library. This provides quantitative descriptions of a dataset. It provides information on this dataset such as number of entries, statistical mean, and standard deviation."
   ]
  },
  {
   "cell_type": "code",
   "execution_count": 3,
   "metadata": {},
   "outputs": [
    {
     "data": {
      "text/html": [
       "<div>\n",
       "<style scoped>\n",
       "    .dataframe tbody tr th:only-of-type {\n",
       "        vertical-align: middle;\n",
       "    }\n",
       "\n",
       "    .dataframe tbody tr th {\n",
       "        vertical-align: top;\n",
       "    }\n",
       "\n",
       "    .dataframe thead th {\n",
       "        text-align: right;\n",
       "    }\n",
       "</style>\n",
       "<table border=\"1\" class=\"dataframe\">\n",
       "  <thead>\n",
       "    <tr style=\"text-align: right;\">\n",
       "      <th></th>\n",
       "      <th>Population</th>\n",
       "      <th>Profit</th>\n",
       "    </tr>\n",
       "  </thead>\n",
       "  <tbody>\n",
       "    <tr>\n",
       "      <th>count</th>\n",
       "      <td>97.000000</td>\n",
       "      <td>97.000000</td>\n",
       "    </tr>\n",
       "    <tr>\n",
       "      <th>mean</th>\n",
       "      <td>8.159800</td>\n",
       "      <td>5.839135</td>\n",
       "    </tr>\n",
       "    <tr>\n",
       "      <th>std</th>\n",
       "      <td>3.869884</td>\n",
       "      <td>5.510262</td>\n",
       "    </tr>\n",
       "    <tr>\n",
       "      <th>min</th>\n",
       "      <td>5.026900</td>\n",
       "      <td>-2.680700</td>\n",
       "    </tr>\n",
       "    <tr>\n",
       "      <th>25%</th>\n",
       "      <td>5.707700</td>\n",
       "      <td>1.986900</td>\n",
       "    </tr>\n",
       "    <tr>\n",
       "      <th>50%</th>\n",
       "      <td>6.589400</td>\n",
       "      <td>4.562300</td>\n",
       "    </tr>\n",
       "    <tr>\n",
       "      <th>75%</th>\n",
       "      <td>8.578100</td>\n",
       "      <td>7.046700</td>\n",
       "    </tr>\n",
       "    <tr>\n",
       "      <th>max</th>\n",
       "      <td>22.203000</td>\n",
       "      <td>24.147000</td>\n",
       "    </tr>\n",
       "  </tbody>\n",
       "</table>\n",
       "</div>"
      ],
      "text/plain": [
       "       Population     Profit\n",
       "count   97.000000  97.000000\n",
       "mean     8.159800   5.839135\n",
       "std      3.869884   5.510262\n",
       "min      5.026900  -2.680700\n",
       "25%      5.707700   1.986900\n",
       "50%      6.589400   4.562300\n",
       "75%      8.578100   7.046700\n",
       "max     22.203000  24.147000"
      ]
     },
     "execution_count": 3,
     "metadata": {},
     "output_type": "execute_result"
    }
   ],
   "source": [
    "data.describe()\n",
    "# .describe is a function for dataframes (again a dataframe is a pandas datatype aka a table)\n",
    "# .describe shows a summary of the dataset. ie means, min, max, standard deviation, etc"
   ]
  },
  {
   "cell_type": "markdown",
   "metadata": {},
   "source": [
    "##### **Code segment no. 4**\n",
    "Through the matplotlib library, this line of code presents a plot using the given dataset. This function takes in parameters such as the kind of plot and which columns of data serves as the x and y-axis."
   ]
  },
  {
   "cell_type": "code",
   "execution_count": 12,
   "metadata": {},
   "outputs": [
    {
     "data": {
      "text/plain": [
       "<AxesSubplot:xlabel='Population', ylabel='Profit'>"
      ]
     },
     "execution_count": 12,
     "metadata": {},
     "output_type": "execute_result"
    },
    {
     "data": {
      "image/png": "[encoded data removed]",
      "text/plain": [
       "<Figure size 864x576 with 1 Axes>"
      ]
     },
     "metadata": {
      "needs_background": "light"
     },
     "output_type": "display_data"
    }
   ],
   "source": [
    "data.plot(kind='scatter', x='Population', y='Profit', figsize=(12,8))\n",
    "# .plot is a function under pyplot that can read dataframes. you enter parameters to 'decorate' your graph. in this case,\n",
    "# it takes the kind, the size, and what is the label of x and y values."
   ]
  },
  {
   "cell_type": "markdown",
   "metadata": {},
   "source": [
    "##### **Code segment no. 5**\n",
    "This code defines a function called computeCost() with 3 input paramaters named X, y, and theta. This function then returns a value using the given formula."
   ]
  },
  {
   "cell_type": "code",
   "execution_count": 40,
   "metadata": {},
   "outputs": [],
   "source": [
    "def computeCost(X, y, theta):\n",
    "    inner = np.power(((X * theta.T) - y), 2)\n",
    "    return np.sum(inner) / (2 * len(X))\n",
    "# this is the Jtheta formula as described in the pdf. the entire function is simply the formula taking in the variables\n",
    "# to solve for Jtheta. Cost in this case calculates the error."
   ]
  },
  {
   "cell_type": "markdown",
   "metadata": {},
   "source": [
    "##### **Code segment no. 6**\n",
    "The insert function is a function found in the pandas library. This function inserts based on the given location, a column label, and a data value. In this code, it creates a Ones column in the 0th column (Zero-based numbering) with the column containing the value 1. "
   ]
  },
  {
   "cell_type": "code",
   "execution_count": 41,
   "metadata": {},
   "outputs": [],
   "source": [
    "data.insert(0, 'Ones', 1)\n",
    "# .insert is a pandas function that allows the insertion of an entire column. adding a ones column is necessary\n",
    "# to make the following matrix computations easier."
   ]
  },
  {
   "cell_type": "markdown",
   "metadata": {},
   "source": [
    "##### **Code segment no. 7**\n",
    "The shape function identifies the size of the dataset. Using the first parameter, the shape function returns the number of columns. The values for X (training data) and y (target variable) are then set using the iloc function which identifies a set of data within a dataset. "
   ]
  },
  {
   "cell_type": "code",
   "execution_count": 42,
   "metadata": {},
   "outputs": [],
   "source": [
    "cols = data.shape[1]\n",
    "# .shape returns the size (rows, columns) of the dataframe. inserting 0 or 1 determins whether only rows or columns are \n",
    "# shown. In this case, shape[1] returns the number of columns and is saved in the cols variable.\n",
    "X = data.iloc[:,0:cols-1]\n",
    "# .iloc is the identification of a specific reference using index instead of labels. in this case, it retrieves every row\n",
    "# (min:max,) and columns from 0 (zero based numbering) until cols-1 (,0:cols-1). Whatever is retrieved is assigned to X.\n",
    "y = data.iloc[:,cols-1:cols]\n",
    "# in this case, it takes all rows, then takes all columns from cols-1 to cols. this is then assigned to y."
   ]
  },
  {
   "cell_type": "code",
   "execution_count": 43,
   "metadata": {},
   "outputs": [
    {
     "name": "stdout",
     "output_type": "stream",
     "text": [
      ".shape[0] (rows) = 97\n",
      ".shape[1] (columns) = 3\n"
     ]
    }
   ],
   "source": [
    "print ('.shape[0] (rows) = {0}\\n.shape[1] (columns) = {1}'.format(data.shape[0], data.shape[1]))"
   ]
  },
  {
   "cell_type": "markdown",
   "metadata": {},
   "source": [
    "##### **Code segment no. 8**\n",
    "Presents the first 5 entries of a given dataframe"
   ]
  },
  {
   "cell_type": "code",
   "execution_count": 44,
   "metadata": {},
   "outputs": [
    {
     "data": {
      "text/html": [
       "<div>\n",
       "<style scoped>\n",
       "    .dataframe tbody tr th:only-of-type {\n",
       "        vertical-align: middle;\n",
       "    }\n",
       "\n",
       "    .dataframe tbody tr th {\n",
       "        vertical-align: top;\n",
       "    }\n",
       "\n",
       "    .dataframe thead th {\n",
       "        text-align: right;\n",
       "    }\n",
       "</style>\n",
       "<table border=\"1\" class=\"dataframe\">\n",
       "  <thead>\n",
       "    <tr style=\"text-align: right;\">\n",
       "      <th></th>\n",
       "      <th>Ones</th>\n",
       "      <th>Population</th>\n",
       "    </tr>\n",
       "  </thead>\n",
       "  <tbody>\n",
       "    <tr>\n",
       "      <th>0</th>\n",
       "      <td>1</td>\n",
       "      <td>6.1101</td>\n",
       "    </tr>\n",
       "    <tr>\n",
       "      <th>1</th>\n",
       "      <td>1</td>\n",
       "      <td>5.5277</td>\n",
       "    </tr>\n",
       "    <tr>\n",
       "      <th>2</th>\n",
       "      <td>1</td>\n",
       "      <td>8.5186</td>\n",
       "    </tr>\n",
       "    <tr>\n",
       "      <th>3</th>\n",
       "      <td>1</td>\n",
       "      <td>7.0032</td>\n",
       "    </tr>\n",
       "    <tr>\n",
       "      <th>4</th>\n",
       "      <td>1</td>\n",
       "      <td>5.8598</td>\n",
       "    </tr>\n",
       "  </tbody>\n",
       "</table>\n",
       "</div>"
      ],
      "text/plain": [
       "   Ones  Population\n",
       "0     1      6.1101\n",
       "1     1      5.5277\n",
       "2     1      8.5186\n",
       "3     1      7.0032\n",
       "4     1      5.8598"
      ]
     },
     "execution_count": 44,
     "metadata": {},
     "output_type": "execute_result"
    }
   ],
   "source": [
    "X.head()\n",
    "# referring to code segment 2, presents the first 5 entries of the X dataframe"
   ]
  },
  {
   "cell_type": "markdown",
   "metadata": {},
   "source": [
    "##### **Code segment no. 9** \n",
    "Presents the first 5 entries of a given dataframe"
   ]
  },
  {
   "cell_type": "code",
   "execution_count": 45,
   "metadata": {},
   "outputs": [
    {
     "data": {
      "text/html": [
       "<div>\n",
       "<style scoped>\n",
       "    .dataframe tbody tr th:only-of-type {\n",
       "        vertical-align: middle;\n",
       "    }\n",
       "\n",
       "    .dataframe tbody tr th {\n",
       "        vertical-align: top;\n",
       "    }\n",
       "\n",
       "    .dataframe thead th {\n",
       "        text-align: right;\n",
       "    }\n",
       "</style>\n",
       "<table border=\"1\" class=\"dataframe\">\n",
       "  <thead>\n",
       "    <tr style=\"text-align: right;\">\n",
       "      <th></th>\n",
       "      <th>Profit</th>\n",
       "    </tr>\n",
       "  </thead>\n",
       "  <tbody>\n",
       "    <tr>\n",
       "      <th>0</th>\n",
       "      <td>17.5920</td>\n",
       "    </tr>\n",
       "    <tr>\n",
       "      <th>1</th>\n",
       "      <td>9.1302</td>\n",
       "    </tr>\n",
       "    <tr>\n",
       "      <th>2</th>\n",
       "      <td>13.6620</td>\n",
       "    </tr>\n",
       "    <tr>\n",
       "      <th>3</th>\n",
       "      <td>11.8540</td>\n",
       "    </tr>\n",
       "    <tr>\n",
       "      <th>4</th>\n",
       "      <td>6.8233</td>\n",
       "    </tr>\n",
       "  </tbody>\n",
       "</table>\n",
       "</div>"
      ],
      "text/plain": [
       "    Profit\n",
       "0  17.5920\n",
       "1   9.1302\n",
       "2  13.6620\n",
       "3  11.8540\n",
       "4   6.8233"
      ]
     },
     "execution_count": 45,
     "metadata": {},
     "output_type": "execute_result"
    }
   ],
   "source": [
    "y.head()\n",
    "# referring to code segment 2 and 8, presents the first 5 entries of the y dataframe"
   ]
  },
  {
   "cell_type": "markdown",
   "metadata": {},
   "source": [
    "##### **Code segment no. 10**\n",
    "The matrix functions return a two-dimensional matrix based on given data."
   ]
  },
  {
   "cell_type": "code",
   "execution_count": 46,
   "metadata": {},
   "outputs": [],
   "source": [
    "X = np.matrix(X.values)\n",
    "# literally converts a dataframe into a matrix using numpy. .values is a function used to retrieve only values \n",
    "# not including labels and index.\n",
    "y = np.matrix(y.values)\n",
    "# literally converts y dataframe into a matrix. this allows matrix operations to be done.\n",
    "theta = np.matrix(np.array([0,0]))\n",
    "# creates a matrix called theta. the values of this matrix is filled using array [0,0]"
   ]
  },
  {
   "cell_type": "markdown",
   "metadata": {},
   "source": [
    "##### **Code segment no. 11**\n",
    "By entering the variable name, it returns the value of of the variable"
   ]
  },
  {
   "cell_type": "code",
   "execution_count": 47,
   "metadata": {},
   "outputs": [
    {
     "data": {
      "text/plain": [
       "matrix([[0, 0]])"
      ]
     },
     "execution_count": 47,
     "metadata": {},
     "output_type": "execute_result"
    }
   ],
   "source": [
    "theta\n",
    "# np.array would return an array, but in code segment 10, this array was immediately set as values for\n",
    "# a new matrix called theta. thus it shows matrix(with values 0,0) instead of array(with values 0,0)"
   ]
  },
  {
   "cell_type": "markdown",
   "metadata": {},
   "source": [
    "##### **Code segment no. 12**\n",
    "The shape function returns the size of the arrays based on the number of rows then columns."
   ]
  },
  {
   "cell_type": "code",
   "execution_count": 48,
   "metadata": {},
   "outputs": [
    {
     "data": {
      "text/plain": [
       "((97, 2), (1, 2), (97, 1))"
      ]
     },
     "execution_count": 48,
     "metadata": {},
     "output_type": "execute_result"
    }
   ],
   "source": [
    "X.shape, theta.shape, y.shape \n",
    "# if .shape function does not include index parameters like .shape[0] or .shape[1], it returns (rows,columns)"
   ]
  },
  {
   "cell_type": "markdown",
   "metadata": {},
   "source": [
    "##### **Code segment no. 13**\n",
    "Returns the computed cost using the earlier defined function"
   ]
  },
  {
   "cell_type": "code",
   "execution_count": 49,
   "metadata": {},
   "outputs": [
    {
     "data": {
      "text/plain": [
       "32.072733877455676"
      ]
     },
     "execution_count": 49,
     "metadata": {},
     "output_type": "execute_result"
    }
   ],
   "source": [
    "computeCost(X, y, theta)\n",
    "# computes the cost per value of X and per value of y using the previously entered formula. this is a lot of tedious math\n",
    "# so luckily we made a function for it. basically, computers J theta based on the X matrix, y matrix, and theta matrix."
   ]
  },
  {
   "cell_type": "markdown",
   "metadata": {},
   "source": [
    "##### **Code segment no. 14**\n",
    "This is where the gradient descent function is defined with 5 input parameters. In this function, the cost function is minimized."
   ]
  },
  {
   "cell_type": "code",
   "execution_count": 55,
   "metadata": {},
   "outputs": [],
   "source": [
    "def gradientDescent(X, y, theta, alpha, iters):\n",
    "    temp = np.matrix(np.zeros(theta.shape))\n",
    "    parameters = int(theta.ravel().shape[1])\n",
    "    cost = np.zeros(iters)\n",
    "    \n",
    "    for i in range(iters):\n",
    "        error = (X * theta.T) - y\n",
    "        \n",
    "        for j in range(parameters):\n",
    "            term = np.multiply(error, X[:,j])\n",
    "            temp[0,j] = theta[0,j] - ((alpha / len(X)) * np.sum(term))\n",
    "            \n",
    "        theta = temp\n",
    "        cost[i] = computeCost(X, y, theta)\n",
    "        #cost here is constantly computed after each attempt. theta is what is being adjusted to minimize cost.\n",
    "        \n",
    "    return theta, cost\n",
    "\n",
    "# again, this is a lot of math. gradient descent in its simplest form simply optimizes by repeatedly trying to minimize\n",
    "# cost. using this function it tries a number of times (iterations or iters variable). Each time it tries, it checks that\n",
    "# using this theta returns this amount of cost, mathematically (hence d formula) we have to adjust to identify a new theta\n",
    "# with the new theta, we check cost again.\n",
    "# a list of costs at each attempt is saved into the cost variable.\n",
    "# the theta, or the optimized weight of each variable, and the list of costs at each iteration is returned."
   ]
  },
  {
   "cell_type": "markdown",
   "metadata": {},
   "source": [
    "##### **Code segment no. 15**\n",
    "This is where our alpha and number of iterations is set into their respective variables."
   ]
  },
  {
   "cell_type": "code",
   "execution_count": 56,
   "metadata": {},
   "outputs": [],
   "source": [
    "alpha = 0.01\n",
    "# alpha is the learning rate. can be adjusted to any in how fast you want your function to learn.\n",
    "# too high learning rate means changes or adjustments are too big. this may lead to a sub-optimal (not best) solution.\n",
    "# too low learning rate means changes are too small. this may never arrive to a solution.\n",
    "iters = 1000\n",
    "# iters is the number of iterations or attempts this model will make."
   ]
  },
  {
   "cell_type": "markdown",
   "metadata": {},
   "source": [
    "##### **Code segment no. 16**\n",
    "Variables g and cost will be set to be equal to the return value of the gradientDescent function."
   ]
  },
  {
   "cell_type": "code",
   "execution_count": 57,
   "metadata": {},
   "outputs": [
    {
     "data": {
      "text/plain": [
       "matrix([[-3.24140214,  1.1272942 ]])"
      ]
     },
     "execution_count": 57,
     "metadata": {},
     "output_type": "execute_result"
    }
   ],
   "source": [
    "g, cost = gradientDescent(X, y, theta, alpha, iters)\n",
    "g\n",
    "# g in this case is the gradient, or the returned optimal theta. the best solution it could offer basically.\n",
    "# cost is simply the list of costs within the function. \n",
    "\n",
    "# why are there two costs? cost in the function segment 14 can only be access, viewed, manipulated WITHIN the function. \n",
    "# basically nobody else outside the function can see it, use it, or ever assess it. this is what we call a LOCAL variable.\n",
    "# cost in this line, on the other hand, can be accessed, viewed, and manipulated ANYWHERE in your program. basically,\n",
    "# everybody can see it, use it, or change it. this is what we call a GLOBAL variable"
   ]
  },
  {
   "cell_type": "markdown",
   "metadata": {},
   "source": [
    "##### **Code segment no. 17**\n",
    "The new compute cost is calculated using the computeCost function but using the value of g as a parameter instead of the previous theta."
   ]
  },
  {
   "cell_type": "code",
   "execution_count": 28,
   "metadata": {},
   "outputs": [
    {
     "data": {
      "text/plain": [
       "4.515955503078912"
      ]
     },
     "execution_count": 28,
     "metadata": {},
     "output_type": "execute_result"
    }
   ],
   "source": [
    "computeCost(X, y, g)\n",
    "# this attempt is to identify the error using the optimized (best solution) weights determined by the gradient descent.\n",
    "# g is the best fit with the least error across all points of the data."
   ]
  },
  {
   "cell_type": "markdown",
   "metadata": {},
   "source": [
    "##### **Code segment no. 18**\n",
    "A new prediction line is overlayed onto the previously used scatter plot. This prediction line is the linear regression using one variable which fit the provided dataset. The following lines simply properly formats the graph below."
   ]
  },
  {
   "cell_type": "code",
   "execution_count": 69,
   "metadata": {},
   "outputs": [
    {
     "data": {
      "text/plain": [
       "Text(0.5, 1.0, 'Predicted Profit vs. Population Size')"
      ]
     },
     "execution_count": 69,
     "metadata": {},
     "output_type": "execute_result"
    },
    {
     "data": {
      "image/png": "[encoded data removed]",
      "text/plain": [
       "<Figure size 864x576 with 1 Axes>"
      ]
     },
     "metadata": {
      "needs_background": "light"
     },
     "output_type": "display_data"
    }
   ],
   "source": [
    "x = np.linspace(data.Population.min(), data.Population.max(), 100)\n",
    "# based on documentation, this simply creates a list of values that is evenly spaced. like how we want numbers from \n",
    "# 1-10 to be evenly spaced by 2, we get 2,4,6,8,10. this function takes a starting point, end point, then spacing.\n",
    "\n",
    "f = g[0, 0] + (g[0, 1] * x)\n",
    "# f here is a line function in the form y = mx + b, where y = f, b = g[0,0], and m = g[0,1]. this is the red line.\n",
    "\n",
    "fig, ax = plt.subplots(figsize=(12,8))\n",
    "# creates a plot/graph called fig with its subplot called ax. subplot is a subclass of figures.\n",
    "\n",
    "ax.plot(x, f, 'r', label='Prediction')\n",
    "# the plot of ax (which is within fig) creates a line which takes the list of values x in the x-axis and f in the y-axis.\n",
    "# it is labeled as 'prediction'\n",
    "\n",
    "ax.scatter(data.Population, data.Profit, label='Traning Data')\n",
    "# creates another plot within fig. this time it creates a scatter plot, taking in population data in the x-axis and profit\n",
    "# in the y-axis\n",
    "\n",
    "ax.legend(loc=2)\n",
    "# creates a legend\n",
    "ax.set_xlabel('Population')\n",
    "# sets the label for the x-axis\n",
    "ax.set_ylabel('Profit')\n",
    "# sets label for the y-axis\n",
    "ax.set_title('Predicted Profit vs. Population Size')\n",
    "# sets title for the entire Figure called fig.\n"
   ]
  },
  {
   "cell_type": "markdown",
   "metadata": {},
   "source": [
    "##### **Code segment no. 19**\n",
    "This code presents the computed cost as it is being minimized through the number of iterations. This graph shows that as a thousand iterations is reached, the cost approaches 0."
   ]
  },
  {
   "cell_type": "code",
   "execution_count": 70,
   "metadata": {},
   "outputs": [
    {
     "data": {
      "text/plain": [
       "Text(0.5, 1.0, 'Error vs. Training Epoch')"
      ]
     },
     "execution_count": 70,
     "metadata": {},
     "output_type": "execute_result"
    },
    {
     "data": {
      "image/png": "[encoded data removed]",
      "text/plain": [
       "<Figure size 864x576 with 1 Axes>"
      ]
     },
     "metadata": {
      "needs_background": "light"
     },
     "output_type": "display_data"
    }
   ],
   "source": [
    "fig, ax = plt.subplots(figsize=(12,8))\n",
    "# creates a figure called fig, and a subplot ax. \n",
    "ax.plot(np.arange(iters), cost, 'r')\n",
    "# creates a plot within fig. np.arange(iters) creates a list of values from 0 to parameter. in this case, creates one from\n",
    "# 0 to 1000. then the y values are set to be cost (see segment 16). this graph will now show how cost changed per iteration.\n",
    "\n",
    "ax.set_xlabel('Iterations')\n",
    "# sets label of x-axis as iterations\n",
    "ax.set_ylabel('Cost')\n",
    "# sets label of y-axis as cost\n",
    "ax.set_title('Error vs. Training Epoch')\n",
    "# sets title of the figure"
   ]
  },
  {
   "cell_type": "markdown",
   "metadata": {},
   "source": [
    "#### Linear regression with multiple variables\n",
    "##### **Code segment no. 20**\n",
    "This section of code determines a path to a new dataset file labeled ex1data2.txt. This dataset is then formatted and read using the pandas library to be further manipulated."
   ]
  },
  {
   "cell_type": "code",
   "execution_count": 72,
   "metadata": {},
   "outputs": [
    {
     "data": {
      "text/html": [
       "<div>\n",
       "<style scoped>\n",
       "    .dataframe tbody tr th:only-of-type {\n",
       "        vertical-align: middle;\n",
       "    }\n",
       "\n",
       "    .dataframe tbody tr th {\n",
       "        vertical-align: top;\n",
       "    }\n",
       "\n",
       "    .dataframe thead th {\n",
       "        text-align: right;\n",
       "    }\n",
       "</style>\n",
       "<table border=\"1\" class=\"dataframe\">\n",
       "  <thead>\n",
       "    <tr style=\"text-align: right;\">\n",
       "      <th></th>\n",
       "      <th>Size</th>\n",
       "      <th>Bedrooms</th>\n",
       "      <th>Price</th>\n",
       "    </tr>\n",
       "  </thead>\n",
       "  <tbody>\n",
       "    <tr>\n",
       "      <th>0</th>\n",
       "      <td>2104</td>\n",
       "      <td>3</td>\n",
       "      <td>399900</td>\n",
       "    </tr>\n",
       "    <tr>\n",
       "      <th>1</th>\n",
       "      <td>1600</td>\n",
       "      <td>3</td>\n",
       "      <td>329900</td>\n",
       "    </tr>\n",
       "    <tr>\n",
       "      <th>2</th>\n",
       "      <td>2400</td>\n",
       "      <td>3</td>\n",
       "      <td>369000</td>\n",
       "    </tr>\n",
       "    <tr>\n",
       "      <th>3</th>\n",
       "      <td>1416</td>\n",
       "      <td>2</td>\n",
       "      <td>232000</td>\n",
       "    </tr>\n",
       "    <tr>\n",
       "      <th>4</th>\n",
       "      <td>3000</td>\n",
       "      <td>4</td>\n",
       "      <td>539900</td>\n",
       "    </tr>\n",
       "  </tbody>\n",
       "</table>\n",
       "</div>"
      ],
      "text/plain": [
       "   Size  Bedrooms   Price\n",
       "0  2104         3  399900\n",
       "1  1600         3  329900\n",
       "2  2400         3  369000\n",
       "3  1416         2  232000\n",
       "4  3000         4  539900"
      ]
     },
     "execution_count": 72,
     "metadata": {},
     "output_type": "execute_result"
    }
   ],
   "source": [
    "path = 'ex1data2.txt'\n",
    "# retrieves current working directory, then creates a path towards the specific file.\n",
    "\n",
    "data2 = pd.read_csv(path, header=None, names=['Size', 'Bedrooms', 'Price'])\n",
    "# reads a csv file in path called path. assigned with no headers but assigned with 3 column names.\n",
    "\n",
    "data2.head()\n",
    "# presents the first 5 data entries."
   ]
  },
  {
   "cell_type": "markdown",
   "metadata": {},
   "source": [
    "##### **Code segment no. 21**\n",
    "The Z-score for each entry is identified using the formula and stored in data2. Then the first 5 entries of the dataset are presented."
   ]
  },
  {
   "cell_type": "code",
   "execution_count": 73,
   "metadata": {},
   "outputs": [
    {
     "data": {
      "text/html": [
       "<div>\n",
       "<style scoped>\n",
       "    .dataframe tbody tr th:only-of-type {\n",
       "        vertical-align: middle;\n",
       "    }\n",
       "\n",
       "    .dataframe tbody tr th {\n",
       "        vertical-align: top;\n",
       "    }\n",
       "\n",
       "    .dataframe thead th {\n",
       "        text-align: right;\n",
       "    }\n",
       "</style>\n",
       "<table border=\"1\" class=\"dataframe\">\n",
       "  <thead>\n",
       "    <tr style=\"text-align: right;\">\n",
       "      <th></th>\n",
       "      <th>Size</th>\n",
       "      <th>Bedrooms</th>\n",
       "      <th>Price</th>\n",
       "    </tr>\n",
       "  </thead>\n",
       "  <tbody>\n",
       "    <tr>\n",
       "      <th>0</th>\n",
       "      <td>0.130010</td>\n",
       "      <td>-0.223675</td>\n",
       "      <td>0.475747</td>\n",
       "    </tr>\n",
       "    <tr>\n",
       "      <th>1</th>\n",
       "      <td>-0.504190</td>\n",
       "      <td>-0.223675</td>\n",
       "      <td>-0.084074</td>\n",
       "    </tr>\n",
       "    <tr>\n",
       "      <th>2</th>\n",
       "      <td>0.502476</td>\n",
       "      <td>-0.223675</td>\n",
       "      <td>0.228626</td>\n",
       "    </tr>\n",
       "    <tr>\n",
       "      <th>3</th>\n",
       "      <td>-0.735723</td>\n",
       "      <td>-1.537767</td>\n",
       "      <td>-0.867025</td>\n",
       "    </tr>\n",
       "    <tr>\n",
       "      <th>4</th>\n",
       "      <td>1.257476</td>\n",
       "      <td>1.090417</td>\n",
       "      <td>1.595389</td>\n",
       "    </tr>\n",
       "  </tbody>\n",
       "</table>\n",
       "</div>"
      ],
      "text/plain": [
       "       Size  Bedrooms     Price\n",
       "0  0.130010 -0.223675  0.475747\n",
       "1 -0.504190 -0.223675 -0.084074\n",
       "2  0.502476 -0.223675  0.228626\n",
       "3 -0.735723 -1.537767 -0.867025\n",
       "4  1.257476  1.090417  1.595389"
      ]
     },
     "execution_count": 73,
     "metadata": {},
     "output_type": "execute_result"
    }
   ],
   "source": [
    "data2 = (data2 - data2.mean()) / data2.std()\n",
    "# data is normalized through the Z-score. in size, changing from 2100 to 2104 may be a small difference\n",
    "# but in number of bedrooms, changing from 4 to 8 is an extremely large difference. using z-score equalizes the weight\n",
    "# relative to a data type. like how a grade changing from 98 to 100 is a big change but cost from P98.00 to P100.00 is \n",
    "# a small change. \n",
    "\n",
    "data2.head()\n",
    "# presents the first 5 data entries."
   ]
  },
  {
   "cell_type": "markdown",
   "metadata": {},
   "source": [
    "##### **Code segment no. 22**\n",
    "The insert function in this line adds a column labeled Ones with a value of 1 in the 0th column."
   ]
  },
  {
   "cell_type": "code",
   "execution_count": 74,
   "metadata": {},
   "outputs": [],
   "source": [
    "data2.insert(0, 'Ones', 1)\n",
    "# insert is a function under pandas (and numpy) which allows the manipulation of a dataframe. allows the inserting of an\n",
    "# entire column. this is done in this context to make matrix operations easier."
   ]
  },
  {
   "cell_type": "markdown",
   "metadata": {},
   "source": [
    "##### set X (training data) and y (target variable)"
   ]
  },
  {
   "cell_type": "code",
   "execution_count": 75,
   "metadata": {},
   "outputs": [],
   "source": [
    "cols = data2.shape[1]\n",
    "# gets the number of columns and saves it in cols variable.\n",
    "X2 = data2.iloc[:,0:cols-1]\n",
    "# gets all rows and columns from 0 to cols -1. saves it in X2\n",
    "y2 = data2.iloc[:,cols-1:cols]\n",
    "# gets all rows and columns from cols-1 to cols. saves it in y2"
   ]
  },
  {
   "cell_type": "markdown",
   "metadata": {},
   "source": [
    "##### convert to matrices and initialize theta"
   ]
  },
  {
   "cell_type": "code",
   "execution_count": 76,
   "metadata": {},
   "outputs": [],
   "source": [
    "X2 = np.matrix(X2.values)\n",
    "y2 = np.matrix(y2.values)\n",
    "theta2 = np.matrix(np.array([0,0,0]))\n",
    "# all values are convertied into matrices. \n",
    "#theta2 is now 0,0,0 compared to theta being 0,0. this is because there are 3 input variables instead of the previous 2."
   ]
  },
  {
   "cell_type": "markdown",
   "metadata": {},
   "source": [
    "##### perform linear regression on the data set"
   ]
  },
  {
   "cell_type": "code",
   "execution_count": 77,
   "metadata": {},
   "outputs": [],
   "source": [
    "g2, cost2 = gradientDescent(X2, y2, theta2, alpha, iters)\n",
    "# a lot of linear algebra. optimizes a solution for x2 and y2 to return to the optimal solution. \n",
    "# returns g2 as the best solution and a list of costs (cost2) of each iteration attempt."
   ]
  },
  {
   "cell_type": "markdown",
   "metadata": {},
   "source": [
    "##### get the cost (error) of the model"
   ]
  },
  {
   "cell_type": "code",
   "execution_count": 78,
   "metadata": {},
   "outputs": [
    {
     "data": {
      "text/plain": [
       "0.1307033696077189"
      ]
     },
     "execution_count": 78,
     "metadata": {},
     "output_type": "execute_result"
    }
   ],
   "source": [
    "computeCost(X2, y2, g2)\n",
    "# computes for the current cost based on the most optimal solution. g2 is the best solution wherein error (or called cost)\n",
    "# is minimized across all data points."
   ]
  },
  {
   "cell_type": "markdown",
   "metadata": {},
   "source": [
    "##### **Code segment no. 23**\n",
    "Similar to the linear regression with one variable, the cost here is once again minimized and presented as the number of iterations are increased."
   ]
  },
  {
   "cell_type": "code",
   "execution_count": 79,
   "metadata": {},
   "outputs": [
    {
     "data": {
      "text/plain": [
       "Text(0.5, 1.0, 'Error vs. Training Epoch')"
      ]
     },
     "execution_count": 79,
     "metadata": {},
     "output_type": "execute_result"
    },
    {
     "data": {
      "image/png": "[encoded data removed]",
      "text/plain": [
       "<Figure size 864x576 with 1 Axes>"
      ]
     },
     "metadata": {
      "needs_background": "light"
     },
     "output_type": "display_data"
    }
   ],
   "source": [
    "fig, ax = plt.subplots(figsize=(12,8))\n",
    "# creates figure called fig, with subplot called ax.\n",
    "\n",
    "ax.plot(np.arange(iters), cost2, 'r')\n",
    "\n",
    "# creates a plot with x values being everything from 0 to number of iterations, and with y values being the cost2 in each\n",
    "# attempted iteration.\n",
    "\n",
    "ax.set_xlabel('Iterations')\n",
    "ax.set_ylabel('Cost')\n",
    "ax.set_title('Error vs. Training Epoch')\n",
    "# sets x and y labels and the title for the figure."
   ]
  },
  {
   "cell_type": "markdown",
   "metadata": {},
   "source": [
    "##### **Code segment no. 24**\n",
    "This code segment creates a linear regression model based on the values of X and y using the sklearn library."
   ]
  },
  {
   "cell_type": "code",
   "execution_count": 81,
   "metadata": {},
   "outputs": [
    {
     "data": {
      "text/plain": [
       "LinearRegression()"
      ]
     },
     "execution_count": 81,
     "metadata": {},
     "output_type": "execute_result"
    }
   ],
   "source": [
    "from sklearn import linear_model\n",
    "# imports linear_model sublibrary from the sklearn library. similar to how ONLY pyplot is imported from the matplotlib library.\n",
    "model = linear_model.LinearRegression()\n",
    "#creates a model called model with datatype being LinearRegression()\n",
    "model.fit(X, y)\n",
    "# this linear model uses .fit function to create a fit prediction for the input parameters. X and y is the input parameters\n",
    "# in linear regression with 1 variable."
   ]
  },
  {
   "cell_type": "markdown",
   "metadata": {},
   "source": [
    "##### **Code segment no. 25**\n",
    "A predictive line is overlayed onto the scatter plot. The prediction line is the new linear regression using multiple variables compared to the scatter plot of the given data."
   ]
  },
  {
   "cell_type": "code",
   "execution_count": 94,
   "metadata": {},
   "outputs": [
    {
     "data": {
      "text/plain": [
       "Text(0.5, 1.0, 'Predicted Profit vs. Population Size')"
      ]
     },
     "execution_count": 94,
     "metadata": {},
     "output_type": "execute_result"
    },
    {
     "data": {
      "image/png": "[encoded data removed]",
      "text/plain": [
       "<Figure size 864x576 with 1 Axes>"
      ]
     },
     "metadata": {
      "needs_background": "light"
     },
     "output_type": "display_data"
    }
   ],
   "source": [
    "x = np.array(X[:, 1].A1)\n",
    "f = model.predict(X).flatten()\n",
    "# creates an array of datapoints including all rows and column 1.\n",
    "# creates a predicted line (list of y values) using the .predict function.\n",
    "\n",
    "fig, ax = plt.subplots(figsize=(12,8))\n",
    "ax.plot(x, f, 'r', label='Prediction')\n",
    "ax.scatter(data.Population, data.Profit, label='Traning Data')\n",
    "ax.legend(loc=2)\n",
    "ax.set_xlabel('Population')\n",
    "ax.set_ylabel('Profit')\n",
    "ax.set_title('Predicted Profit vs. Population Size')\n",
    "# displays all relevant data exactly the same as segment 18. but the prediction line is done automatically\n",
    "# using the .fit function within sklearn."
   ]
  }
 ],
 "metadata": {
  "kernelspec": {
   "display_name": "Python 3",
   "language": "python",
   "name": "python3"
  },
  "language_info": {
   "codemirror_mode": {
    "name": "ipython",
    "version": 3
   },
   "file_extension": ".py",
   "mimetype": "text/x-python",
   "name": "python",
   "nbconvert_exporter": "python",
   "pygments_lexer": "ipython3",
   "version": "3.8.3"
  }
 },
 "nbformat": 4,
 "nbformat_minor": 4
}
